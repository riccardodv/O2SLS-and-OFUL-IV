{
 "cells": [
  {
   "cell_type": "markdown",
   "metadata": {},
   "source": [
    "### Compute IV-O2SLS"
   ]
  },
  {
   "cell_type": "markdown",
   "metadata": {},
   "source": [
    "### TODO\n",
    "\n",
    "- try different noises rand and randn -> understand what happens when you put everywhere rand and ground truth is worse that 2SLS and OLS\n",
    "- try to implement the same but for bandits \n",
    "- why on cumulative regret when I plot it for the ground truth I dont see a straight line through zero? check that and check if the cumulative regret plots are sound.\n",
    "- think if you can improve the the self-fulfilling bias term analysis by using Jensen and making the summation inside sqrt and trying to find a covariance between epsilon and eta\n",
    "- find range of parameters where 2SLS is clearly better than OLS "
   ]
  },
  {
   "cell_type": "code",
   "execution_count": 1,
   "metadata": {},
   "outputs": [],
   "source": [
    "import numpy as np\n",
    "from scipy.stats import t as t_law\n",
    "import matplotlib.pyplot as plt\n",
    "# plt.style.use(\"ggplot\")\n",
    "# folder = \"xps/RidgeForwardComparison/\"\n",
    "\n",
    "colors = ['#377eb8', '#ff7f00', '#4daf4a','#f781bf', '#a65628', '#984ea3','#999999', '#e41a1c', '#dede00']\n",
    "s_colors = ['#377eb8', '#ff7f00', '#4daf4a','#f781bf', '#a65628', '#984ea3','#999999', '#e41a1c', '#dede00']"
   ]
  },
  {
   "cell_type": "code",
   "execution_count": 17,
   "metadata": {},
   "outputs": [
    {
     "name": "stdout",
     "output_type": "stream",
     "text": [
      "beta =  [10.23455829 10.17976983 10.17704777  9.96609844 10.08314598  8.77352917\n",
      " 11.04202281  8.61649528  8.94530826  8.90828868  9.55505116  8.74757433\n",
      "  9.84383922  9.586575   11.1222004  10.51215917  9.24213412  9.97791469\n",
      "  8.34490176  9.98305621] \n",
      "theta =  [[ 1.12401467e-01 -6.97897400e-01 -1.28205488e+00  4.58555520e-01\n",
      "  -9.50947834e-01  1.16085325e+00  1.15383570e+00 -7.48243694e-03\n",
      "  -5.00208595e-01  1.13845980e+00  1.57115966e-01  1.17476674e+00\n",
      "  -7.11023903e-01  1.26557246e+00 -5.90826832e-02 -1.00099382e+00\n",
      "   3.11080653e-01  3.47819758e-02 -6.92239028e-01 -6.39223535e-01]\n",
      " [-6.49920695e-01  1.91741793e+00 -7.37923884e-02  8.52500429e-01\n",
      "   3.71734989e-01 -6.63069213e-01  2.97207734e-01  3.41943917e-01\n",
      "   9.88565686e-01  1.33971918e-03  5.20665584e-01 -8.29869203e-01\n",
      "   6.03999065e-01  6.34650136e-01  5.75105525e-01 -4.04120856e-01\n",
      "  -2.61494832e-01  4.01207458e-01  1.46912618e+00 -2.25574156e+00]\n",
      " [ 1.22885677e+00  2.82111782e-01  2.29291464e-02  2.83817841e-01\n",
      "  -1.45185939e+00 -7.76218388e-01 -1.16759935e+00  4.02006878e-02\n",
      "  -4.37346039e-01 -9.53761154e-01  8.48744718e-01  9.85421269e-01\n",
      "  -2.06239355e-01 -1.09830533e+00 -2.53769229e-01  1.24722013e+00\n",
      "  -6.93023071e-01 -2.72191361e-01 -6.51426651e-01  6.80629099e-01]\n",
      " [-6.20286292e-01  7.16027133e-01 -2.62816696e-01  5.16808856e-02\n",
      "   9.12059719e-01  4.41530559e-02  1.41954845e+00  1.95828922e+00\n",
      "   1.90450398e+00  7.62152627e-01 -5.74553467e-01  2.82089934e-01\n",
      "  -4.45287020e-01  3.82588396e-01  1.20111832e+00  7.24808039e-01\n",
      "  -3.17158267e-01 -1.61621350e-01  5.55519984e-01 -1.55725683e+00]\n",
      " [-8.32629735e-01 -1.93470570e+00  6.73004571e-01 -8.91868134e-01\n",
      "  -1.07350946e+00  7.20148709e-01  7.31239189e-01 -6.18444257e-01\n",
      "  -8.40609368e-01  6.64321061e-02  5.50996860e-01 -1.34366734e+00\n",
      "   4.62605055e-01 -9.75978449e-01  5.75630115e-01  1.50126183e+00\n",
      "  -3.22209053e-02 -8.46918810e-01 -1.04092821e+00 -5.61795395e-03]\n",
      " [-9.51105803e-01  1.42501332e-02  1.53679953e+00  1.86796743e+00\n",
      "  -3.98118214e-01  3.04503077e-01  1.11078956e+00  2.49220916e+00\n",
      "   1.04789997e-03 -7.47909751e-01  4.06160267e-01  3.45036625e-02\n",
      "  -5.08940840e-01  5.40342831e-01 -1.96737822e-02  2.38664583e-01\n",
      "  -1.89589230e+00 -4.20200699e-01  7.83285425e-02  1.50855290e+00]\n",
      " [ 1.65885778e+00  4.82841268e-01 -1.70599533e+00 -1.99058178e-01\n",
      "  -6.86348702e-01 -5.46999655e-01 -4.14686920e-01 -1.17161055e+00\n",
      "  -1.12460129e+00 -8.67259455e-01  4.39189333e-01  4.23675527e-01\n",
      "  -2.80335554e-01 -1.16732360e+00 -9.41117971e-01  2.10697239e-01\n",
      "  -3.96185120e-01  2.89100370e-01 -5.68038985e-01 -1.02969291e+00]\n",
      " [-5.54457142e-01  7.16612975e-01  1.71454088e+00 -2.92413222e-01\n",
      "   9.36644714e-01  6.98380462e-01 -1.43007238e+00 -5.59388258e-02\n",
      "   3.19168924e-01 -1.18883081e+00  4.87358738e-01  3.85681264e-01\n",
      "   1.31236068e+00 -4.31175833e-01 -1.09608577e+00  6.48517862e-01\n",
      "   1.32379285e-01  2.57585532e-01  4.36228462e-01  1.65062225e-01]\n",
      " [-1.91879508e+00 -1.46619755e-01 -1.08305402e+00  1.93162852e+00\n",
      "  -4.18676376e-01 -9.55823132e-02  6.49220950e-01 -7.11953813e-01\n",
      "   5.57646425e-01  1.66254056e+00  1.71496188e+00 -6.65151288e-02\n",
      "   6.37716225e-01 -3.24283933e-01 -3.09692425e+00 -5.25774665e-01\n",
      "   7.29283377e-01 -1.17257013e+00  4.15558749e-01 -1.54899429e+00]\n",
      " [-2.42758422e-01 -1.09476609e+00 -1.33128232e+00 -2.32725977e-01\n",
      "  -1.99829255e+00 -5.82503600e-01 -6.65007336e-01  9.52786734e-01\n",
      "  -1.22355264e+00  1.49254025e+00 -1.14131581e+00 -1.02631027e+00\n",
      "   4.80304042e-01 -3.07088619e-01  4.81447487e-01 -1.34976359e+00\n",
      "  -1.37255717e+00  1.60492572e+00  6.87309412e-01 -5.34660826e-01]\n",
      " [ 2.00294967e-01 -8.80027030e-01 -1.89984147e-02  1.43937045e+00\n",
      "   4.13733841e-01 -7.63111969e-01 -9.03041009e-01 -3.36676556e-01\n",
      "   1.12215779e+00  6.60835347e-01 -7.44702391e-01  1.09632063e+00\n",
      "   2.69161639e-01  5.73651187e-01  7.16130268e-01  1.24368971e+00\n",
      "  -4.08228930e-01  7.66012644e-01 -3.58347730e-02  1.28783226e+00]\n",
      " [-9.53683216e-01 -6.67201547e-01  1.01442252e+00  1.76251908e-01\n",
      "  -3.68771473e-01  1.54557223e+00 -1.71042147e-01  7.69230589e-01\n",
      "   1.64077064e+00  3.23921781e-01 -5.13590405e-01  3.13555440e-01\n",
      "   3.58888726e-01 -3.88960285e-01  4.13406059e-01  1.01926657e-01\n",
      "  -6.99707416e-01 -4.15039729e-01  1.02869106e+00  1.07935994e+00]\n",
      " [-1.08059444e-01 -9.03827293e-01  2.89358326e+00 -5.57113203e-01\n",
      "  -1.84670574e-01 -1.85703629e+00 -7.96976712e-01 -6.71376387e-01\n",
      "  -6.53062316e-01 -3.31666333e-01  5.28505616e-01  8.22430670e-01\n",
      "  -3.57363956e-01  3.73676514e-01  9.35862796e-01 -1.50832623e+00\n",
      "   1.45930769e+00 -5.77815891e-01  1.25916907e+00  1.36312421e+00]\n",
      " [ 4.08947379e-01  1.38817466e+00  2.74297055e+00 -1.10260671e+00\n",
      "  -1.33773386e+00  2.24595161e+00 -1.43482918e+00 -6.25461500e-02\n",
      "  -7.80488789e-01 -9.34330526e-01  1.10785087e+00  2.04286088e+00\n",
      "  -1.61000674e+00  2.93848492e-01  3.85684889e-01 -1.02565405e+00\n",
      "  -3.82260500e-01 -2.28546020e+00  1.53184362e+00  1.19942165e+00]\n",
      " [-2.74744758e-01 -1.20431046e+00  2.17643960e-01  1.44666744e+00\n",
      "  -2.79577594e-01 -7.05098081e-01 -6.02065463e-02  3.11262253e-01\n",
      "  -6.01344020e-01 -9.71139320e-01 -4.51219275e-01  7.07989460e-01\n",
      "  -5.22651514e-01  6.32674873e-01 -7.95678296e-01 -1.19274069e+00\n",
      "   7.09915290e-01 -3.77324744e-02  3.84029118e-01 -5.49221696e-01]\n",
      " [-1.20804928e+00  1.93426610e+00 -1.09814397e+00 -3.32948518e-01\n",
      "  -7.63855318e-01 -2.53479704e-01  3.18638504e-01  3.05045876e-01\n",
      "   2.84001967e+00 -8.01840367e-01  8.00517070e-02  9.25054939e-01\n",
      "  -2.68369848e-01  1.24985010e+00 -2.44891479e+00 -1.23911065e+00\n",
      "  -1.10075036e+00  9.57572376e-01 -1.47681617e+00 -4.73563782e-01]\n",
      " [-4.77786759e-01  1.60575647e+00 -1.12976769e+00 -1.43630655e-01\n",
      "  -5.44793303e-01 -1.67649226e+00 -1.21451147e+00 -3.08208292e-01\n",
      "   1.62021612e+00 -7.44932957e-02 -4.20585655e-01 -4.24807965e-01\n",
      "   9.28414803e-01  1.24763701e+00  1.14018047e+00  3.03924485e-01\n",
      "  -1.05853772e-01  6.70009627e-01 -1.11889499e+00 -4.23297033e-01]\n",
      " [-4.04643779e-01 -9.64522966e-01 -3.02130832e+00 -5.75119500e-01\n",
      "  -4.28219404e-01  1.64902034e+00 -4.34962798e-01 -3.84884435e-02\n",
      "  -1.59863432e+00  1.06414441e+00  1.13123978e+00 -8.66611984e-01\n",
      "   6.37627735e-01 -4.43982119e-01  3.39940559e-01  3.70123341e-01\n",
      "  -3.90496811e-01 -1.45626968e+00  7.41166031e-01  8.59711954e-01]\n",
      " [ 1.10884977e+00 -4.66660851e-02  4.69828752e-02 -5.20435060e-01\n",
      "   9.42834359e-01 -1.50247345e+00 -6.80667775e-01  1.44610965e-01\n",
      "   1.71734755e+00 -1.80834164e-01 -7.88733232e-01 -1.26480984e+00\n",
      "  -6.19688698e-01 -1.24259894e+00  9.96720272e-02 -9.42855446e-01\n",
      "   6.66666288e-02 -1.11709819e+00 -3.57170118e-01  6.78280248e-02]\n",
      " [-1.45135577e+00  7.13563270e-01  1.26254913e+00 -6.55906092e-01\n",
      "  -3.83305785e-01  1.78075153e+00 -5.78322364e-01  4.83431381e-01\n",
      "   1.52004519e+00  1.41563843e+00 -6.79390893e-02  4.44130116e-01\n",
      "  -2.61312858e-01 -1.01712667e+00  4.00860749e-01  7.35649373e-01\n",
      "  -1.18691623e+00  4.91266309e-01  9.28757606e-02 -4.06364369e-01]]\n"
     ]
    }
   ],
   "source": [
    "## PARAMETERS \n",
    "n_iters = 100\n",
    "T = 200\n",
    "sigma =1.\n",
    "# index_reg=3\n",
    "d, lamda = 20, .1 #lamdas[index_reg]  # coordinate dimension, regularization\n",
    "methods = ['Ridge','2SLS','Oracle']  # 'Oracle' is using the true parameter\n",
    "online_loss = np.zeros((n_iters, len(methods), T))\n",
    "# fst_terms = np.zeros((n_iters, len(methods), T))\n",
    "# scd_terms = np.zeros((n_iters, len(methods), T))\n",
    "\n",
    "theta_star = np.random.randn(d,d)\n",
    "# theta_star = np.eye(d,d)\n",
    "beta_star = np.random.multivariate_normal([10],[[1]],d).reshape(-1,)\n",
    "print(\"beta = \", beta_star, \"\\ntheta = \", theta_star)"
   ]
  },
  {
   "cell_type": "code",
   "execution_count": 21,
   "metadata": {},
   "outputs": [],
   "source": [
    "store_betas = np.zeros((len(methods), n_iters, d))\n",
    "\n",
    "# Run\n",
    "for it in range(n_iters):  # iterations to average the effect of noise\n",
    "    \n",
    "    # INITIALIZE\n",
    "    thetas = np.zeros((len(methods),d,d))\n",
    "    thetas[-1] = theta_star\n",
    "    betas = np.zeros((len(methods),d))\n",
    "    betas[-1] = beta_star\n",
    "    GXXinv = np.eye(d)/lamda\n",
    "    GZXinv = np.eye(d)/lamda\n",
    "    # GZXinv = np.zeros((d,d))\n",
    "    GZX = np.zeros((d,d))\n",
    "    GXX = np.zeros((d,d))\n",
    "\n",
    "    ## MODEL \n",
    "    # first stage\n",
    "    Z = np.random.randn(T,d)\n",
    "    eps = np.random.randn(T, d)\n",
    "    # eps = np.zeros((T,d))\n",
    "    X = np.dot(Z, theta_star) + eps\n",
    "    # second stage\n",
    "    eta_tilde = sigma*np.random.randn(T)\n",
    "    # eta = eta_tilde + np.linalg.norm(eps, axis=1)  \n",
    "    eta = eta_tilde + eps[:,0] + eps[:,1] + eps[:,2]\n",
    "    y = np.dot(X, beta_star) + eta\n",
    "\n",
    "    # some bounds\n",
    "    L_Z, L_X, L_y = max(np.linalg.norm(Z, axis=1)), max(np.linalg.norm(X, axis=1)), max(abs(y))  # signal level\n",
    "\n",
    "    # start online regression for T rounds\n",
    "    for t in range(T):\n",
    "        z_t, x_t, y_t = Z[t], X[t], y[t]\n",
    "        # update online losses\n",
    "        online_loss[it, :, t] = (np.dot(betas, x_t) - y_t)**2\n",
    "\n",
    "        ## RIDGE REGRESSION \n",
    "        update_beta_ridge = np.dot(GXXinv, np.dot(np.outer(x_t, x_t), betas[0]) - y_t*x_t) # G_{XX,t}^{-1} x_t x_t^T beta - y_t x_t\n",
    "        if t<T-1:\n",
    "            GXX += np.outer(x_t, x_t)\n",
    "            _XGinvX = np.inner(X[t+1], np.dot(GXXinv, X[t+1]))  # x_{t+1}^T G_{XX,t}^{-1} x_{t+1}\n",
    "            new_GXXinv = GXXinv - np.dot(GXXinv, np.dot(np.outer(X[t+1], X[t+1]), GXXinv))/(1+_XGinvX)  \n",
    "        betas[0] -= update_beta_ridge  \n",
    "        GXXinv = new_GXXinv\n",
    "\n",
    "        ### IV-O2SLS\n",
    "        # update_beta_O2SLS = np.dot(GZXinv, np.dot(np.outer(z_t, x_t), betas[1]) - y_t*z_t)\n",
    "        # if t<T-1:\n",
    "        #     GZX += np.outer(z_t, x_t)\n",
    "        #     _XGinvZ = np.inner(X[t+1], np.dot(GZXinv, Z[t+1]))  # z_{t+1}^T G_{XX,t}^{-1} x_{t+1}\n",
    "        #     new_GZXinv = GZXinv - np.dot(GZXinv, np.dot(np.outer(X[t+1], Z[t+1]), GZXinv))/(1+_XGinvZ) \n",
    "        # betas[1] -= update_beta_O2SLS\n",
    "        # GZXinv = new_GZXinv\n",
    "\n",
    "        ### IV-O2SLS\n",
    "        # update_beta_O2SLS = np.dot(GZXinv, np.dot(np.outer(z_t, x_t), betas[1]) - y_t*z_t)\n",
    "        # if t == 0:\n",
    "        #     new_GZXinv = np.linalg.inv(np.outer(z_t, x_t) + np.eye(d)*1e-10)\n",
    "        #     # GZX += np.outer(z_t, x_t)\n",
    "        # if 0<t<T-1:\n",
    "        #     # GZX += np.outer(z_t, x_t)\n",
    "        #     _XGinvZ = np.inner(X[t+1],np.dot(GZXinv, Z[t+1]))  # z_{t+1}^T G_{XX,t}^{-1} x_{t+1}\n",
    "        #     new_GZXinv = GZXinv - np.dot(GZXinv, np.dot(np.outer(X[t+1], Z[t+1]), GZXinv))/(1+_XGinvZ) \n",
    "        # betas[1] -= update_beta_O2SLS\n",
    "        # GZXinv = new_GZXinv\n",
    "\n",
    "        ### IV-O2SLS\n",
    "        # update_beta_O2SLS = np.dot(GZXinv, np.dot(np.outer(z_t, x_t), betas[1]) - y_t*z_t) # first piece is small second is big\n",
    "        # lim = 999\n",
    "        # if t < lim:\n",
    "        #    GZX += np.outer(z_t, x_t)\n",
    "        # if t == lim:\n",
    "        #     GZXinv = np.linalg.inv(GZX + np.outer(z_t, x_t))\n",
    "        # if lim<t<T-1:\n",
    "        #     _XGinvZ = np.inner(X[t+1],np.dot(GZXinv, Z[t+1]))  # z_{t+1}^T G_{XX,t}^{-1} x_{t+1}\n",
    "        #     new_GZXinv = GZXinv - np.dot(GZXinv, np.dot(np.outer(X[t+1], Z[t+1]), GZXinv))/(1+_XGinvZ) \n",
    "        #     GZXinv = new_GZXinv\n",
    "        # betas[1] -= update_beta_O2SLS\n",
    "\n",
    "        ## IV-O2SLS expensive computation\n",
    "        _Z, _X, _y = Z[:t+1,:], X[:t+1,:], y[:t+1]\n",
    "        betas[1] = np.linalg.inv(_Z.T @ _X + 1e-4*np.eye(d)) @ _Z.T @ _y\n",
    "\n",
    "\n",
    "    store_betas[0, it, :] = betas[0]\n",
    "    store_betas[1, it, :] = betas[1]\n",
    "    store_betas[2, it, :] = betas[2]"
   ]
  },
  {
   "cell_type": "code",
   "execution_count": 22,
   "metadata": {},
   "outputs": [
    {
     "name": "stdout",
     "output_type": "stream",
     "text": [
      "||beta - mean_s|| =  0.0 \tbeta =  [10.23455829 10.17976983 10.17704777  9.96609844 10.08314598  8.77352917\n",
      " 11.04202281  8.61649528  8.94530826  8.90828868  9.55505116  8.74757433\n",
      "  9.84383922  9.586575   11.1222004  10.51215917  9.24213412  9.97791469\n",
      "  8.34490176  9.98305621] \t\tstd= [1.77635684e-14 0.00000000e+00 0.00000000e+00 1.77635684e-14\n",
      " 1.24344979e-14 1.77635684e-14 5.32907052e-15 1.24344979e-14\n",
      " 8.88178420e-15 1.59872116e-14 1.42108547e-14 1.95399252e-14\n",
      " 1.24344979e-14 1.95399252e-14 3.01980663e-14 1.95399252e-14\n",
      " 1.06581410e-14 1.24344979e-14 3.55271368e-15 1.06581410e-14]\n",
      "||beta - mean_r|| =  0.5608 \tbeta_r =  [10.45691543 10.51240625 10.82532162 10.45551183 10.47624786  9.02845011\n",
      " 11.17129592  8.72817307  8.41084523  9.00783285  8.67658392  8.84347244\n",
      " 10.6290051   9.28170221 11.71825426  9.7611793   9.17088279  9.3422943\n",
      "  7.48630222  9.5540544 ] \tstd= [0.690809   0.48787149 0.35760119 0.49788581 0.45593791 0.36779605\n",
      " 0.5336471  0.47102845 0.43673525 0.46283071 0.74272185 0.58968951\n",
      " 0.71656542 0.67118101 0.43044308 0.47004258 0.55816925 0.52387935\n",
      " 0.57575423 0.45721558]\n",
      "||beta - mean_IV|| =  0.0556 \tbeta_IV =  [10.28487562 10.04562215 10.0715794   9.96462801 10.08255894  8.85076151\n",
      " 11.06333206  8.6312691   9.07511684  8.74347709  9.77186423  8.80141668\n",
      "  9.84950106  9.47654724 11.23739332 10.41295094  9.21352274 10.11458086\n",
      "  8.40498666 10.01249755] \tstd= [0.14450965 0.12888191 0.06357921 0.08192689 0.12532205 0.07973226\n",
      " 0.14028225 0.13571374 0.1117474  0.08354178 0.1990182  0.20329993\n",
      " 0.26199878 0.17723303 0.12686497 0.17128715 0.20785397 0.17819818\n",
      " 0.14917661 0.0915109 ]\n",
      "L_Z is:  6.1303\n",
      "L_X is:  35.8341\n",
      "L_y is:  549.4996\n",
      "max |eta_t| is:  5.63624677074422\n",
      "['Ridge', '2SLS', 'Oracle']\n",
      "[2.25921267 0.43753151 0.        ]\n"
     ]
    }
   ],
   "source": [
    "# Here I make comparisons with mean values for different iterations and final estimates of beta\n",
    "\n",
    "mean_beta_ridge = store_betas[0, :, :].mean(axis=0)\n",
    "std_beta_ridge = store_betas[0, :, :].std(axis=0)\n",
    "mean_beta_2SLS = store_betas[1, :, :].mean(axis=0)\n",
    "std_beta_2SLS = store_betas[1, :, :].std(axis=0)\n",
    "mean_beta_star = store_betas[2, :, :].mean(axis=0)\n",
    "std_beta_star = store_betas[2, :, :].std(axis=0)\n",
    "\n",
    "print(\"||beta - mean_s|| = \", round(np.linalg.norm(beta_star-mean_beta_star),4), \"\\tbeta = \", beta_star, \"\\t\\tstd=\", std_beta_star)\n",
    "print(\"||beta - mean_r|| = \", round(np.linalg.norm(beta_star-mean_beta_ridge),4),  \"\\tbeta_r = \", betas[0], \"\\tstd=\", std_beta_ridge)\n",
    "print(\"||beta - mean_IV|| = \", round(np.linalg.norm(beta_star-mean_beta_2SLS),4), \"\\tbeta_IV = \", betas[1], \"\\tstd=\", std_beta_2SLS)\n",
    "print(\"L_Z is: \", round(L_Z,4))\n",
    "print(\"L_X is: \", round(L_X,4))\n",
    "print(\"L_y is: \",round(L_y,4))\n",
    "print(\"max |eta_t| is: \", max(abs(eta)))\n",
    "print(methods)\n",
    "print(np.sqrt(((betas-beta_star)**2).sum(axis=1)))"
   ]
  },
  {
   "cell_type": "code",
   "execution_count": 23,
   "metadata": {},
   "outputs": [
    {
     "name": "stdout",
     "output_type": "stream",
     "text": [
      "||beta|| =  43.4806 \t\tbeta =  [10.23455829 10.17976983 10.17704777  9.96609844 10.08314598  8.77352917\n",
      " 11.04202281  8.61649528  8.94530826  8.90828868  9.55505116  8.74757433\n",
      "  9.84383922  9.586575   11.1222004  10.51215917  9.24213412  9.97791469\n",
      "  8.34490176  9.98305621]\n",
      "||beta-mean_r|| =  2.2592 \tbeta_r =  [10.45691543 10.51240625 10.82532162 10.45551183 10.47624786  9.02845011\n",
      " 11.17129592  8.72817307  8.41084523  9.00783285  8.67658392  8.84347244\n",
      " 10.6290051   9.28170221 11.71825426  9.7611793   9.17088279  9.3422943\n",
      "  7.48630222  9.5540544 ]\n",
      "||beta-mean_IV|| =  0.4375 \tbeta_IV =  [10.28487562 10.04562215 10.0715794   9.96462801 10.08255894  8.85076151\n",
      " 11.06333206  8.6312691   9.07511684  8.74347709  9.77186423  8.80141668\n",
      "  9.84950106  9.47654724 11.23739332 10.41295094  9.21352274 10.11458086\n",
      "  8.40498666 10.01249755]\n",
      "L_Z is:  6.1303\n",
      "L_X is:  35.8341\n",
      "L_y is:  549.4996\n",
      "max |eta_t| is:  5.63624677074422\n",
      "['Ridge', '2SLS', 'Oracle']\n",
      "[2.25921267 0.43753151 0.        ]\n"
     ]
    }
   ],
   "source": [
    "# here beta \n",
    "\n",
    "print(\"||beta|| = \", round(np.linalg.norm(beta_star),4), \"\\t\\tbeta = \", beta_star)\n",
    "print(\"||beta-mean_r|| = \", round(np.linalg.norm(beta_star-betas[0]),4),  \"\\tbeta_r = \", betas[0],)\n",
    "print(\"||beta-mean_IV|| = \", round(np.linalg.norm(beta_star-betas[1]),4), \"\\tbeta_IV = \", betas[1])\n",
    "print(\"L_Z is: \", round(L_Z,4))\n",
    "print(\"L_X is: \", round(L_X,4))\n",
    "print(\"L_y is: \",round(L_y,4))\n",
    "print(\"max |eta_t| is: \", max(abs(eta)))\n",
    "print(methods)\n",
    "print(np.sqrt(((betas-beta_star)**2).sum(axis=1)))"
   ]
  },
  {
   "cell_type": "code",
   "execution_count": 24,
   "metadata": {},
   "outputs": [],
   "source": [
    "# compute mean and std online losses\n",
    "mean_online_loss = np.mean(online_loss, axis=0)\n",
    "std_online_loss = np.std(online_loss, axis=0)"
   ]
  },
  {
   "cell_type": "markdown",
   "metadata": {},
   "source": [
    "### Online Loss plots\n",
    "\n",
    "We plot the  online loss $\\left( \\left\\langle x_s, \\beta_s^\\bullet\\right\\rangle - y_s \\right)^2 $ averarged over the iterations and where $\\beta_s^\\bullet$ is the Ridge or the 2SLS estimator:\n",
    "\n"
   ]
  },
  {
   "cell_type": "code",
   "execution_count": 25,
   "metadata": {},
   "outputs": [
    {
     "data": {
      "image/png": "[encoded data removed]",
      "text/plain": [
       "<Figure size 432x288 with 1 Axes>"
      ]
     },
     "metadata": {
      "needs_background": "light"
     },
     "output_type": "display_data"
    }
   ],
   "source": [
    "for i in range(len(methods)):\n",
    "    plt.plot(np.arange(T), mean_online_loss[i], color=colors[i], label=methods[i])\n",
    "    plt.fill_between(np.arange(T), mean_online_loss[i] - std_online_loss[i], mean_online_loss[i] + std_online_loss[i], color=s_colors[i],alpha=0.2)\n",
    "plt.yscale('log')\n",
    "# plt.xlim(-0.,50)\n",
    "plt.legend()\n",
    "plt.savefig(\"IV_online_reg.pdf\", format='pdf')"
   ]
  },
  {
   "cell_type": "markdown",
   "metadata": {},
   "source": [
    "### Istantaneous Regret plots\n",
    "\n",
    "We can also plot the difference with the ground truth estimator $\\left( \\left\\langle x_t, \\beta_t\\right\\rangle - y_t \\right)^2 - \\left( \\left\\langle x_t, \\beta \\right\\rangle - y_t \\right)^2\n",
    "$"
   ]
  },
  {
   "cell_type": "code",
   "execution_count": 26,
   "metadata": {},
   "outputs": [
    {
     "data": {
      "text/plain": [
       "<matplotlib.legend.Legend at 0x7f5bb02e0580>"
      ]
     },
     "execution_count": 26,
     "metadata": {},
     "output_type": "execute_result"
    },
    {
     "data": {
      "image/png": "[encoded data removed]",
      "text/plain": [
       "<Figure size 432x288 with 1 Axes>"
      ]
     },
     "metadata": {
      "needs_background": "light"
     },
     "output_type": "display_data"
    }
   ],
   "source": [
    "for i in range(len(methods)):\n",
    "    plt.plot(mean_online_loss[i] - mean_online_loss[-1], color=colors[i], label=methods[i])\n",
    "    # plt.fill_between(np.arange(T), mean_online_loss[i] - mean_online_loss[-1] - std_online_loss[i], mean_online_loss[i]- mean_online_loss[-1] + std_online_loss[i], color=s_colors[i],alpha=0.2)\n",
    "plt.yscale('symlog')\n",
    "# plt.ylim(-10,10)\n",
    "plt.legend()"
   ]
  },
  {
   "cell_type": "markdown",
   "metadata": {},
   "source": [
    "### Cumulative Regret plots\n",
    "\n",
    "The cumulative regret is instead:\n",
    "$$\n",
    "    \\sum_{s=1}^t \\left( \\left\\langle x_s, \\beta_s\\right\\rangle - y_s \\right)^2 - \\sum_{s=1}^t \\left( \\left\\langle x_s, \\beta \\right\\rangle - y_s \\right)^2\n",
    "$$"
   ]
  },
  {
   "cell_type": "code",
   "execution_count": 27,
   "metadata": {},
   "outputs": [
    {
     "data": {
      "text/plain": [
       "<matplotlib.legend.Legend at 0x7f5bb02dc190>"
      ]
     },
     "execution_count": 27,
     "metadata": {},
     "output_type": "execute_result"
    },
    {
     "data": {
      "image/png": "[encoded data removed]",
      "text/plain": [
       "<Figure size 432x288 with 1 Axes>"
      ]
     },
     "metadata": {
      "needs_background": "light"
     },
     "output_type": "display_data"
    }
   ],
   "source": [
    "# firt compute cumulative losses for trajectories and the mean and std\n",
    "cumulative_online_loss = np.cumsum(online_loss, axis=2) \n",
    "mean_cumulative_online_loss = np.mean(cumulative_online_loss, axis=0) \n",
    "std_cumulative_online_loss = np.std(cumulative_online_loss, axis=0) \n",
    "\n",
    "for i in range(len(methods)):\n",
    "    plt.plot(np.arange(T), mean_cumulative_online_loss[i]-mean_cumulative_online_loss[-1], color=colors[i],label=methods[i])\n",
    "    # plt.fill_between(np.arange(T), mean_cumulative_online_loss[i] - std_cumulative_online_loss[i], mean_cumulative_online_loss[i] + std_cumulative_online_loss[i], color=s_colors[i],alpha=0.2)   \n",
    "    \n",
    "    # plt.plot(np.cumsum(mean_online_loss[i]+mean_scd_terms[i]),color=colors[i],linestyle='dotted')\n",
    "    # plt.plot(mean_online_loss[i], color=colors[i], label=methods[i])\n",
    "    # plt.fill_between(np.arange(T), mean_online_loss[i] - std_online_loss[i], mean_online_loss[i] + std_online_loss[i], color=s_colors[i],alpha=0.2)\n",
    "\n",
    "plt.yscale('symlog')\n",
    "# plt.xlim(-0.1,50)\n",
    "plt.legend()\n",
    "# title = \"xps/OnlineRegret_BetaNorm=\"+str(round(np.linalg.norm(beta_star),2))\n",
    "# plt.title(title)\n",
    "# plt.savefig(title+'.pdf',bbox_inches='tight')"
   ]
  },
  {
   "cell_type": "code",
   "execution_count": null,
   "metadata": {},
   "outputs": [],
   "source": []
  },
  {
   "cell_type": "code",
   "execution_count": null,
   "metadata": {},
   "outputs": [],
   "source": []
  },
  {
   "cell_type": "code",
   "execution_count": null,
   "metadata": {},
   "outputs": [],
   "source": []
  },
  {
   "cell_type": "code",
   "execution_count": null,
   "metadata": {},
   "outputs": [],
   "source": []
  },
  {
   "cell_type": "code",
   "execution_count": null,
   "metadata": {},
   "outputs": [],
   "source": []
  },
  {
   "cell_type": "code",
   "execution_count": null,
   "metadata": {},
   "outputs": [],
   "source": []
  },
  {
   "cell_type": "markdown",
   "metadata": {},
   "source": [
    "### Compute directly offline estimators"
   ]
  },
  {
   "cell_type": "code",
   "execution_count": 8,
   "metadata": {},
   "outputs": [
    {
     "name": "stdout",
     "output_type": "stream",
     "text": [
      "beta =  [ 9.18444872 10.09678353  9.99760499 10.03248239  9.64812825] \n",
      "theta =  [[1. 0. 0. 0. 0.]\n",
      " [0. 1. 0. 0. 0.]\n",
      " [0. 0. 1. 0. 0.]\n",
      " [0. 0. 0. 1. 0.]\n",
      " [0. 0. 0. 0. 1.]]\n"
     ]
    }
   ],
   "source": [
    "theta_star = np.eye(d,d)\n",
    "beta_star = np.random.multivariate_normal([10],[[1]],d).reshape(-1,)\n",
    "print(\"beta = \", beta_star, \"\\ntheta = \", theta_star)"
   ]
  },
  {
   "cell_type": "code",
   "execution_count": 9,
   "metadata": {},
   "outputs": [],
   "source": [
    "store_betas = np.zeros((len(methods), n_iters, d))\n",
    "\n",
    "for it in range(n_iters):  # iterations to average the effect of noise\n",
    "    \n",
    "    # initialize\n",
    "    thetas = np.zeros((len(methods),d,d))\n",
    "    thetas[-1] = theta_star\n",
    "    betas = np.zeros((len(methods),d))\n",
    "    betas[-1] = beta_star\n",
    "\n",
    "    # first stage\n",
    "    Z = np.random.randn(T,d)\n",
    "    eps = np.random.randn(T, d)\n",
    "    # eps = np.zeros((T,d)) \n",
    "    X = np.dot(Z, theta_star) + eps\n",
    "    # second stage\n",
    "    eta_tilde = np.random.randn(T)\n",
    "    # noise = eta_tilde + np.linalg.norm(eps, axis=1)  \n",
    "    noise = eta_tilde + eps[:,0]\n",
    "    y = np.dot(X, beta_star) + noise\n",
    "\n",
    "    # z_t, x_t, y_t = Z[t], X[t], y[t]\n",
    "    # online_loss[it, :, t] = (np.dot(betas, x_t) - y_t)**2        \n",
    "    betas[0] = np.linalg.inv(X.T @ X) @ X.T @ y\n",
    "    betas[1] = np.linalg.inv(Z.T @ X) @ Z.T @ y\n",
    "    store_betas[0, it, :] = betas[0]\n",
    "    store_betas[1, it, :] = betas[1]"
   ]
  },
  {
   "cell_type": "code",
   "execution_count": 10,
   "metadata": {},
   "outputs": [
    {
     "name": "stdout",
     "output_type": "stream",
     "text": [
      "||beta|| =  21.9086 \t\tbeta =  [ 9.18444872 10.09678353  9.99760499 10.03248239  9.64812825]\n",
      "||beta-mean_r|| =  0.4993 \tbeta_r =  [ 9.64863633 10.11107129 10.01039421 10.03055674  9.65074951] \tstd= [0.02782653 0.02869948 0.02604052 0.02884278 0.02875037]\n",
      "||beta-mean_o|| =  0.0122 \tbeta_o =  [ 9.15109175 10.06507043 10.01972177 10.08101278  9.66602545] \tstd= [0.04469197 0.04385438 0.04676343 0.04497231 0.04914854]\n",
      "L_Z is:  2.0644\n",
      "L_X is:  3.5262\n",
      "L_y is:  77.4979\n",
      "max |eta_t| is:  5.118288855102298\n",
      "['Ridge', '2SLS', 'Oracle']\n",
      "[0.4645949  0.07268472 0.        ]\n"
     ]
    }
   ],
   "source": [
    "mean_beta_ridge = store_betas[0, :, :].mean(axis=0)\n",
    "std_beta_ridge = store_betas[0, :, :].std(axis=0)\n",
    "mean_beta_2SLS = store_betas[1, :, :].mean(axis=0)\n",
    "std_beta_2SLS = store_betas[1, :, :].std(axis=0)\n",
    "\n",
    "print(\"||beta|| = \", round(np.linalg.norm(beta_star),4), \"\\t\\tbeta = \", beta_star)\n",
    "print(\"||beta-mean_r|| = \", round(np.linalg.norm(beta_star-mean_beta_ridge),4),  \"\\tbeta_r = \", betas[0], \"\\tstd=\", std_beta_ridge)\n",
    "print(\"||beta-mean_o|| = \", round(np.linalg.norm(beta_star-mean_beta_2SLS),4), \"\\tbeta_o = \", betas[1], \"\\tstd=\", std_beta_2SLS)\n",
    "print(\"L_Z is: \", round(L_Z,4))\n",
    "print(\"L_X is: \", round(L_X,4))\n",
    "print(\"L_y is: \",round(L_y,4))\n",
    "print(\"max |eta_t| is: \", max(abs(noise)))\n",
    "print(methods)\n",
    "print(np.sqrt(((betas-beta_star)**2).sum(axis=1)))"
   ]
  },
  {
   "cell_type": "markdown",
   "metadata": {},
   "source": [
    "### Graphs"
   ]
  },
  {
   "cell_type": "code",
   "execution_count": 28,
   "metadata": {},
   "outputs": [],
   "source": [
    "mean_online_loss = np.mean(online_loss, axis=0)\n",
    "# mean_online_regrets_reg[index_reg] = mean_online_loss[:-1]-mean_online_loss[-1]\n",
    "std_online_loss = np.std(online_loss[:-1]-online_loss[-1], axis=0)\n",
    "# std_online_regrets_reg[index_reg] = std_online_loss[:2,:]\n",
    "# mean_test_loss = np.mean(test_loss, axis=0)\n",
    "# std_test_loss = np.std(test_loss, axis=0)\n",
    "# mean_fst_terms = np.mean(fst_terms, axis=0)\n",
    "# mean_scd_terms = np.mean(scd_terms, axis=0)\n",
    "# std_fst_terms = np.std(fst_terms, axis=0)\n",
    "# std_scd_terms = np.std(scd_terms, axis=0)"
   ]
  },
  {
   "cell_type": "code",
   "execution_count": 33,
   "metadata": {},
   "outputs": [
    {
     "data": {
      "text/plain": [
       "Text(0.5, 1.0, 'xps/OnlineRegret_BetaNorm=21.91')"
      ]
     },
     "execution_count": 33,
     "metadata": {},
     "output_type": "execute_result"
    },
    {
     "data": {
      "image/png": "[encoded data removed]",
      "text/plain": [
       "<Figure size 432x288 with 1 Axes>"
      ]
     },
     "metadata": {},
     "output_type": "display_data"
    }
   ],
   "source": [
    "for i in range(len(methods)-1):\n",
    "    plt.plot(mean_online_loss[i]-mean_online_loss[-1], color=colors[i],label=methods[i])\n",
    "    plt.fill_between(np.arange(T),np.cumsum(mean_online_loss[i])-np.cumsum(std_online_loss[i]),np.cumsum(mean_online_loss[i])+np.cumsum(std_online_loss[i]), color=s_colors[i],alpha=0.2)   \n",
    "    # plt.plot(np.cumsum(mean_online_loss[i]+mean_scd_terms[i]),color=colors[i],linestyle='dotted')\n",
    "    plt.yscale('log')\n",
    "# plt.xlim(-0.,50)\n",
    "plt.legend()\n",
    "title = \"xps/OnlineRegret_BetaNorm=\"+str(round(np.linalg.norm(beta_star),2))\n",
    "plt.title(title)\n",
    "# plt.savefig(title+'.pdf',bbox_inches='tight')"
   ]
  },
  {
   "cell_type": "code",
   "execution_count": null,
   "metadata": {},
   "outputs": [],
   "source": []
  },
  {
   "cell_type": "code",
   "execution_count": null,
   "metadata": {},
   "outputs": [],
   "source": []
  },
  {
   "cell_type": "code",
   "execution_count": null,
   "metadata": {},
   "outputs": [],
   "source": []
  }
 ],
 "metadata": {
  "kernelspec": {
   "display_name": "Python 3.8.13 ('rlberry-tutorial')",
   "language": "python",
   "name": "python3"
  },
  "language_info": {
   "codemirror_mode": {
    "name": "ipython",
    "version": 3
   },
   "file_extension": ".py",
   "mimetype": "text/x-python",
   "name": "python",
   "nbconvert_exporter": "python",
   "pygments_lexer": "ipython3",
   "version": "3.8.13"
  },
  "vscode": {
   "interpreter": {
    "hash": "185c3e51586cb067d2ae94a061ed0ffcde78b8afce97c48c70fcb028435374cb"
   }
  }
 },
 "nbformat": 4,
 "nbformat_minor": 2
}
