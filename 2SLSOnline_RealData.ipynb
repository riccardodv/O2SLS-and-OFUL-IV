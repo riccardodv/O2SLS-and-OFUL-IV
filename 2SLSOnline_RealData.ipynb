{
 "cells": [
  {
   "cell_type": "code",
   "execution_count": 26,
   "metadata": {},
   "outputs": [],
   "source": [
    "import numpy as np\n",
    "from scipy.stats import t as t_law\n",
    "import matplotlib.pyplot as plt\n",
    "from tqdm import tqdm \n",
    "import seaborn as sns\n",
    "import matplotlib.pylab as plt\n",
    "\n",
    "\n",
    "colors = ['#377eb8', '#ff7f00', '#4daf4a','#f781bf', '#a65628', '#984ea3','#999999', '#e41a1c', '#dede00']\n",
    "s_colors = ['#377eb8', '#ff7f00', '#4daf4a','#f781bf', '#a65628', '#984ea3','#999999', '#e41a1c', '#dede00']"
   ]
  },
  {
   "cell_type": "code",
   "execution_count": 2,
   "metadata": {},
   "outputs": [],
   "source": [
    "import numpy as np\n",
    "from sklearn.linear_model import LinearRegression, Ridge\n",
    "import random\n",
    "import pandas as pd\n",
    "from sklearn.model_selection import train_test_split\n",
    "from sklearn.metrics import mean_squared_error\n",
    "import matplotlib.pyplot as plt"
   ]
  },
  {
   "cell_type": "code",
   "execution_count": 3,
   "metadata": {},
   "outputs": [
    {
     "data": {
      "text/html": [
       "<div>\n",
       "<style scoped>\n",
       "    .dataframe tbody tr th:only-of-type {\n",
       "        vertical-align: middle;\n",
       "    }\n",
       "\n",
       "    .dataframe tbody tr th {\n",
       "        vertical-align: top;\n",
       "    }\n",
       "\n",
       "    .dataframe thead th {\n",
       "        text-align: right;\n",
       "    }\n",
       "</style>\n",
       "<table border=\"1\" class=\"dataframe\">\n",
       "  <thead>\n",
       "    <tr style=\"text-align: right;\">\n",
       "      <th></th>\n",
       "      <th>OBS</th>\n",
       "      <th>GC</th>\n",
       "      <th>PG</th>\n",
       "      <th>RI</th>\n",
       "      <th>RPN</th>\n",
       "      <th>RPT</th>\n",
       "      <th>RPU</th>\n",
       "    </tr>\n",
       "  </thead>\n",
       "  <tbody>\n",
       "    <tr>\n",
       "      <th>0</th>\n",
       "      <td>1970</td>\n",
       "      <td>6.714227</td>\n",
       "      <td>-0.100947</td>\n",
       "      <td>2.943489</td>\n",
       "      <td>0.311872</td>\n",
       "      <td>-0.097374</td>\n",
       "      <td>-0.218002</td>\n",
       "    </tr>\n",
       "    <tr>\n",
       "      <th>1</th>\n",
       "      <td>1971</td>\n",
       "      <td>6.765328</td>\n",
       "      <td>-0.137221</td>\n",
       "      <td>2.985432</td>\n",
       "      <td>0.309661</td>\n",
       "      <td>-0.068993</td>\n",
       "      <td>-0.204794</td>\n",
       "    </tr>\n",
       "    <tr>\n",
       "      <th>2</th>\n",
       "      <td>1972</td>\n",
       "      <td>6.830206</td>\n",
       "      <td>-0.156660</td>\n",
       "      <td>3.033986</td>\n",
       "      <td>0.268967</td>\n",
       "      <td>-0.061672</td>\n",
       "      <td>-0.233363</td>\n",
       "    </tr>\n",
       "    <tr>\n",
       "      <th>3</th>\n",
       "      <td>1973</td>\n",
       "      <td>6.847757</td>\n",
       "      <td>-0.123892</td>\n",
       "      <td>3.093292</td>\n",
       "      <td>0.210451</td>\n",
       "      <td>-0.111888</td>\n",
       "      <td>-0.232193</td>\n",
       "    </tr>\n",
       "    <tr>\n",
       "      <th>4</th>\n",
       "      <td>1974</td>\n",
       "      <td>6.697846</td>\n",
       "      <td>0.074440</td>\n",
       "      <td>3.079637</td>\n",
       "      <td>0.160793</td>\n",
       "      <td>-0.194156</td>\n",
       "      <td>-0.295147</td>\n",
       "    </tr>\n",
       "    <tr>\n",
       "      <th>5</th>\n",
       "      <td>1975</td>\n",
       "      <td>6.732342</td>\n",
       "      <td>0.053035</td>\n",
       "      <td>3.089182</td>\n",
       "      <td>0.156273</td>\n",
       "      <td>-0.212513</td>\n",
       "      <td>-0.205640</td>\n",
       "    </tr>\n",
       "    <tr>\n",
       "      <th>6</th>\n",
       "      <td>1976</td>\n",
       "      <td>6.780673</td>\n",
       "      <td>0.037742</td>\n",
       "      <td>3.128747</td>\n",
       "      <td>0.161904</td>\n",
       "      <td>-0.174270</td>\n",
       "      <td>-0.123290</td>\n",
       "    </tr>\n",
       "    <tr>\n",
       "      <th>7</th>\n",
       "      <td>1977</td>\n",
       "      <td>6.809115</td>\n",
       "      <td>0.031026</td>\n",
       "      <td>3.165322</td>\n",
       "      <td>0.149898</td>\n",
       "      <td>-0.192272</td>\n",
       "      <td>-0.102431</td>\n",
       "    </tr>\n",
       "    <tr>\n",
       "      <th>8</th>\n",
       "      <td>1978</td>\n",
       "      <td>6.822789</td>\n",
       "      <td>0.000000</td>\n",
       "      <td>3.209507</td>\n",
       "      <td>0.150639</td>\n",
       "      <td>-0.235878</td>\n",
       "      <td>-0.155686</td>\n",
       "    </tr>\n",
       "    <tr>\n",
       "      <th>9</th>\n",
       "      <td>1979</td>\n",
       "      <td>6.725719</td>\n",
       "      <td>0.194642</td>\n",
       "      <td>3.215122</td>\n",
       "      <td>0.119312</td>\n",
       "      <td>-0.279452</td>\n",
       "      <td>-0.187293</td>\n",
       "    </tr>\n",
       "    <tr>\n",
       "      <th>10</th>\n",
       "      <td>1980</td>\n",
       "      <td>6.647199</td>\n",
       "      <td>0.393255</td>\n",
       "      <td>3.199168</td>\n",
       "      <td>0.070287</td>\n",
       "      <td>-0.177479</td>\n",
       "      <td>-0.279624</td>\n",
       "    </tr>\n",
       "    <tr>\n",
       "      <th>11</th>\n",
       "      <td>1981</td>\n",
       "      <td>6.635689</td>\n",
       "      <td>0.397735</td>\n",
       "      <td>3.207992</td>\n",
       "      <td>0.030338</td>\n",
       "      <td>-0.060075</td>\n",
       "      <td>-0.167254</td>\n",
       "    </tr>\n",
       "    <tr>\n",
       "      <th>12</th>\n",
       "      <td>1982</td>\n",
       "      <td>6.634181</td>\n",
       "      <td>0.283268</td>\n",
       "      <td>3.216510</td>\n",
       "      <td>0.009283</td>\n",
       "      <td>-0.016719</td>\n",
       "      <td>-0.083156</td>\n",
       "    </tr>\n",
       "    <tr>\n",
       "      <th>13</th>\n",
       "      <td>1983</td>\n",
       "      <td>6.733664</td>\n",
       "      <td>0.206949</td>\n",
       "      <td>3.256705</td>\n",
       "      <td>0.003008</td>\n",
       "      <td>-0.001005</td>\n",
       "      <td>-0.009077</td>\n",
       "    </tr>\n",
       "    <tr>\n",
       "      <th>14</th>\n",
       "      <td>1984</td>\n",
       "      <td>6.800027</td>\n",
       "      <td>0.142395</td>\n",
       "      <td>3.324752</td>\n",
       "      <td>-0.010644</td>\n",
       "      <td>0.017176</td>\n",
       "      <td>0.079524</td>\n",
       "    </tr>\n",
       "    <tr>\n",
       "      <th>15</th>\n",
       "      <td>1985</td>\n",
       "      <td>6.854003</td>\n",
       "      <td>0.105732</td>\n",
       "      <td>3.356372</td>\n",
       "      <td>-0.014039</td>\n",
       "      <td>0.026595</td>\n",
       "      <td>0.055143</td>\n",
       "    </tr>\n",
       "    <tr>\n",
       "      <th>16</th>\n",
       "      <td>1986</td>\n",
       "      <td>6.999965</td>\n",
       "      <td>-0.163163</td>\n",
       "      <td>3.393412</td>\n",
       "      <td>0.009083</td>\n",
       "      <td>0.065337</td>\n",
       "      <td>-0.007326</td>\n",
       "    </tr>\n",
       "    <tr>\n",
       "      <th>17</th>\n",
       "      <td>1987</td>\n",
       "      <td>6.998295</td>\n",
       "      <td>-0.171465</td>\n",
       "      <td>3.416196</td>\n",
       "      <td>0.008764</td>\n",
       "      <td>0.063933</td>\n",
       "      <td>-0.004411</td>\n",
       "    </tr>\n",
       "    <tr>\n",
       "      <th>18</th>\n",
       "      <td>1988</td>\n",
       "      <td>7.042825</td>\n",
       "      <td>-0.204718</td>\n",
       "      <td>3.456927</td>\n",
       "      <td>-0.011905</td>\n",
       "      <td>0.041397</td>\n",
       "      <td>-0.002539</td>\n",
       "    </tr>\n",
       "    <tr>\n",
       "      <th>19</th>\n",
       "      <td>1989</td>\n",
       "      <td>7.055541</td>\n",
       "      <td>-0.156842</td>\n",
       "      <td>3.477835</td>\n",
       "      <td>-0.039479</td>\n",
       "      <td>0.043399</td>\n",
       "      <td>-0.029462</td>\n",
       "    </tr>\n",
       "    <tr>\n",
       "      <th>20</th>\n",
       "      <td>1990</td>\n",
       "      <td>7.037095</td>\n",
       "      <td>-0.071346</td>\n",
       "      <td>3.491976</td>\n",
       "      <td>-0.077114</td>\n",
       "      <td>0.087139</td>\n",
       "      <td>-0.105616</td>\n",
       "    </tr>\n",
       "    <tr>\n",
       "      <th>21</th>\n",
       "      <td>1991</td>\n",
       "      <td>7.045734</td>\n",
       "      <td>-0.129972</td>\n",
       "      <td>3.492093</td>\n",
       "      <td>-0.083414</td>\n",
       "      <td>0.089151</td>\n",
       "      <td>-0.142593</td>\n",
       "    </tr>\n",
       "    <tr>\n",
       "      <th>22</th>\n",
       "      <td>1992</td>\n",
       "      <td>7.048248</td>\n",
       "      <td>-0.164659</td>\n",
       "      <td>3.523085</td>\n",
       "      <td>-0.088633</td>\n",
       "      <td>0.076142</td>\n",
       "      <td>-0.129974</td>\n",
       "    </tr>\n",
       "    <tr>\n",
       "      <th>23</th>\n",
       "      <td>1993</td>\n",
       "      <td>7.096711</td>\n",
       "      <td>-0.208545</td>\n",
       "      <td>3.530889</td>\n",
       "      <td>-0.094273</td>\n",
       "      <td>0.144714</td>\n",
       "      <td>-0.076186</td>\n",
       "    </tr>\n",
       "    <tr>\n",
       "      <th>24</th>\n",
       "      <td>1994</td>\n",
       "      <td>7.145222</td>\n",
       "      <td>-0.232976</td>\n",
       "      <td>3.551175</td>\n",
       "      <td>-0.085908</td>\n",
       "      <td>0.148932</td>\n",
       "      <td>-0.044851</td>\n",
       "    </tr>\n",
       "    <tr>\n",
       "      <th>25</th>\n",
       "      <td>1995</td>\n",
       "      <td>7.173911</td>\n",
       "      <td>-0.234859</td>\n",
       "      <td>3.571822</td>\n",
       "      <td>-0.092035</td>\n",
       "      <td>0.143407</td>\n",
       "      <td>0.026547</td>\n",
       "    </tr>\n",
       "    <tr>\n",
       "      <th>26</th>\n",
       "      <td>1996</td>\n",
       "      <td>7.177913</td>\n",
       "      <td>-0.197348</td>\n",
       "      <td>3.588693</td>\n",
       "      <td>-0.104016</td>\n",
       "      <td>0.147848</td>\n",
       "      <td>0.000637</td>\n",
       "    </tr>\n",
       "    <tr>\n",
       "      <th>27</th>\n",
       "      <td>1997</td>\n",
       "      <td>7.195133</td>\n",
       "      <td>-0.217707</td>\n",
       "      <td>3.618350</td>\n",
       "      <td>-0.124582</td>\n",
       "      <td>0.151209</td>\n",
       "      <td>-0.060352</td>\n",
       "    </tr>\n",
       "    <tr>\n",
       "      <th>28</th>\n",
       "      <td>1998</td>\n",
       "      <td>7.288701</td>\n",
       "      <td>-0.379726</td>\n",
       "      <td>3.652362</td>\n",
       "      <td>-0.147120</td>\n",
       "      <td>0.154852</td>\n",
       "      <td>-0.079123</td>\n",
       "    </tr>\n",
       "    <tr>\n",
       "      <th>29</th>\n",
       "      <td>1999</td>\n",
       "      <td>7.301263</td>\n",
       "      <td>-0.310755</td>\n",
       "      <td>3.685151</td>\n",
       "      <td>-0.176815</td>\n",
       "      <td>0.171155</td>\n",
       "      <td>-0.091715</td>\n",
       "    </tr>\n",
       "  </tbody>\n",
       "</table>\n",
       "</div>"
      ],
      "text/plain": [
       "     OBS        GC        PG        RI       RPN       RPT       RPU\n",
       "0   1970  6.714227 -0.100947  2.943489  0.311872 -0.097374 -0.218002\n",
       "1   1971  6.765328 -0.137221  2.985432  0.309661 -0.068993 -0.204794\n",
       "2   1972  6.830206 -0.156660  3.033986  0.268967 -0.061672 -0.233363\n",
       "3   1973  6.847757 -0.123892  3.093292  0.210451 -0.111888 -0.232193\n",
       "4   1974  6.697846  0.074440  3.079637  0.160793 -0.194156 -0.295147\n",
       "5   1975  6.732342  0.053035  3.089182  0.156273 -0.212513 -0.205640\n",
       "6   1976  6.780673  0.037742  3.128747  0.161904 -0.174270 -0.123290\n",
       "7   1977  6.809115  0.031026  3.165322  0.149898 -0.192272 -0.102431\n",
       "8   1978  6.822789  0.000000  3.209507  0.150639 -0.235878 -0.155686\n",
       "9   1979  6.725719  0.194642  3.215122  0.119312 -0.279452 -0.187293\n",
       "10  1980  6.647199  0.393255  3.199168  0.070287 -0.177479 -0.279624\n",
       "11  1981  6.635689  0.397735  3.207992  0.030338 -0.060075 -0.167254\n",
       "12  1982  6.634181  0.283268  3.216510  0.009283 -0.016719 -0.083156\n",
       "13  1983  6.733664  0.206949  3.256705  0.003008 -0.001005 -0.009077\n",
       "14  1984  6.800027  0.142395  3.324752 -0.010644  0.017176  0.079524\n",
       "15  1985  6.854003  0.105732  3.356372 -0.014039  0.026595  0.055143\n",
       "16  1986  6.999965 -0.163163  3.393412  0.009083  0.065337 -0.007326\n",
       "17  1987  6.998295 -0.171465  3.416196  0.008764  0.063933 -0.004411\n",
       "18  1988  7.042825 -0.204718  3.456927 -0.011905  0.041397 -0.002539\n",
       "19  1989  7.055541 -0.156842  3.477835 -0.039479  0.043399 -0.029462\n",
       "20  1990  7.037095 -0.071346  3.491976 -0.077114  0.087139 -0.105616\n",
       "21  1991  7.045734 -0.129972  3.492093 -0.083414  0.089151 -0.142593\n",
       "22  1992  7.048248 -0.164659  3.523085 -0.088633  0.076142 -0.129974\n",
       "23  1993  7.096711 -0.208545  3.530889 -0.094273  0.144714 -0.076186\n",
       "24  1994  7.145222 -0.232976  3.551175 -0.085908  0.148932 -0.044851\n",
       "25  1995  7.173911 -0.234859  3.571822 -0.092035  0.143407  0.026547\n",
       "26  1996  7.177913 -0.197348  3.588693 -0.104016  0.147848  0.000637\n",
       "27  1997  7.195133 -0.217707  3.618350 -0.124582  0.151209 -0.060352\n",
       "28  1998  7.288701 -0.379726  3.652362 -0.147120  0.154852 -0.079123\n",
       "29  1999  7.301263 -0.310755  3.685151 -0.176815  0.171155 -0.091715"
      ]
     },
     "execution_count": 3,
     "metadata": {},
     "output_type": "execute_result"
    }
   ],
   "source": [
    "data = pd.read_csv(\"GasolineMarket.csv\")\n",
    "data"
   ]
  },
  {
   "cell_type": "code",
   "execution_count": 4,
   "metadata": {},
   "outputs": [
    {
     "data": {
      "text/plain": [
       "array([[ 0.        ,  0.        ],\n",
       "       [-0.01026924,  0.09841666],\n",
       "       [-0.08132368,  0.36799007],\n",
       "       [-0.05269639,  0.50631078],\n",
       "       [-0.4604026 ,  0.43091821],\n",
       "       [-0.48390766,  0.44112027],\n",
       "       [-0.4519918 ,  0.46469839],\n",
       "       [-0.4493047 ,  0.51708647],\n",
       "       [-0.47684264,  0.5316112 ],\n",
       "       [-0.51221554,  0.53304501],\n",
       "       [-0.49111768,  0.52209795],\n",
       "       [-0.50699064,  0.54542407],\n",
       "       [-0.55793921,  0.5677376 ],\n",
       "       [-0.55681444,  0.55718446],\n",
       "       [-0.5570036 ,  0.5426731 ],\n",
       "       [-0.57797252,  0.57051141],\n",
       "       [-0.63772638,  0.59356519],\n",
       "       [-0.62431107,  0.54482137],\n",
       "       [-0.6227374 ,  0.51536047],\n",
       "       [-0.63005886,  0.5124051 ],\n",
       "       [-0.63382915,  0.52266567],\n",
       "       [-0.63644349,  0.51768527],\n",
       "       [-0.63411193,  0.50007596],\n",
       "       [-0.62979154,  0.49342384],\n",
       "       [-0.63171315,  0.49429708],\n",
       "       [-0.63715228,  0.49880743],\n",
       "       [-0.64355788,  0.50691162],\n",
       "       [-0.64668169,  0.51150607],\n",
       "       [-0.64989203,  0.50759806],\n",
       "       [-0.65330406,  0.5141065 ]])"
      ]
     },
     "execution_count": 4,
     "metadata": {},
     "output_type": "execute_result"
    }
   ],
   "source": [
    "def off_2sls(stage1, stage2, Z, X1, X2, y):\n",
    "    stage1.fit(Z, X1)\n",
    "    hatX1 = stage1.predict(Z)\n",
    "    X = np.concatenate([hatX1, X2], axis=1)\n",
    "    stage2.fit(X, y)\n",
    "    haty = stage2.predict(X)\n",
    "    return stage1, stage2, haty, stage1.coef_, stage2.coef_\n",
    "\n",
    "def off_2sls(stage1, stage2, Z, X1, X2, y):\n",
    "    stage1.fit(Z, X1)\n",
    "    hatX1 = stage1.predict(Z)\n",
    "    X = np.concatenate([hatX1, X2], axis=1)\n",
    "    stage2.fit(X, y)\n",
    "    haty = stage2.predict(X)\n",
    "    return stage1, stage2, haty, stage1.coef_, stage2.coef_\n",
    "\n",
    "def o2sls(data, t, compare_model=\"linear\", alpha=0.1):\n",
    "    data = data.head(t)\n",
    "    Z = np.array(data[[\"RPT\", \"RPN\", \"RPU\", \"RI\"]]) \n",
    "    X1 = np.array(data[\"PG\"]).reshape((-1,1))\n",
    "    X2 = np.array(data[\"RI\"]).reshape((-1,1))\n",
    "    y = np.array(data[\"GC\"]).reshape((-1,1))\n",
    "\n",
    "    # Declare and fit comparison models\n",
    "    if compare_model == 'ridge':\n",
    "        stage1 = Ridge(alpha)\n",
    "        stage2 = Ridge(alpha)\n",
    "    elif compare_model == 'linear':\n",
    "        stage1 = LinearRegression()\n",
    "        stage2 = LinearRegression()\n",
    "\n",
    "    return off_2sls(stage1, stage2, Z, X1, X2, y)\n",
    "    \n",
    "\n",
    "T = len(data.index)\n",
    "\n",
    "betas = [] \n",
    "\n",
    "for t in range(1,T+1,1):\n",
    "    stage1, stage2, haty, coef1, coef2 = o2sls(data, t, compare_model=\"ridge\", alpha=0.01)\n",
    "    betas.append(coef2[0])\n",
    "\n",
    "betas = np.array(betas)\n",
    "betas\n",
    "\n"
   ]
  },
  {
   "cell_type": "code",
   "execution_count": 5,
   "metadata": {},
   "outputs": [
    {
     "data": {
      "image/png": "[encoded data removed]",
      "text/plain": [
       "<Figure size 640x480 with 2 Axes>"
      ]
     },
     "metadata": {},
     "output_type": "display_data"
    }
   ],
   "source": [
    "# Two subplots, the axes array is 1-d\n",
    "\n",
    "years = np.array(data[\"OBS\"])\n",
    "b2 = betas[:,0]\n",
    "b3 = betas[:,1]\n",
    "\n",
    "f, axarr = plt.subplots(2, sharex=True)\n",
    "axarr[0].plot(years, b2)\n",
    "axarr[0].set_ylabel(r\"$\\beta_2$\")\n",
    "axarr[0].axhline(y=b2[-1], color=colors[0], linestyle='--')\n",
    "\n",
    "axarr[1].plot(years, b3, color=colors[1])\n",
    "axarr[1].set_ylabel(r\"$\\beta_3$\")\n",
    "axarr[1].axhline(y=b3[-1], color=colors[1], linestyle='--')\n",
    "\n",
    "\n",
    "# plt.figure(figsize = (6,4))\n",
    "# plt.plot(np.array(data[\"OBS\"])[1:],betas)\n",
    "# plt.axhline(y=betas[-1,0], color=colors[0], linestyle='--')\n",
    "# plt.xlabel(\"Year\")\n",
    "# plt.ylabel(r\"$\\beta_2$\")\n",
    "plt.savefig(\"./gasoline.pdf\", format='pdf')"
   ]
  },
  {
   "attachments": {},
   "cell_type": "markdown",
   "metadata": {},
   "source": [
    "# Supply and Demand"
   ]
  },
  {
   "cell_type": "code",
   "execution_count": 6,
   "metadata": {},
   "outputs": [],
   "source": [
    "data = pd.read_csv(\"SupplyDemand.csv\")"
   ]
  },
  {
   "cell_type": "code",
   "execution_count": 7,
   "metadata": {},
   "outputs": [
    {
     "name": "stdout",
     "output_type": "stream",
     "text": [
      "0.794\n",
      "-0.976\n",
      "0.808\n",
      "-0.966\n",
      "0.93\n",
      "-0.973\n",
      "0.977\n",
      "-0.985\n"
     ]
    }
   ],
   "source": [
    "X = np.array(data[[\"PRICE0\", \"PRICE1\", \"PRICE5\", \"PRICE10\"]]).reshape((-1,4))\n",
    "y = np.array(data[[\"SALES0_0\", \"SALES0_1\", \"SALES0_5\", \"SALES0_10\"]]).reshape((-1,4))\n",
    "\n",
    "sp = LinearRegression()\n",
    "for i in range(dim_s_f):\n",
    "    sp.fit(X[:,i].reshape((-1,1)), y[:,i].reshape((-1,1)))\n",
    "    print(sp.score(X[:,i].reshape((-1,1)), y[:,i].reshape((-1,1))).round(3))\n",
    "    print(sp.coef_[0][0].round(3))"
   ]
  },
  {
   "cell_type": "code",
   "execution_count": 8,
   "metadata": {},
   "outputs": [
    {
     "name": "stdout",
     "output_type": "stream",
     "text": [
      "0.794\n",
      "-0.976\n",
      "0.718\n",
      "-0.969\n",
      "0.243\n",
      "-0.942\n",
      "0.076\n",
      "-0.909\n"
     ]
    }
   ],
   "source": [
    "X = np.array(data[[\"PRICE0\", \"PRICE0\", \"PRICE0\", \"PRICE0\"]]).reshape((-1,4))\n",
    "y = np.array(data[[\"SALES0_0\", \"SALES1_0\", \"SALES5_0\", \"SALES10_0\"]]).reshape((-1,4))\n",
    "\n",
    "sp = LinearRegression()\n",
    "for i in range(dim_s_f):\n",
    "    sp.fit(X[:,i].reshape((-1,1)), y[:,i].reshape((-1,1)))\n",
    "    print(sp.score(X[:,i].reshape((-1,1)), y[:,i].reshape((-1,1))).round(3))\n",
    "    print(sp.coef_[0][0].round(3))"
   ]
  },
  {
   "cell_type": "code",
   "execution_count": 9,
   "metadata": {},
   "outputs": [
    {
     "name": "stdout",
     "output_type": "stream",
     "text": [
      "0.794\n",
      "-0.976\n",
      "0.706\n",
      "-0.874\n",
      "0.214\n",
      "-0.273\n",
      "0.064\n",
      "-0.085\n"
     ]
    }
   ],
   "source": [
    "X = np.array(data[[\"PRICE0\", \"PRICE1\", \"PRICE5\", \"PRICE10\"]]).reshape((-1,4))\n",
    "y = np.array(data[[\"SALES0_0\", \"SALES1_1\", \"SALES5_5\", \"SALES10_10\"]]).reshape((-1,4))\n",
    "\n",
    "sp = LinearRegression()\n",
    "for i in range(dim_s_f):\n",
    "    sp.fit(X[:,i].reshape((-1,1)), y[:,i].reshape((-1,1)))\n",
    "    print(sp.score(X[:,i].reshape((-1,1)), y[:,i].reshape((-1,1))).round(3))\n",
    "    print(sp.coef_[0][0].round(3))"
   ]
  },
  {
   "attachments": {},
   "cell_type": "markdown",
   "metadata": {},
   "source": [
    "# New dataset for Supply and Demand"
   ]
  },
  {
   "cell_type": "code",
   "execution_count": 54,
   "metadata": {},
   "outputs": [],
   "source": [
    "## PARAMETERS \n",
    "n_iters = 50\n",
    "T = int(1e3)\n",
    "sigma_1, sigma_2 = 1, 1 \n",
    "lamda, lamda_IV = 1e-2, 1e-2 \n",
    "methods = ['Ridge','O2SLS' 'Oracle']  \n",
    "online_loss_oracle = np.zeros((n_iters, len(methods), T))\n",
    "online_loss_identification = np.zeros((n_iters, len(methods), T))\n",
    "\n",
    "np.random.seed(23)\n",
    "s = np.array([0,1,5,10]).reshape(1,1,4)\n",
    "f = np.array([0,1,5,10]).reshape(1,4)\n",
    "theta_star = 1\n",
    "beta_star = -1.\n",
    "type_records_off = [r\"$\\beta_t$\", r\"$R^2_t$\", r\"$regret$\"]\n",
    "dim_s_f = 4"
   ]
  },
  {
   "cell_type": "code",
   "execution_count": 55,
   "metadata": {},
   "outputs": [],
   "source": [
    "# # MODEL \n",
    "# # first stage\n",
    "# e = np.random.binomial(1, 0.01, size=(T,1,))\n",
    "# Z = np.random.randn(T,1)\n",
    "# eps = sigma_1*np.random.randn(T,1)\n",
    "# Xmat = 5 + theta_star*Z + f*e + eps\n",
    "# # second stage\n",
    "# # eta = eta_tilde + np.linalg.norm(eps, axis=1)  \n",
    "# eta = sigma_2*np.random.randn(T,1,1) \n",
    "# Ymat = 100 + beta_star*Xmat[:,:,np.newaxis] + e[:,np.newaxis,:]*s + eta\n",
    "# # axis0 = T, axis1 = f, axis2 = s \n",
    "\n",
    "## MODEL \n",
    "# first stage\n",
    "e = np.random.binomial(1, 0.01, size=(n_iters, T,1))\n",
    "Z = np.random.randn(n_iters,T,1)\n",
    "eps = sigma_1*np.random.randn(n_iters,T,1)\n",
    "Xmat = 5 + theta_star*Z + f*e + eps\n",
    "# second stage\n",
    "# eta = eta_tilde + np.linalg.norm(eps, axis=1)  \n",
    "eta = sigma_2*np.random.randn(n_iters, T,1,1) \n",
    "Ymat = 100 + beta_star*Xmat[:,:,:,np.newaxis] + e[:,:,np.newaxis,:]*s + eta\n",
    "# axis0 = T, axis1 = f, axis2 = s "
   ]
  },
  {
   "attachments": {},
   "cell_type": "markdown",
   "metadata": {},
   "source": [
    "#### Study of the different endogeneity settings:"
   ]
  },
  {
   "attachments": {},
   "cell_type": "markdown",
   "metadata": {},
   "source": [
    "#### s = 0 $\\rightarrow$ no endogeneneity but much bigger variance in prices $\\rightarrow$ no problem estimating $\\beta$"
   ]
  },
  {
   "cell_type": "code",
   "execution_count": 56,
   "metadata": {},
   "outputs": [
    {
     "name": "stdout",
     "output_type": "stream",
     "text": [
      "beta =  [-1.00454545 -1.00450247 -1.00389662 -1.00279333] ± [0.02010662 0.01986984 0.01778517 0.01439351]\n",
      "r2 =  [0.66757719 0.66867146 0.69281874 0.74863853] ± [0.01763357 0.01773511 0.0200924  0.02765912]\n",
      "regret =  [0.01630292 0.01615544 0.01477829 0.01194699] ± [0.01261554 0.01241308 0.01063474 0.00849972]\n"
     ]
    }
   ],
   "source": [
    "# X = Xmat \n",
    "# y = Ymat[:,:,0]\n",
    "# \n",
    "# sp = LinearRegression()\n",
    "# for i in range(dim_s_f):\n",
    "#     sp.fit(X[:,i].reshape((-1,1)), y[:,i].reshape((-1,1)))\n",
    "#     print(\"R^2 \\t=\\t\", sp.score(X[:,i].reshape((-1,1)), y[:,i].reshape((-1,1))).round(3))\n",
    "#     print(\"beta \\t=\\t\", sp.coef_[0][0].round(3))\n",
    "\n",
    "\n",
    "X = Xmat \n",
    "y = Ymat[:,:,:,0]\n",
    "\n",
    "records_off_s_0 = np.zeros((n_iters, len(type_records_off), dim_s_f))\n",
    "\n",
    "sp = LinearRegression()\n",
    "for e in range(n_iters):\n",
    "    for i in range(dim_s_f):\n",
    "        sp.fit(X[e,:,i].reshape((-1,1)), y[e,:,i].reshape((-1,1)))\n",
    "        records_off_s_0[e, 0, i] = sp.coef_[0][0]\n",
    "        records_off_s_0[e, 1, i] = sp.score(X[e,:,i].reshape((-1,1)), y[e,:,i].reshape((-1,1)))\n",
    "        records_off_s_0[e, 2, i] = np.abs(records_off_s_0[e, 0, i]-beta_star)\n",
    "    # print(\"R^2 \\t=\\t\", sp.score(X[:,i].reshape((-1,1)), y[:,i].reshape((-1,1))).round(3))\n",
    "    # print(\"beta \\t=\\t\", sp.coef_[0][0].round(3))\n",
    "\n",
    "average_beta_s_0 = np.mean(records_off_s_0[:,0,:], axis=0)\n",
    "std_beta_s_0 = np.std(records_off_s_0[:,0,:], axis=0)\n",
    "average_r2_s_0 = np.mean(records_off_s_0[:,1,:], axis=0)\n",
    "std_r2_s_0 = np.std(records_off_s_0[:,1,:], axis=0)\n",
    "average_reg_s_0 = np.mean(records_off_s_0[:,2,:], axis=0)\n",
    "std_reg_s_0 = np.std(records_off_s_0[:,2,:], axis=0)\n",
    "\n",
    "print(\"beta = \", average_beta_s_0, \"±\", std_beta_s_0)\n",
    "print(\"r2 = \", average_r2_s_0, \"±\", std_r2_s_0)\n",
    "print(\"regret = \", average_reg_s_0, \"±\", std_reg_s_0)"
   ]
  },
  {
   "cell_type": "code",
   "execution_count": 58,
   "metadata": {},
   "outputs": [
    {
     "name": "stdout",
     "output_type": "stream",
     "text": [
      "beta =  [-1.00454545 -1.00450247 -1.00389662 -1.00279333] ± [0.02010662 0.01986984 0.01778517 0.01439351]\n",
      "r2 =  [0.66757719 0.66867146 0.69281874 0.74863853] ± [0.01763357 0.01773511 0.0200924  0.02765912]\n",
      "regret =  [0.01630292 0.01615544 0.01477829 0.01194699] ± [0.01261554 0.01241308 0.01063474 0.00849972]\n",
      "[[-1.00454545 -1.00450247 -1.00389662 -1.00279333]\n",
      " [ 0.66757719  0.66867146  0.69281874  0.74863853]\n",
      " [ 0.01630292  0.01615544  0.01477829  0.01194699]]\n"
     ]
    }
   ],
   "source": [
    "XXmat = np.repeat(Xmat[:,:,:,np.newaxis], dim_s_f,axis=-1) \n",
    "X = XXmat[:,:,:,0]\n",
    "y = Ymat[:,:,:,0]\n",
    "\n",
    "records_off_s_0 = np.zeros((n_iters, len(type_records_off), dim_s_f))\n",
    "\n",
    "sp = LinearRegression()\n",
    "for e in range(n_iters):\n",
    "    for i in range(dim_s_f):\n",
    "        sp.fit(X[e,:,i].reshape((-1,1)), y[e,:,i].reshape((-1,1)))\n",
    "        records_off_s_0[e, 0, i] = sp.coef_[0][0]\n",
    "        records_off_s_0[e, 1, i] = sp.score(X[e,:,i].reshape((-1,1)), y[e,:,i].reshape((-1,1)))\n",
    "        records_off_s_0[e, 2, i] = np.abs(records_off_s_0[e, 0, i]-beta_star)\n",
    "    # print(\"R^2 \\t=\\t\", sp.score(X[:,i].reshape((-1,1)), y[:,i].reshape((-1,1))).round(3))\n",
    "    # print(\"beta \\t=\\t\", sp.coef_[0][0].round(3))\n",
    "\n",
    "average_beta_s_0 = np.mean(records_off_s_0[:,0,:], axis=0)\n",
    "std_beta_s_0 = np.std(records_off_s_0[:,0,:], axis=0)\n",
    "average_r2_s_0 = np.mean(records_off_s_0[:,1,:], axis=0)\n",
    "std_r2_s_0 = np.std(records_off_s_0[:,1,:], axis=0)\n",
    "average_reg_s_0 = np.mean(records_off_s_0[:,2,:], axis=0)\n",
    "std_reg_s_0 = np.std(records_off_s_0[:,2,:], axis=0)\n",
    "\n",
    "print(\"beta = \", average_beta_s_0, \"±\", std_beta_s_0)\n",
    "print(\"r2 = \", average_r2_s_0, \"±\", std_r2_s_0)\n",
    "print(\"regret = \", average_reg_s_0, \"±\", std_reg_s_0)\n",
    "\n",
    "\n",
    "print(np.mean(records_off_s_0[:,:,:], axis=0))\n"
   ]
  },
  {
   "cell_type": "code",
   "execution_count": 72,
   "metadata": {},
   "outputs": [
    {
     "data": {
      "text/plain": [
       "<Axes: >"
      ]
     },
     "execution_count": 72,
     "metadata": {},
     "output_type": "execute_result"
    },
    {
     "data": {
      "image/png": "[encoded data removed]",
      "text/plain": [
       "<Figure size 640x480 with 2 Axes>"
      ]
     },
     "metadata": {},
     "output_type": "display_data"
    }
   ],
   "source": [
    "XXmat = np.repeat(Xmat[:,:,:,np.newaxis], dim_s_f,axis=-1) \n",
    "X = XXmat\n",
    "y = Ymat\n",
    "\n",
    "records_off = np.zeros((n_iters, len(type_records_off), dim_s_f, dim_s_f))\n",
    "\n",
    "sp = LinearRegression()\n",
    "for e in range(n_iters):\n",
    "    for i in range(dim_s_f):\n",
    "        for j in range(dim_s_f):\n",
    "            sp.fit(X[e,:,i,j].reshape((-1,1)), y[e,:,i,j].reshape((-1,1)))\n",
    "            records_off[e, 0, i, j] = sp.coef_[0][0]\n",
    "            records_off[e, 1, i, j] = sp.score(X[e,:,i,j].reshape((-1,1)), y[e,:,i,j].reshape((-1,1)))\n",
    "            records_off[e, 2, i, j] = np.abs(records_off[e,0,i,j]-beta_star)\n",
    "\n",
    "mean_records_off = np.mean(records_off[:,:,:,:], axis=0)\n",
    "std_records_off = np.std(records_off, axis=0)\n",
    "\n",
    "# print(mean_records_off[:,:,0])\n",
    "sns.color_palette(\"crest\", as_cmap=True)\n",
    "# sns.color_palette(\"crest\", as_cmap=True)\n",
    "sns.heatmap(mean_records_off[2,:,:], cmap=\"crest\")\n",
    "# sns.color_palette(\"crest\", as_cmap=True)\n"
   ]
  },
  {
   "cell_type": "code",
   "execution_count": null,
   "metadata": {},
   "outputs": [],
   "source": []
  },
  {
   "attachments": {},
   "cell_type": "markdown",
   "metadata": {},
   "source": [
    "#### f = 0 $\\rightarrow$ no endogeneneity but much bigger variance in second stage $\\rightarrow$ high variance unexplained see $R^2$"
   ]
  },
  {
   "cell_type": "code",
   "execution_count": 50,
   "metadata": {},
   "outputs": [
    {
     "name": "stdout",
     "output_type": "stream",
     "text": [
      "beta =  [-1.00255135 -1.00257844 -1.00268679 -1.00282223] ± [0.01812702 0.01872713 0.02307515 0.03113777]\n",
      "r2 =  [0.66582165 0.66385919 0.61725617 0.50767358] ± [0.01586763 0.01629415 0.025248   0.04781591]\n",
      "regret =  [0.01456239 0.01523976 0.01968352 0.02660119] ± [0.01109212 0.01118497 0.01233856 0.01642871]\n"
     ]
    }
   ],
   "source": [
    "# X = np.tile(Xmat[:,0].reshape(-1,1), (1,4)) \n",
    "# y = Ymat[:,0,:]\n",
    "\n",
    "# sp = LinearRegression()\n",
    "# for i in range(dim_s_f):\n",
    "#     sp.fit(X[:,i].reshape((-1,1)), y[:,i].reshape((-1,1)))\n",
    "#     print(\"R^2 \\t=\\t\", sp.score(X[:,i].reshape((-1,1)), y[:,i].reshape((-1,1))).round(3))\n",
    "#     print(\"beta \\t=\\t\", sp.coef_[0][0].round(3))\n",
    "\n",
    "\n",
    "X = np.repeat(Xmat[:,:,0, np.newaxis], dim_s_f, axis=-1)\n",
    "y = Ymat[:,:,0,:]\n",
    "\n",
    "records_off_f_0 = np.zeros((n_iters, len(type_records_off), dim_s_f))\n",
    "\n",
    "sp = LinearRegression()\n",
    "for e in range(n_iters):\n",
    "    for i in range(dim_s_f):\n",
    "        sp.fit(X[e,:,i].reshape((-1,1)), y[e,:,i].reshape((-1,1)))\n",
    "        records_off_f_0[e, 0, i] = sp.coef_[0][0]\n",
    "        records_off_f_0[e, 1, i] = sp.score(X[e,:,i].reshape((-1,1)), y[e,:,i].reshape((-1,1)))\n",
    "        records_off_f_0[e, 2, i] = np.abs(records_off_f_0[e, 0, i]-beta_star)\n",
    "    # print(\"R^2 \\t=\\t\", sp.score(X[:,i].reshape((-1,1)), y[:,i].reshape((-1,1))).round(3))\n",
    "    # print(\"beta \\t=\\t\", sp.coef_[0][0].round(3))\n",
    "\n",
    "average_beta_f_0 = np.mean(records_off_f_0[:,0,:], axis=0)\n",
    "std_beta_f_0 = np.std(records_off_f_0[:,0,:], axis=0)\n",
    "average_r2_f_0 = np.mean(records_off_f_0[:,1,:], axis=0)\n",
    "std_r2_f_0 = np.std(records_off_f_0[:,1,:], axis=0)\n",
    "average_reg_f_0 = np.mean(records_off_f_0[:,2,:], axis=0)\n",
    "std_reg_f_0 = np.std(records_off_f_0[:,2,:], axis=0)\n",
    "\n",
    "print(\"beta = \", average_beta_f_0, \"±\", std_beta_f_0)\n",
    "print(\"r2 = \", average_r2_f_0, \"±\", std_r2_f_0)\n",
    "print(\"regret = \", average_reg_f_0, \"±\", std_reg_f_0)"
   ]
  },
  {
   "attachments": {},
   "cell_type": "markdown",
   "metadata": {},
   "source": [
    "#### f = s = 0, 1, 5, 10 $\\rightarrow$ endogeneity appears due to the event \"e\""
   ]
  },
  {
   "cell_type": "code",
   "execution_count": null,
   "metadata": {},
   "outputs": [
    {
     "name": "stdout",
     "output_type": "stream",
     "text": [
      "R^2 \t=\t 0.648\n",
      "beta \t=\t -0.986\n",
      "R^2 \t=\t 0.646\n",
      "beta \t=\t -0.979\n",
      "R^2 \t=\t 0.574\n",
      "beta \t=\t -0.854\n",
      "R^2 \t=\t 0.425\n",
      "beta \t=\t -0.619\n"
     ]
    }
   ],
   "source": [
    "X = Xmat\n",
    "y = np.array([np.diag(Ymat[i,:,:]) for i in range(T)]) \n",
    "\n",
    "sp = LinearRegression()\n",
    "for i in range(dim_s_f):\n",
    "    sp.fit(X[:,i].reshape((-1,1)), y[:,i].reshape((-1,1)))\n",
    "    print(\"R^2 \\t=\\t\", sp.score(X[:,i].reshape((-1,1)), y[:,i].reshape((-1,1))).round(3))\n",
    "    print(\"beta \\t=\\t\", sp.coef_[0][0].round(3))"
   ]
  },
  {
   "attachments": {},
   "cell_type": "markdown",
   "metadata": {},
   "source": [
    "#### eliminate endogeneity with IV"
   ]
  },
  {
   "cell_type": "code",
   "execution_count": null,
   "metadata": {},
   "outputs": [
    {
     "name": "stdout",
     "output_type": "stream",
     "text": [
      "R^2 \t=\t 0.648\n",
      "beta \t=\t -1.008\n",
      "R^2 \t=\t 0.646\n",
      "beta \t=\t -1.007\n",
      "R^2 \t=\t 0.556\n",
      "beta \t=\t -1.003\n",
      "R^2 \t=\t 0.265\n",
      "beta \t=\t -0.998\n"
     ]
    }
   ],
   "source": [
    "def off_2sls_ds(stage1, stage2, Z, X, y):\n",
    "    stage1.fit(Z, X)\n",
    "    hatX = stage1.predict(Z)\n",
    "    stage2.fit(hatX, y)\n",
    "    haty = stage2.predict(X)\n",
    "    return stage1, stage2 #, haty, stage1.coef_, stage2.coef_\n",
    "\n",
    "stage1 = LinearRegression()\n",
    "stage2 = LinearRegression()\n",
    "\n",
    "for i in range(dim_s_f):\n",
    "    stage1, stage2 = off_2sls_ds(stage1, stage2, Z, X[:,i].reshape((-1,1)), y[:,i].reshape((-1,1)))\n",
    "    print(\"R^2 \\t=\\t\", stage2.score(X[:,i].reshape((-1,1)), y[:,i].reshape((-1,1))).round(3))\n",
    "    print(\"beta \\t=\\t\", stage2.coef_[0][0].round(3))\n"
   ]
  },
  {
   "attachments": {},
   "cell_type": "markdown",
   "metadata": {},
   "source": [
    "# Online version"
   ]
  },
  {
   "cell_type": "code",
   "execution_count": null,
   "metadata": {},
   "outputs": [],
   "source": [
    "def off_2sls_ds(stage1, stage2, Z, X, y):\n",
    "    stage1.fit(Z, X)\n",
    "    hatX = stage1.predict(Z)\n",
    "    stage2.fit(hatX, y)\n",
    "    haty = stage2.predict(X)\n",
    "    return stage1, stage2 #, haty, stage1.coef_, stage2.coef_\n",
    "    \n",
    "\n",
    "type_records= [r\"$\\beta_t$\", r\"$R^2_t$\", r\"$\\ell_t$\"]\n",
    "dim_s_f = 4\n",
    "n_ev = 20\n"
   ]
  },
  {
   "attachments": {},
   "cell_type": "markdown",
   "metadata": {},
   "source": [
    "#### s = 0 $\\rightarrow$ no endogeneneity but much bigger variance in prices $\\rightarrow$ no problem estimating $\\beta$"
   ]
  },
  {
   "cell_type": "code",
   "execution_count": null,
   "metadata": {},
   "outputs": [],
   "source": [
    "X = Xmat \n",
    "y = Ymat[:,:,0]\n",
    "\n",
    "sp = Ridge(10)\n",
    "records_s_0 = np.zeros((n_ev, T, len(type_records), dim_s_f))\n",
    "\n",
    "for e in range(n_ev):\n",
    "    for t in range(1,T,1):\n",
    "        for i in range(dim_s_f):\n",
    "            sp.fit(X[:t,i].reshape((-1,1)), y[:t,i].reshape((-1,1)))\n",
    "            records_s_0[t, 0 ,i] = sp.coef_[0][0]\n",
    "            if t>1:\n",
    "                records_s_0[t, 1 ,i] = sp.score(X[:t,i].reshape((-1,1)), y[:t,i].reshape((-1,1)))\n",
    "            if t<T-1:\n",
    "                records_s_0[t, 2 ,i] = (sp.predict(X[t+1,i].reshape((-1,1)))-y[t+1,i])**2\n",
    "            # records_s_0[t, 3 ,i] = records_s_0[t, 2 ,i]-(X[t+1,i]*beta_star-y[t+1,i])"
   ]
  },
  {
   "cell_type": "code",
   "execution_count": null,
   "metadata": {},
   "outputs": [],
   "source": [
    "# records_s_0"
   ]
  },
  {
   "cell_type": "code",
   "execution_count": null,
   "metadata": {},
   "outputs": [
    {
     "data": {
      "image/png": "[encoded data removed]",
      "text/plain": [
       "<Figure size 640x480 with 2 Axes>"
      ]
     },
     "metadata": {},
     "output_type": "display_data"
    }
   ],
   "source": [
    "rounds = np.array([t for t in range(1,T+1,1)])\n",
    "b2 = betas[:,0]\n",
    "b3 = betas[:,1]\n",
    "\n",
    "\n",
    "f, axarr = plt.subplots(2, sharex=True)\n",
    "for i in range(dim_s_f):\n",
    "    b = records_s_0[:, 0, i]\n",
    "    r = records_s_0[:, 1, i]\n",
    "    axarr[0].plot(rounds, b, label = i)\n",
    "    axarr[0].set_ylabel(type_records[0])\n",
    "    axarr[0].legend()\n",
    "    # axarr[0].axhline(y=b2[-1], color=colors[0], linestyle='--')\n",
    "\n",
    "    axarr[1].plot(rounds, r)#, color=colors[1])\n",
    "    axarr[1].set_ylabel(type_records[1])\n",
    "    # axarr[1].axhline(y=b3[-1], color=colors[1], linestyle='--')\n",
    "\n",
    "\n",
    "plt.savefig(\"./s_0.pdf\", format='pdf')"
   ]
  },
  {
   "attachments": {},
   "cell_type": "markdown",
   "metadata": {},
   "source": [
    "#### f = 0 $\\rightarrow$ no endogeneneity but much bigger variance in second stage $\\rightarrow$ high variance unexplained see $R^2$"
   ]
  },
  {
   "cell_type": "code",
   "execution_count": null,
   "metadata": {},
   "outputs": [
    {
     "name": "stdout",
     "output_type": "stream",
     "text": [
      "R^2 \t=\t 0.648\n",
      "beta \t=\t -0.986\n",
      "R^2 \t=\t 0.646\n",
      "beta \t=\t -0.983\n",
      "R^2 \t=\t 0.587\n",
      "beta \t=\t -0.971\n",
      "R^2 \t=\t 0.453\n",
      "beta \t=\t -0.956\n"
     ]
    }
   ],
   "source": [
    "X = np.tile(Xmat[:,0].reshape(-1,1), (1,4)) \n",
    "y = Ymat[:,0,:]\n",
    "\n",
    "sp = LinearRegression()\n",
    "for i in range(dim_s_f):\n",
    "    sp.fit(X[:,i].reshape((-1,1)), y[:,i].reshape((-1,1)))\n",
    "    print(\"R^2 \\t=\\t\", sp.score(X[:,i].reshape((-1,1)), y[:,i].reshape((-1,1))).round(3))\n",
    "    print(\"beta \\t=\\t\", sp.coef_[0][0].round(3))"
   ]
  },
  {
   "cell_type": "code",
   "execution_count": null,
   "metadata": {},
   "outputs": [],
   "source": [
    "X = np.tile(Xmat[:,0].reshape(-1,1), (1,4)) \n",
    "y = Ymat[:,0,:]\n",
    "\n",
    "sp = Ridge(10)\n",
    "records_f_0 = np.zeros((T, len(type_records), dim_s_f))\n",
    "\n",
    "\n",
    "for t in range(1,T,1):\n",
    "    for i in range(dim_s_f):\n",
    "        sp.fit(X[:t,i].reshape((-1,1)), y[:t,i].reshape((-1,1)))\n",
    "        records_f_0[t, 0 ,i] = sp.coef_[0][0]\n",
    "        if t>1:\n",
    "            records_f_0[t, 1 ,i] = sp.score(X[:t,i].reshape((-1,1)), y[:t,i].reshape((-1,1)))\n",
    "        if t<T-1:\n",
    "            records_f_0[t, 2 ,i] = (sp.predict(X[t+1,i].reshape((-1,1)))-y[t+1,i])**2\n",
    "        # records_f_0[t, 3 ,i] = records_f_0[t, 2 ,i]-(X[t+1,i]*beta_star-y[t+1,i])"
   ]
  },
  {
   "cell_type": "code",
   "execution_count": null,
   "metadata": {},
   "outputs": [
    {
     "data": {
      "image/png": "[encoded data removed]",
      "text/plain": [
       "<Figure size 640x480 with 2 Axes>"
      ]
     },
     "metadata": {},
     "output_type": "display_data"
    }
   ],
   "source": [
    "# records_f_0[:, 0, 0]\n",
    "\n",
    "\n",
    "rounds = np.array([t for t in range(1,T+1,1)])\n",
    "b2 = betas[:,0]\n",
    "b3 = betas[:,1]\n",
    "\n",
    "\n",
    "f, axarr = plt.subplots(2, sharex=True)\n",
    "for i in range(dim_s_f):\n",
    "    b = records_f_0[:, 0, i]\n",
    "    r = records_f_0[:, 1, i]\n",
    "    axarr[0].plot(rounds, b)\n",
    "    axarr[0].set_ylabel(type_records[0])\n",
    "    # axarr[0].axhline(y=b2[-1], color=colors[0], linestyle='--')\n",
    "\n",
    "    axarr[1].plot(rounds, r)#, color=colors[1])\n",
    "    axarr[1].set_ylabel(type_records[1])\n",
    "    # axarr[1].axhline(y=b3[-1], color=colors[1], linestyle='--')\n",
    "\n",
    "\n",
    "plt.savefig(\"./f_0.pdf\", format='pdf')"
   ]
  },
  {
   "attachments": {},
   "cell_type": "markdown",
   "metadata": {},
   "source": [
    "#### f = s = 0, 1, 5, 10 $\\rightarrow$ endogeneity appears due to the event \"e\""
   ]
  },
  {
   "cell_type": "code",
   "execution_count": null,
   "metadata": {},
   "outputs": [
    {
     "name": "stdout",
     "output_type": "stream",
     "text": [
      "R^2 \t=\t 0.648\n",
      "beta \t=\t -0.986\n",
      "R^2 \t=\t 0.646\n",
      "beta \t=\t -0.979\n",
      "R^2 \t=\t 0.574\n",
      "beta \t=\t -0.854\n",
      "R^2 \t=\t 0.425\n",
      "beta \t=\t -0.619\n"
     ]
    }
   ],
   "source": [
    "X = Xmat\n",
    "y = np.array([np.diag(Ymat[i,:,:]) for i in range(T)]) \n",
    "\n",
    "sp = LinearRegression()\n",
    "for i in range(dim_s_f):\n",
    "    sp.fit(X[:,i].reshape((-1,1)), y[:,i].reshape((-1,1)))\n",
    "    print(\"R^2 \\t=\\t\", sp.score(X[:,i].reshape((-1,1)), y[:,i].reshape((-1,1))).round(3))\n",
    "    print(\"beta \\t=\\t\", sp.coef_[0][0].round(3))"
   ]
  },
  {
   "cell_type": "code",
   "execution_count": null,
   "metadata": {},
   "outputs": [],
   "source": [
    "X = Xmat\n",
    "y = np.array([np.diag(Ymat[i,:,:]) for i in range(T)]) \n",
    "\n",
    "sp = Ridge(10)\n",
    "records_sf = np.zeros((T, len(type_records), dim_s_f))\n",
    "\n",
    "\n",
    "for t in range(1,T,1):\n",
    "    for i in range(dim_s_f):\n",
    "        sp.fit(X[:t,i].reshape((-1,1)), y[:t,i].reshape((-1,1)))\n",
    "        records_sf[t, 0 ,i] = sp.coef_[0][0]\n",
    "        if t>1:\n",
    "            records_sf[t, 1 ,i] = sp.score(X[:t,i].reshape((-1,1)), y[:t,i].reshape((-1,1)))\n",
    "        if t<T-1:\n",
    "            records_sf[t, 2 ,i] = (sp.predict(X[t+1,i].reshape((-1,1)))-y[t+1,i])**2\n",
    "        # records_f_0[t, 3 ,i] = records_f_0[t, 2 ,i]-(X[t+1,i]*beta_star-y[t+1,i])"
   ]
  },
  {
   "cell_type": "code",
   "execution_count": null,
   "metadata": {},
   "outputs": [
    {
     "data": {
      "image/png": "[encoded data removed]",
      "text/plain": [
       "<Figure size 640x480 with 2 Axes>"
      ]
     },
     "metadata": {},
     "output_type": "display_data"
    }
   ],
   "source": [
    "rounds = np.array([t for t in range(1,T+1,1)])\n",
    "b2 = betas[:,0]\n",
    "b3 = betas[:,1]\n",
    "\n",
    "\n",
    "f, axarr = plt.subplots(2, sharex=True)\n",
    "for i in range(dim_s_f):\n",
    "    b = records_sf[:, 0, i]\n",
    "    r = records_sf[:, 1, i]\n",
    "    axarr[0].plot(rounds, b)\n",
    "    axarr[0].set_ylabel(type_records[0])\n",
    "    # axarr[0].axhline(y=b2[-1], color=colors[0], linestyle='--')\n",
    "\n",
    "    axarr[1].plot(rounds, r)#, color=colors[1])\n",
    "    axarr[1].set_ylabel(type_records[1])\n",
    "    # axarr[1].axhline(y=b3[-1], color=colors[1], linestyle='--')\n",
    "\n",
    "\n",
    "plt.savefig(\"./sf_01510.pdf\", format='pdf')"
   ]
  },
  {
   "attachments": {},
   "cell_type": "markdown",
   "metadata": {},
   "source": [
    "#### eliminate endogeneity with IV"
   ]
  },
  {
   "cell_type": "code",
   "execution_count": null,
   "metadata": {},
   "outputs": [],
   "source": [
    "def off_2sls_ds(stage1, stage2, Z, X, y):\n",
    "    stage1.fit(Z, X)\n",
    "    hatX = stage1.predict(Z)\n",
    "    stage2.fit(hatX, y)\n",
    "    haty = stage2.predict(X)\n",
    "    return stage1, stage2 #, haty, stage1.coef_, stage2.coef_\n",
    "\n",
    "# stage1 = LinearRegression()\n",
    "# stage2 = LinearRegression()\n",
    "\n",
    "stage1 = Ridge(1)\n",
    "stage2 = Ridge(1)\n",
    "\n",
    "records_sf_IV = np.zeros((T, len(type_records), dim_s_f))\n",
    "\n",
    "\n",
    "# for i in range(dim_s_f):\n",
    "#     stage1, stage2 = off_2sls_ds(stage1, stage2, Z, X[:,i].reshape((-1,1)), y[:,i].reshape((-1,1)))\n",
    "#     print(\"R^2 \\t=\\t\", stage2.score(X[:,i].reshape((-1,1)), y[:,i].reshape((-1,1))).round(3))\n",
    "#     print(\"beta \\t=\\t\", stage2.coef_[0][0].round(3))\n",
    "\n",
    "\n",
    "for t in range(1,T,1):\n",
    "    for i in range(dim_s_f):\n",
    "        stage1, stage2 = off_2sls_ds(stage1, stage2, Z[:t], X[:t,i].reshape((-1,1)), y[:t,i].reshape((-1,1)))\n",
    "        records_sf[t, 0 ,i] = stage2.coef_[0][0]\n",
    "        if t>1:\n",
    "            # records_sf[t, 1 ,i] = stage2.score(stage1.predict(X[:t,i].reshape((-1,1))), y[:t,i].reshape((-1,1)))\n",
    "            records_sf[t, 1 ,i] = stage2.score(X[:t,i].reshape((-1,1)), y[:t,i].reshape((-1,1)))\n",
    "        if t<T-1:\n",
    "            records_sf[t, 2 ,i] = (stage2.predict(X[t+1,i].reshape((-1,1)))-y[t+1,i])**2\n",
    "        # records_f_0[t, 3 ,i] = records_f_0[t, 2 ,i]-(X[t+1,i]*beta_star-y[t+1,i])\n"
   ]
  },
  {
   "cell_type": "code",
   "execution_count": null,
   "metadata": {},
   "outputs": [
    {
     "name": "stdout",
     "output_type": "stream",
     "text": [
      "-1.008\n",
      "0.648400054500359\n",
      "-1.007\n",
      "0.6463049738902358\n",
      "-1.003\n",
      "0.5567765400111113\n",
      "-0.998\n",
      "0.26598237439295336\n"
     ]
    },
    {
     "data": {
      "image/png": "[encoded data removed]",
      "text/plain": [
       "<Figure size 640x480 with 2 Axes>"
      ]
     },
     "metadata": {},
     "output_type": "display_data"
    }
   ],
   "source": [
    "rounds = np.array([t for t in range(1,T+1,1)])\n",
    "b2 = betas[:,0]\n",
    "b3 = betas[:,1]\n",
    "\n",
    "\n",
    "f, axarr = plt.subplots(2, sharex=True)\n",
    "for i in range(dim_s_f):\n",
    "    b = records_sf[:, 0, i]\n",
    "    r = records_sf[:, 1, i]\n",
    "    axarr[0].plot(rounds, b)\n",
    "    axarr[0].set_ylabel(type_records[0])\n",
    "    # axarr[0].axhline(y=b2[-1], color=colors[0], linestyle='--')\n",
    "    print(records_sf[-1, 0, i].round(3))\n",
    "    print(records_sf[-1, 1, i])\n",
    "\n",
    "    axarr[1].plot(rounds, r)#, color=colors[1])\n",
    "    axarr[1].set_ylabel(type_records[1])\n",
    "    # axarr[1].axhline(y=b3[-1], color=colors[1], linestyle='--')\n",
    "\n",
    "    # axarr[1].xlim(100, 1000)\n",
    "    # axarr[0].xlim(100, 1000)\n",
    "\n",
    "    # b = records_sf[100:, 0, i]\n",
    "    # r = records_sf[100:, 1, i]\n",
    "    # rounds_ = rounds[100:]\n",
    "    # axarr[0].plot(rounds_, b)\n",
    "    # axarr[0].set_ylabel(type_records[0])\n",
    "    # # axarr[0].axhline(y=b2[-1], color=colors[0], linestyle='--')\n",
    "\n",
    "    # axarr[1].plot(rounds_, r)#, color=colors[1])\n",
    "    # axarr[1].set_ylabel(type_records[1])\n",
    "    # # axarr[1].axhline(y=b3[-1], color=colors[1], linestyle='--')\n",
    "\n",
    "\n",
    "plt.savefig(\"./sf_01510_IV.pdf\", format='pdf')"
   ]
  },
  {
   "cell_type": "code",
   "execution_count": null,
   "metadata": {},
   "outputs": [],
   "source": []
  }
 ],
 "metadata": {
  "kernelspec": {
   "display_name": "EconML-env",
   "language": "python",
   "name": "python3"
  },
  "language_info": {
   "codemirror_mode": {
    "name": "ipython",
    "version": 3
   },
   "file_extension": ".py",
   "mimetype": "text/x-python",
   "name": "python",
   "nbconvert_exporter": "python",
   "pygments_lexer": "ipython3",
   "version": "3.10.10"
  },
  "orig_nbformat": 4
 },
 "nbformat": 4,
 "nbformat_minor": 2
}
