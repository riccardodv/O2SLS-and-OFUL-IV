{
 "cells": [
  {
   "cell_type": "code",
   "execution_count": 4,
   "metadata": {},
   "outputs": [],
   "source": [
    "import numpy as np\n",
    "import numpy.random as ra\n",
    "import numpy.linalg as la\n",
    "from tqdm import tqdm\n",
    "import matplotlib.pyplot as plt\n",
    "# plt.style.use(\"ggplot\")"
   ]
  },
  {
   "cell_type": "markdown",
   "metadata": {},
   "source": [
    "### Utils"
   ]
  },
  {
   "cell_type": "code",
   "execution_count": 19,
   "metadata": {},
   "outputs": [],
   "source": [
    "def calc_sqrt_b_ridge(k,sigma_2,lamda,delta,S_hat,logdetG):\n",
    "    '''Returns confidence interval width for ridge regression'''\n",
    "    return sigma_2 * np.sqrt( logdetG - k * np.log(lamda) + np.log(1/(delta**2)) ) + np.sqrt(lamda) * S_hat \n",
    "\n",
    "def calc_sqrt_b_2sls(k,sigma_2,lamda,delta,S_hat,logdetG):\n",
    "    '''Returns confidence interval width for 2SLS regression'''\n",
    "    return sigma_2 * np.sqrt( logdetG - k * np.log(lamda) + np.log(1/(delta**2)) )\n",
    "\n",
    "def runit(nb_exp, Z, X, theta, S_hat, sigma_1, sigma_2,lamda,delta, seed, eps, algorithm='ridge'):\n",
    "    '''function used to run an instance of linear bandits using OFUL with ridge or 2SLS regression\n",
    "    :param nb_exp: integer, number of runs used to average noise\n",
    "    :param X: tuple, dimensions (T,n_a,d) where T: #observations, n_a: #actions, d: #covariates\n",
    "    :param beta: vector of R^d, reward function parameter\n",
    "    :param S_hat: float, such that ||beta||_2 < S_hat\n",
    "    :param sigma_2: float, variance of the noise\n",
    "    :param lamda: float, regularization\n",
    "    :param delta: float, power of the confidence intervals\n",
    "    :param seed: float, fix seed for reproducibility\n",
    "    :param algorithm: string, ridge or 2SLS\n",
    "    '''\n",
    "    np.random.seed(seed)\n",
    "    T, nb_actions, d = X.shape\n",
    "    regret = np.zeros((nb_exp,T))\n",
    "    pred_norms = np.zeros((nb_exp,T))\n",
    "    x_inv_norms = np.zeros((nb_exp,T))\n",
    "        \n",
    "    for i in tqdm(range(nb_exp)):\n",
    "        Gxx, invGxx = lamda*np.eye(d), np.eye(d)/lamda\n",
    "        ZXt = np.zeros((d,d))\n",
    "        Zyt = np.zeros(d)\n",
    "        Gzz, invGzz = lamda*np.eye(d), np.eye(d)/lamda # is the regularizer correct here???\n",
    "        \n",
    "        # \n",
    "        if i == 0:\n",
    "            invThetaHat = np.eye(d)/lamda\n",
    "        # \n",
    "\n",
    "        logdetG = d*np.log(lamda)\n",
    "        Xyt = np.zeros(d) \n",
    "        sqrt_b_ridge = calc_sqrt_b_ridge(d, sigma_2, lamda, delta, S_hat, logdetG)\n",
    "        \n",
    "        # \n",
    "        sqrt_b_2sls = calc_sqrt_b_2sls(d, sigma_2, lamda, delta, S_hat, logdetG)\n",
    "        # \n",
    "\n",
    "        beta_hat_ridge = np.zeros(d)\n",
    "        \n",
    "        # \n",
    "        beta_hat_IV = np.zeros(d)\n",
    "        # \n",
    "\n",
    "        for t in range(T):\n",
    "            z = Z[t]\n",
    "            x = X[t]\n",
    "   \n",
    "            if algorithm == 'ridge':\n",
    "                X_invGt_norm_sq = np.sum(np.dot(x, invGxx) * x, 1)\n",
    "                x_inv_norms[i,t] = max(X_invGt_norm_sq)\n",
    "                preds = np.dot(x, beta_hat_ridge)\n",
    "                pred_norms[i,t] = np.linalg.norm(preds)\n",
    "                obj = preds + sqrt_b_ridge * np.sqrt(X_invGt_norm_sq) \n",
    "\n",
    "\n",
    "            if algorithm == '2sls':\n",
    "                X_invThetaHat_invGt_invThetaHatT_norm_sq = np.sum(np.dot(x, invThetaHat @ invGzz @ invThetaHat.T) * x, 1)\n",
    "                x_inv_norms[i,t] = max(X_invThetaHat_invGt_invThetaHatT_norm_sq)\n",
    "                preds = np.dot(x, beta_hat_IV)\n",
    "                pred_norms[i,t] = np.linalg.norm(preds)\n",
    "                obj = preds + sqrt_b_2sls * np.sqrt(X_invThetaHat_invGt_invThetaHatT_norm_sq) \n",
    "\n",
    "            # Pull the arm with the highest estimated value\n",
    "            pulled_idx = np.argmax(obj)  \n",
    "            xt = x[pulled_idx, :]\n",
    "            zt = z[pulled_idx, :]\n",
    "\n",
    "            # second stage\n",
    "            ee = 4\n",
    "            eta_tilde = np.random.normal(0,1) \n",
    "            eta = (eta_tilde + np.sum(eps[t,:,:ee]))/(1+ee*sigma_1)*sigma_2\n",
    "            # X /= np.max(np.linalg.norm(X,axis=2)) # ???? do I need it here ????\n",
    "            y = np.dot(x, beta_star) + eta\n",
    "            # compute regret \n",
    "            regret[i,t] = np.max(np.dot(x, beta_star))-np.dot(xt, beta_star) # maybe I should chance this definition of regret\n",
    "\n",
    "\n",
    "            # build estimators\n",
    "            yt = y[pulled_idx]\n",
    "           \n",
    "\n",
    "            if algorithm == 'ridge':\n",
    "                Xyt += xt*yt\n",
    "                Gxx += np.outer(xt, xt)\n",
    "                tempval1 = np.dot(invGxx, xt)    # d by 1, O(d^2)\n",
    "                tempval2 = np.dot(tempval1, xt)      # scalar, O(d)\n",
    "                logdetG += np.log(1 + tempval2)\n",
    "                if (t % 20 == 0):\n",
    "                    invGxx = np.linalg.inv(Gxx)\n",
    "                else:\n",
    "                    invGxx -= np.outer(tempval1, tempval1) / (1 + tempval2) \n",
    "                beta_hat_ridge = np.dot(invGxx, Xyt)\n",
    "                sqrt_b_ridge = calc_sqrt_b_ridge(d, sigma_2, lamda, delta, S_hat, logdetG)\n",
    "            \n",
    "            if algorithm == '2sls':\n",
    "                Zyt += zt*yt\n",
    "                ZXt += np.outer(zt, xt)\n",
    "                Gzz += np.outer(zt, xt)  # ????? regularizer here is it correct\n",
    "                tempval1 = np.dot(invGzz, zt)    # d by 1, O(d^2)\n",
    "                tempval2 = np.dot(tempval1, zt)      # scalar, O(d)\n",
    "                logdetG += np.log(1 + tempval2)\n",
    "                # if (t % 20 == 0):\n",
    "                invGzz = np.linalg.inv(Gzz)\n",
    "                # else:\n",
    "                    # invGxx -= np.outer(tempval1, tempval1) / (1 + tempval2) \n",
    "                beta_hat_ridge = np.dot(ZXt, Zyt)\n",
    "                ThetaHat = Gzz @ ZXt\n",
    "                invThetaHat =  np.linalg.inv(ThetaHat)\n",
    "                sqrt_b_ridge = calc_sqrt_b_ridge(d, sigma_2, lamda, delta, S_hat, logdetG)    \n",
    "    \n",
    "    return regret, pred_norms, x_inv_norms\n"
   ]
  },
  {
   "cell_type": "markdown",
   "metadata": {},
   "source": [
    "### Experiments"
   ]
  },
  {
   "cell_type": "code",
   "execution_count": 5,
   "metadata": {},
   "outputs": [],
   "source": [
    "T, n_a, d = int(150), 10, 20  # , number of covariates, number of actions\n",
    "\n",
    "#generate X\n",
    "X = np.random.randn(T, n_a, d)\n",
    "X_max = 200\n",
    "X /= np.max(np.linalg.norm(X,axis=2))/X_max\n",
    "\n",
    "S, sigma = 1, 0.1\n",
    "# generate beta_star\n",
    "beta_star = np.random.normal(0,1,d); beta_star *= S/np.linalg.norm(beta_star)"
   ]
  },
  {
   "cell_type": "code",
   "execution_count": 6,
   "metadata": {},
   "outputs": [],
   "source": [
    "###################################################\n",
    "S, sigma_1, sigma_2 = 1, 1, 1\n",
    "T, n_a, d = int(150), 10, 20\n",
    "theta_star = np.random.randn(d,d);  #theta_star *= 1/np.linalg.norm(theta_star) #maybe this can be changed\n",
    "beta_star = np.random.multivariate_normal([10],[[1]],d).reshape(-1,) ; beta_star *= S/np.linalg.norm(beta_star)\n",
    "# print(\"beta = \", beta_star, \"\\ntheta = \", theta_star)"
   ]
  },
  {
   "cell_type": "code",
   "execution_count": 7,
   "metadata": {},
   "outputs": [],
   "source": [
    "# first stage\n",
    "Z = np.random.randn(T, n_a, d)\n",
    "eps = sigma_1*np.random.randn(T, n_a, d)\n",
    "# eps = np.zeros((T,d))\n",
    "X = np.dot(Z, theta_star) + eps\n",
    "\n",
    "# # second stage\n",
    "# eta_tilde = sigma_2*np.random.randn(T)\n",
    "# # eta = eta_tilde + np.linalg.norm(eps, axis=1)  \n",
    "# eta = eta_tilde + eps[:,0] + eps[:,1] + eps[:,2]\n",
    "# X /= np.max(np.linalg.norm(X,axis=2))\n",
    "# y = np.dot(X, beta_star) + eta\n",
    "###################################################"
   ]
  },
  {
   "cell_type": "code",
   "execution_count": 20,
   "metadata": {
    "scrolled": true
   },
   "outputs": [
    {
     "name": "stderr",
     "output_type": "stream",
     "text": [
      "100%|██████████| 100/100 [00:04<00:00, 21.37it/s]\n",
      "  0%|          | 0/100 [00:00<?, ?it/s]/tmp/ipykernel_955696/2240949150.py:109: RuntimeWarning: invalid value encountered in log\n",
      "  logdetG += np.log(1 + tempval2)\n",
      "/tmp/ipykernel_955696/2240949150.py:69: RuntimeWarning: invalid value encountered in sqrt\n",
      "  obj = preds + sqrt_b_2sls * np.sqrt(X_invThetaHat_invGt_invThetaHatT_norm_sq)\n",
      "100%|██████████| 100/100 [00:09<00:00, 10.26it/s]\n"
     ]
    }
   ],
   "source": [
    "lamda = 0.1 #1/T\n",
    "delta = 0.001\n",
    "seed = 1996\n",
    "S_hat = S\n",
    "nb_exp = 100\n",
    "algorithms = ['ridge','2sls']\n",
    "labels = ['OFUL$^{r}$','OFUL$^{f}$']\n",
    "# colors = ['blue','darkviolet','darkorange']#,'darkred']\n",
    "colors = ['#377eb8', '#ff7f00', '#4daf4a','#f781bf', '#a65628', '#984ea3','#999999', '#e41a1c', '#dede00']\n",
    "# s_colors = ['cyan','violet','orange']#,'red']\n",
    "regrets = np.zeros((nb_exp,len(algorithms),T))\n",
    "pred_norms = np.zeros((nb_exp,len(algorithms),T))\n",
    "x_inv_norms = np.zeros((nb_exp,len(algorithms),T))\n",
    "\n",
    "for i,a in enumerate(algorithms):\n",
    "    regrets[:,i,:], pred_norms[:,i,:], x_inv_norms[:,i,:] = runit(nb_exp, Z, X, beta_star, S_hat, sigma_1, sigma_2, lamda, delta, seed, eps, a)"
   ]
  },
  {
   "cell_type": "markdown",
   "metadata": {},
   "source": [
    "### Regret"
   ]
  },
  {
   "cell_type": "code",
   "execution_count": 21,
   "metadata": {
    "scrolled": true
   },
   "outputs": [
    {
     "data": {
      "image/png": "[encoded data removed]",
      "text/plain": [
       "<Figure size 432x288 with 1 Axes>"
      ]
     },
     "metadata": {
      "needs_background": "light"
     },
     "output_type": "display_data"
    }
   ],
   "source": [
    "mean_regret = np.cumsum(regrets.mean(axis=0),axis=1)\n",
    "fst_quantile_regret = np.cumsum(np.quantile(regrets,0.25,axis=0),axis=1)\n",
    "thd_quantile_regret = np.cumsum(np.quantile(regrets,0.75,axis=0),axis=1)\n",
    "std_regret = np.cumsum(regrets,axis=2).std(axis=0)\n",
    "_ = np.log(lamda+(X_max**2)*np.arange(1,T+1)/d)\n",
    "\n",
    "labels = ['OFUL','OFUL$^{IV}$']\n",
    "\n",
    "\n",
    "for i,a in enumerate(algorithms):\n",
    "#     plt.plot(np.divide(mean_regret[i],np.sqrt(T*d*_*np.arange(1,T+1))),label=labels[i],color=colors[i])\n",
    "    plt.plot(mean_regret[i],label=labels[i],color=colors[i])\n",
    "#     plt.fill_between(np.arange(T),np.divide(fst_quantile_regret[i],np.sqrt(T*d*_*np.arange(1,T+1))),np.divide(thd_quantile_regret[i],np.sqrt(T*d*_*np.arange(1,T+1))),color=colors[i],alpha=0.2)\n",
    "    plt.fill_between(np.arange(T),fst_quantile_regret[i],thd_quantile_regret[i],color=colors[i],alpha=0.2)\n",
    "    plt.plot(fst_quantile_regret[i],color=colors[i],linestyle=\"dashed\")\n",
    "    plt.plot(thd_quantile_regret[i],color=colors[i],linestyle=\"dashed\")\n",
    "#     plt.fill_between(np.arange(T),mean_regret[i]-std_regret[i],mean_regret[i]+std_regret[i],alpha=0.1)\n",
    "log_ = np.log(lamda+np.arange(1,T+1)/d)\n",
    "# plt.plot(4*np.sqrt(T*d*log_)*(np.sqrt(lamda)*S_hat+sigma*np.sqrt(2*np.log(1/delta)+d*(log_-np.log(lamda)))),label=\"bound\",linestyle=\"dashed\")\n",
    "# plt.xscale('log')\n",
    "plt.yscale('log')\n",
    "plt.xlabel(\"round t\")\n",
    "plt.ylabel('Cumulative Bandit regret')\n",
    "# plt.ylim([0,500])\n",
    "# plt.plot(np.cumsum(regret[:,1,:].mean(axis=0)),label='forward')\n",
    "# plt.plot(np.cumsum(regret,axis=1).std(axis=0))\n",
    "plt.legend()\n",
    "# plt.savefig(folder+\"lamda_\"+str(lamda)+'_sigma_'+str(sigma)+\"_X_\"+str(X_max)+\"_S_\"+str(S)+\"_delta_\"+str(delta)+\".pdf\",bbox_inches='tight')\n",
    "plt.show()"
   ]
  },
  {
   "cell_type": "markdown",
   "metadata": {},
   "source": [
    "In the following cells, we visualize how the parameter estimate's norm evolves over time, this is not discussed in the paper, but it allows us to see how much the ``bounded predictions'' assumption is violated "
   ]
  },
  {
   "cell_type": "markdown",
   "metadata": {},
   "source": [
    "### Prediction norms"
   ]
  },
  {
   "cell_type": "code",
   "execution_count": null,
   "metadata": {},
   "outputs": [],
   "source": [
    "mean_norms = pred_norms.mean(axis=0)\n",
    "plt.plot(mean_norms[0]-mean_norms[1])\n",
    "# plt.plot(np.cumsum(regret[:,1,:].mean(axis=0)),label='forward')\n",
    "# plt.plot(np.cumsum(regret,axis=1).std(axis=0))\n",
    "plt.legend()\n",
    "# plt.yscale(\"log\")"
   ]
  },
  {
   "cell_type": "markdown",
   "metadata": {},
   "source": [
    "### distance of new points to old"
   ]
  },
  {
   "cell_type": "code",
   "execution_count": null,
   "metadata": {
    "scrolled": true
   },
   "outputs": [],
   "source": [
    "# Here we visualize the sum of features' norms $x_t^T G_{t}^{-1} x_t$ for both algorithms\n",
    "mean_x_inv_norms = x_inv_norms.mean(axis=0)\n",
    "plt.plot(mean_x_inv_norms[0])\n",
    "# plt.plot(np.cumsum(regret[:,1,:].mean(axis=0)),label='forward')\n",
    "# plt.plot(np.cumsum(regret,axis=1).std(axis=0))\n",
    "plt.legend()\n",
    "plt.yscale(\"log\")"
   ]
  }
 ],
 "metadata": {
  "kernelspec": {
   "display_name": "rlberry",
   "language": "python",
   "name": "rlberry"
  },
  "language_info": {
   "codemirror_mode": {
    "name": "ipython",
    "version": 3
   },
   "file_extension": ".py",
   "mimetype": "text/x-python",
   "name": "python",
   "nbconvert_exporter": "python",
   "pygments_lexer": "ipython3",
   "version": "3.8.12"
  },
  "vscode": {
   "interpreter": {
    "hash": "185c3e51586cb067d2ae94a061ed0ffcde78b8afce97c48c70fcb028435374cb"
   }
  }
 },
 "nbformat": 4,
 "nbformat_minor": 2
}
