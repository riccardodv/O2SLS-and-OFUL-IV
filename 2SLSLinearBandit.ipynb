{
 "cells": [
  {
   "attachments": {},
   "cell_type": "markdown",
   "metadata": {},
   "source": [
    "# OFUL-IV"
   ]
  },
  {
   "cell_type": "code",
   "execution_count": 1,
   "metadata": {},
   "outputs": [],
   "source": [
    "import numpy as np\n",
    "import numpy.random as ra\n",
    "import numpy.linalg as la\n",
    "from tqdm import tqdm\n",
    "import matplotlib.pyplot as plt\n",
    "# import os\n",
    "# print(os.getcwd())"
   ]
  },
  {
   "cell_type": "code",
   "execution_count": 2,
   "metadata": {},
   "outputs": [],
   "source": [
    "def sherman_morrison(invA, u, v):\n",
    "    d = u.shape[0]\n",
    "    u = u.reshape(d,1)\n",
    "    v = v.reshape(d,1)\n",
    "    return  (invA - (invA @ u @ v.T @ invA)/(1 + v.T @ invA @ u))\n",
    "    \n",
    "def calc_sqrt_b_ridge(k,sigma_2,lamda,delta,S_hat,logdetG):\n",
    "    '''Returns confidence interval width for ridge regression'''\n",
    "    return sigma_2 * np.sqrt( logdetG - k * np.log(lamda) + np.log(1/(delta**2)) ) + np.sqrt(lamda) * S_hat \n",
    "\n",
    "def calc_sqrt_b_2sls(k,sigma_2,lamda,delta,S_hat,logdetG):\n",
    "    '''Returns confidence interval width for 2SLS regression'''\n",
    "    return sigma_2 * np.sqrt( logdetG - k * np.log(lamda) + np.log(1/(delta**2)) )"
   ]
  },
  {
   "cell_type": "code",
   "execution_count": 3,
   "metadata": {},
   "outputs": [],
   "source": [
    "def runit(Z, X, Y, beta_star, S_hat, sigma_1, sigma_2,lamda, lamda_IV, delta, seed, pulled_indeces, algorithm='ridge'):\n",
    "    '''function used to run an instance of linear bandits using OFUL with ridge or 2SLS regression'''\n",
    "    np.random.seed(42)\n",
    "    nb_exp, T, nb_actions, d = X.shape\n",
    "    regret = np.zeros((nb_exp,T))\n",
    "    pred_norms = np.zeros((nb_exp,T))\n",
    "    x_inv_norms = np.zeros((nb_exp,T))\n",
    "    norm_beta_hat__beta = np.zeros((nb_exp, T))\n",
    "    beta_hat_rec = np.zeros((nb_exp,T,d))\n",
    "    ThetaHat_rec = np.zeros((nb_exp,T, d, d))\n",
    "        \n",
    "    for i in tqdm(range(nb_exp)):\n",
    "        \n",
    "        Gxx, invGxx = lamda*np.eye(d), np.eye(d)/lamda\n",
    "        Gzz, invGzz = lamda*np.eye(d), np.eye(d)/lamda # is the regularizer correct here???\n",
    "        ZXt = lamda_IV*np.eye(d)\n",
    "        invZXt = np.eye(d)/lamda_IV\n",
    "        Zyt = np.zeros(d)\n",
    "        Xyt = np.zeros(d) \n",
    "\n",
    "        logdetG = d*np.log(lamda)\n",
    "        sqrt_b_ridge = calc_sqrt_b_ridge(d, sigma_2, lamda, delta, S_hat, logdetG)\n",
    "        sqrt_b_2sls = calc_sqrt_b_2sls(d, sigma_2, lamda, delta, S_hat, logdetG)\n",
    "        \n",
    "        beta_hat = np.zeros(d)\n",
    "        invThetaHat = np.eye(d)/lamda \n",
    "\n",
    "\n",
    "        for t in range(T):\n",
    "            z = Z[i,t] ; x = X[i,t]; y = Y[i,t]\n",
    "\n",
    "\n",
    "            # Make PREDICTIONS\n",
    "            if algorithm == 'ridge':\n",
    "                X_invGt_norm_sq = np.sum(np.dot(x, invGxx) * x, 1)\n",
    "                x_inv_norms[i,t] = max(X_invGt_norm_sq)\n",
    "                norm_beta_hat__beta[i,t] = np.linalg.norm(beta_hat-beta_star)\n",
    "                preds = np.dot(x, beta_hat)\n",
    "                pred_norms[i,t] = np.linalg.norm(preds)\n",
    "                obj = preds + sqrt_b_ridge * np.sqrt(X_invGt_norm_sq) \n",
    "\n",
    "            if algorithm == '2sls':\n",
    "                X_invThetaHat_invGt_invThetaHatT_norm_sq = np.sum((x @ invThetaHat @ invGzz @ invThetaHat.T) * x,1)\n",
    "                preds = np.dot(x, beta_hat)\n",
    "                norm_beta_hat__beta[i,t] = np.linalg.norm(beta_hat-beta_star)\n",
    "                pred_norms[i,t] = np.linalg.norm(preds)\n",
    "                obj = preds + sqrt_b_2sls * np.sqrt(X_invThetaHat_invGt_invThetaHatT_norm_sq) \n",
    "\n",
    "\n",
    "            # Pull the arm with the highest index (OPTIMISM)\n",
    "            pulled_idx = np.argmax(obj)  \n",
    "            pulled_indeces[i,t] = pulled_idx \n",
    "            xt = x[pulled_idx, :]\n",
    "            zt = z[pulled_idx, :]\n",
    "            yt = y[pulled_idx]\n",
    "            # Compute REGRET\n",
    "            # regret[i,t] = np.max(np.dot(x, beta_star))-np.dot(xt, beta_star) # expected regret\n",
    "            regret[i,t] = np.max(y) - yt\n",
    "\n",
    "\n",
    "            # build ESTIMATORS and INDECES\n",
    "            if algorithm == 'ridge':\n",
    "                Xyt += xt*yt\n",
    "                Gxx += np.outer(xt, xt)\n",
    "                if (t % 50 == 0):\n",
    "                    invGxx = np.linalg.inv(Gxx)\n",
    "                else:\n",
    "                    invGxx = sherman_morrison(invGxx, xt,xt) \n",
    "                logdetG += xt.T @ invGxx @ xt\n",
    "                sqrt_b_ridge = calc_sqrt_b_ridge(d, sigma_2, lamda, delta, S_hat, logdetG)\n",
    "                beta_hat =  invGxx @ Xyt\n",
    "            \n",
    "            if algorithm == '2sls':\n",
    "                Gxx += np.outer(xt, xt)\n",
    "                Gzz += np.outer(zt, zt)  \n",
    "                Zyt += zt*yt\n",
    "                Xyt += xt*yt\n",
    "                ZXt += np.outer(zt, xt)\n",
    "                logdetG += zt.T @ invGxx @ zt\n",
    "                if (t % 50 == 0): \n",
    "                    invGxx = np.linalg.inv(Gxx)\n",
    "                    invZXt = np.linalg.inv(ZXt)\n",
    "                    invGzz = np.linalg.inv(Gzz)\n",
    "                else:\n",
    "                    invGxx = sherman_morrison(invGxx, xt, xt)\n",
    "                    invZXt = sherman_morrison(invZXt, zt, xt)\n",
    "                    invGzz = sherman_morrison(invGzz, zt, zt) \n",
    "                ThetaHat = invGzz @ ZXt\n",
    "                ThetaHat_rec[i,t, :, :] = ThetaHat \n",
    "                invThetaHat =  np.linalg.inv(ThetaHat)\n",
    "                sqrt_b_2sls = calc_sqrt_b_2sls(d, sigma_2, lamda, delta, S_hat, logdetG)\n",
    "                beta_hat = invZXt @ Zyt\n",
    "\n",
    "            # record the value\n",
    "            beta_hat_rec[i,t, :] = beta_hat \n",
    "\n",
    "    return regret, pred_norms, x_inv_norms, beta_hat_rec, ThetaHat_rec, norm_beta_hat__beta"
   ]
  },
  {
   "attachments": {},
   "cell_type": "markdown",
   "metadata": {},
   "source": [
    "Fix parameters of the simulation:"
   ]
  },
  {
   "cell_type": "code",
   "execution_count": 4,
   "metadata": {},
   "outputs": [],
   "source": [
    "S, sigma_1, sigma_2 = 1, 0.01, 0.0001\n",
    "nb_exp, T, n_a, d = 100, int(1e3), 100, 20\n",
    "\n",
    "theta_star = np.random.randn(d,d); #  theta_star *= 1/np.linalg.norm(theta_star) #maybe this can be changed\n",
    "inv_theta_star = np.linalg.inv(theta_star)\n",
    "beta_star = np.random.multivariate_normal([10 for i in range(d)], np.eye(d)).reshape(-1,) ; beta_star *= S/np.linalg.norm(beta_star)\n",
    "\n",
    "lamda = 1 ; lamda_IV = 1e-3\n",
    "delta = 0.001\n",
    "seed = 1996\n",
    "S_hat = S\n",
    "pulled_indeces = np.zeros((nb_exp,T))\n",
    "\n",
    "algorithms = ['ridge','2sls']\n"
   ]
  },
  {
   "attachments": {},
   "cell_type": "markdown",
   "metadata": {},
   "source": [
    "\n",
    "Generate the data for the simulation:"
   ]
  },
  {
   "cell_type": "code",
   "execution_count": 5,
   "metadata": {},
   "outputs": [],
   "source": [
    "# FIRST STAGE\n",
    "# X_max = 100\n",
    "Z = np.random.randn(nb_exp, T, n_a, d) #; Z /= np.max(np.linalg.norm(Z,axis=2))/X_max\n",
    "eps = sigma_1*np.random.randn(nb_exp, T, n_a, d)\n",
    "# eps = np.zeros((T,d))\n",
    "X = np.dot(Z, theta_star) + eps\n",
    "\n",
    "# SECOND STAGE\n",
    "ee = d//4\n",
    "eta_tilde = np.random.randn(nb_exp, T, n_a) \n",
    "# eta = (eta_tilde + np.sum(eps[:,:,:,:ee]))/(1+ee*sigma_1)*sigma_2\n",
    "eta = sigma_2 * (eta_tilde + eps[:,:,:,:ee].sum(axis=-1))\n",
    "X = X / np.max(np.linalg.norm(X, axis=3, keepdims = True), axis=2, keepdims=True) \n",
    "Y = np.dot(X, beta_star) + eta"
   ]
  },
  {
   "attachments": {},
   "cell_type": "markdown",
   "metadata": {},
   "source": [
    "Run simulations:"
   ]
  },
  {
   "cell_type": "code",
   "execution_count": 6,
   "metadata": {
    "scrolled": true
   },
   "outputs": [
    {
     "name": "stderr",
     "output_type": "stream",
     "text": [
      "100%|██████████| 100/100 [00:20<00:00,  4.92it/s]\n",
      "100%|██████████| 100/100 [00:52<00:00,  1.91it/s]\n"
     ]
    }
   ],
   "source": [
    "regrets = np.zeros((nb_exp,len(algorithms),T))\n",
    "pred_norms = np.zeros((nb_exp,len(algorithms),T))\n",
    "x_inv_norms = np.zeros((nb_exp,len(algorithms),T))\n",
    "# beta_hat_ridge = np.zeros((nb_exp,T,d))\n",
    "beta_hat = np.zeros((nb_exp, len(algorithms), T,d))\n",
    "theta_hat = np.zeros((nb_exp, len(algorithms), T, d, d))\n",
    "beta_error = np.zeros((nb_exp, len(algorithms), T))\n",
    "\n",
    "for i,a in enumerate(algorithms):\n",
    "    regrets[:,i,:], pred_norms[:,i,:], x_inv_norms[:,i,:],\\\n",
    "         beta_hat[:, i, :,:] , theta_hat[:, i, :,:, :], beta_error[:,i,:]\\\n",
    "             = runit(Z, X, Y, beta_star, S_hat, sigma_1, sigma_2, lamda, lamda_IV, delta, seed, pulled_indeces, a)"
   ]
  },
  {
   "attachments": {},
   "cell_type": "markdown",
   "metadata": {},
   "source": [
    "# Performances\n",
    "\n",
    "### $L_2$ distance between estimator $\\beta_t$ and the true $\\beta$ "
   ]
  },
  {
   "cell_type": "code",
   "execution_count": 7,
   "metadata": {},
   "outputs": [
    {
     "name": "stdout",
     "output_type": "stream",
     "text": [
      "||betaHat_ridge - beta|| =  0.21463065381863322\n",
      "||betaHat_IV - beta|| =  3.371631947579017e-05\n",
      "||thetaHat - theta|| =  19.435282713113367\n"
     ]
    }
   ],
   "source": [
    "# print(\"||beta - beta|| = \", np.linalg.norm((beta_star-beta_star).mean(axis=0)))\n",
    "print(\"||betaHat_ridge - beta|| = \", np.linalg.norm((beta_hat[:, 0, -1, :]-beta_star).mean(axis=0)))\n",
    "print(\"||betaHat_IV - beta|| = \", np.linalg.norm((beta_hat[:, 1, -1, :]-beta_star).mean(axis=0)))\n",
    "\n",
    "# print(np.linalg.norm((theta_star - np.array([0.]))))\n",
    "# print(np.linalg.norm((theta_hat[:, 0, -1, :, :]-theta_star).mean(axis=0)))\n",
    "print(\"||thetaHat - theta|| = \", np.linalg.norm((theta_hat[:, 1, -1, :, :]-theta_star).mean(axis=0)))\n",
    "\n",
    "# mean_beta_ridge = beta_hat[:, 0, -1, :].mean(axis=0)\n",
    "# mean_beta_2sls = beta_hat[:, 1, -1, :].mean(axis=0)\n",
    "# print(beta_star) \n",
    "# print(mean_beta_ridge) \n",
    "# print(mean_beta_2sls)"
   ]
  },
  {
   "cell_type": "code",
   "execution_count": 8,
   "metadata": {},
   "outputs": [
    {
     "data": {
      "text/plain": [
       "array([[ 2.,  9., 64., ..., 13., 40., 89.],\n",
       "       [66., 35., 78., ..., 15., 47., 25.],\n",
       "       [ 0., 53., 65., ..., 56., 44., 32.],\n",
       "       ...,\n",
       "       [12., 21.,  8., ..., 93., 45., 32.],\n",
       "       [64., 27., 12., ..., 83., 89., 24.],\n",
       "       [72., 31., 17., ...,  3., 78., 23.]])"
      ]
     },
     "execution_count": 8,
     "metadata": {},
     "output_type": "execute_result"
    }
   ],
   "source": [
    "pulled_indeces"
   ]
  },
  {
   "cell_type": "markdown",
   "metadata": {},
   "source": [
    "1. We plot the MSE error in the estimation of $\\beta$"
   ]
  },
  {
   "cell_type": "code",
   "execution_count": 13,
   "metadata": {},
   "outputs": [],
   "source": [
    "labels = ['OFUL','OFUL-IV']\n",
    "# colors = ['blue','darkviolet','darkorange']#,'darkred']\n",
    "colors = ['#377eb8', '#ff7f00', '#4daf4a','#f781bf', '#a65628', '#984ea3','#999999', '#e41a1c', '#dede00']\n",
    "# s_colors = ['cyan','violet','orange']#,'red']\n",
    "\n",
    "SMALL_SIZE = 8\n",
    "MEDIUM_SIZE = 10\n",
    "BIGGER_SIZE = 16\n",
    "\n",
    "plt.rc('font', size=SMALL_SIZE)          # controls default text sizes\n",
    "plt.rc('axes', titlesize=SMALL_SIZE)     # fontsize of the axes title\n",
    "plt.rc('axes', labelsize=BIGGER_SIZE)    # fontsize of the x and y labels\n",
    "plt.rc('xtick', labelsize=MEDIUM_SIZE)    # fontsize of the tick labels\n",
    "plt.rc('ytick', labelsize=MEDIUM_SIZE)    # fontsize of the tick labels\n",
    "plt.rc('legend', fontsize=BIGGER_SIZE)    # legend fontsize\n",
    "plt.rc('figure', titlesize=BIGGER_SIZE)"
   ]
  },
  {
   "cell_type": "code",
   "execution_count": 14,
   "metadata": {},
   "outputs": [
    {
     "data": {
      "image/png": "[encoded data removed]",
      "text/plain": [
       "<Figure size 432x288 with 1 Axes>"
      ]
     },
     "metadata": {
      "needs_background": "light"
     },
     "output_type": "display_data"
    }
   ],
   "source": [
    "mean_beta_errors = beta_error.mean(axis=0)\n",
    "std_beta_errors = beta_error.std(axis=0)\n",
    "\n",
    "fst_quantile_beta_error = np.quantile(beta_error,0.25,axis=0)\n",
    "scd_quantile_beta_error = np.quantile(beta_error,0.5,axis=0)\n",
    "thd_quantile_beta_error = np.quantile(beta_error,0.75,axis=0)\n",
    "\n",
    "for i,a in enumerate(algorithms):\n",
    "    plt.plot(mean_beta_errors[i,:], label= labels[i])\n",
    "    plt.fill_between(np.arange(T),mean_beta_errors[i]-std_beta_errors[i],mean_beta_errors[i]+std_beta_errors[i],alpha=0.4)\n",
    "\n",
    "    # plt.fill_between(np.arange(T),fst_quantile_beta_error[i],thd_quantile_beta_error[i],color=colors[i],alpha=0.2)\n",
    "    # plt.plot(fst_quantile_beta_error[i],color=colors[i],linestyle=\"dashed\")\n",
    "    # plt.plot(scd_quantile_beta_error[i],color=colors[i],linestyle=\"solid\", label = labels[i])\n",
    "    # plt.plot(thd_quantile_beta_error[i],color=colors[i],linestyle=\"dashed\")\n",
    "plt.legend()\n",
    "plt.xlabel(\"round t\")\n",
    "plt.ylabel('MSE')\n",
    "plt.yscale(\"log\")\n",
    "plt.savefig(\"B_beta_error.pdf\", format='pdf')"
   ]
  },
  {
   "attachments": {},
   "cell_type": "markdown",
   "metadata": {},
   "source": [
    "### Regret study"
   ]
  },
  {
   "attachments": {},
   "cell_type": "markdown",
   "metadata": {},
   "source": [
    "2. We plot the INSTANTANEOUS REGRET:\n",
    "$\n",
    "    y_{t, a^*} - y_t  = (\\left\\langle x_{t, a^{*}}, \\beta \\right\\rangle + \\eta_{t,a^{*}})-(\\left\\langle x_t, \\beta \\right\\rangle + \\eta_t)\n",
    "$\n",
    "where $y_{t,a^{*}} = \\max_{a} y_{t,a}$"
   ]
  },
  {
   "cell_type": "code",
   "execution_count": 15,
   "metadata": {},
   "outputs": [
    {
     "data": {
      "image/png": "[encoded data removed]",
      "text/plain": [
       "<Figure size 432x288 with 1 Axes>"
      ]
     },
     "metadata": {
      "needs_background": "light"
     },
     "output_type": "display_data"
    }
   ],
   "source": [
    "mean_regret = regrets.mean(axis=0)\n",
    "std_regret = regrets.std(axis=0)\n",
    "\n",
    "\n",
    "fst_quantile_regret = np.quantile(regrets,0.25,axis=0)\n",
    "scd_quantile_regret = np.quantile(regrets,0.5,axis=0)\n",
    "thd_quantile_regret = np.quantile(regrets,0.75,axis=0)\n",
    "# _ = np.log(lamda+(X_max**2)*np.arange(1,T+1)/d)\n",
    "\n",
    "\n",
    "for i,a in enumerate(algorithms):\n",
    "    plt.plot(mean_regret[i],label=labels[i],color=colors[i])\n",
    "    plt.fill_between(np.arange(T),mean_regret[i]-std_regret[i],mean_regret[i]+std_regret[i],alpha=0.4)\n",
    "\n",
    "    # plt.fill_between(np.arange(T),fst_quantile_regret[i],thd_quantile_regret[i],color=colors[i],alpha=0.2)\n",
    "    # plt.plot(fst_quantile_regret[i],color=colors[i],linestyle=\"dashed\")\n",
    "    # plt.plot(scd_quantile_regret[i],color=colors[i],linestyle=\"solid\", label = labels[i])\n",
    "    # plt.plot(thd_quantile_regret[i],color=colors[i],linestyle=\"dashed\")\n",
    "# log_ = np.log(lamda+np.arange(1,T+1)/d)\n",
    "# plt.plot(4*np.sqrt(T*d*log_)*(np.sqrt(lamda)*S_hat+sigma*np.sqrt(2*np.log(1/delta)+d*(log_-np.log(lamda)))),label=\"bound\",linestyle=\"dashed\")\n",
    "# plt.xscale('log')\n",
    "plt.yscale('log')\n",
    "plt.xlabel(\"round t\")\n",
    "plt.ylabel('instantaneous regret')\n",
    "# plt.xlim([0,50])\n",
    "# plt.plot(np.cumsum(regret[:,1,:].mean(axis=0)),label='forward')\n",
    "# plt.plot(np.cumsum(regret,axis=1).std(axis=0))\n",
    "plt.legend()\n",
    "plt.savefig(\"B_instantaneous_regret.pdf\", format='pdf')"
   ]
  },
  {
   "attachments": {},
   "cell_type": "markdown",
   "metadata": {},
   "source": [
    "3. We plot the cumulative reward\n",
    "$\n",
    "    \\sum_{t=1}^T y_{t, a^*} - y_t  = \\sum_{t=1}^T(\\left\\langle x_{t, a^{*}}, \\beta \\right\\rangle + \\eta_{t,a^{*}})- \\sum_{t=1}^T(\\left\\langle x_t, \\beta \\right\\rangle + \\eta_t)\n",
    "$\n",
    "where, we defined $x_t = x_{t, a_t}, y_t = y_{t, a_t}, \\eta_t = \\eta_{t, a_t}$."
   ]
  },
  {
   "cell_type": "code",
   "execution_count": 16,
   "metadata": {},
   "outputs": [
    {
     "data": {
      "image/png": "[encoded data removed]",
      "text/plain": [
       "<Figure size 432x288 with 1 Axes>"
      ]
     },
     "metadata": {
      "needs_background": "light"
     },
     "output_type": "display_data"
    },
    {
     "data": {
      "text/plain": [
       "<Figure size 432x288 with 0 Axes>"
      ]
     },
     "metadata": {},
     "output_type": "display_data"
    }
   ],
   "source": [
    "start = 0 # start from bigger round to have a sort of \"warm starting\"\n",
    "mean_regret = np.cumsum(regrets.mean(axis=0)[:,start:] ,axis=1)\n",
    "std_regret = np.cumsum(regrets.std(axis=0)[:,start:],axis=1)\n",
    "\n",
    "fst_quantile_regret = np.cumsum(np.quantile(regrets[:,:,start:],0.25,axis=0),axis=1)\n",
    "scd_quantile_regret = np.cumsum(np.quantile(regrets[:,:,start:],0.5,axis=0),axis=1)\n",
    "thd_quantile_regret = np.cumsum(np.quantile(regrets[:,:,start:],0.75,axis=0),axis=1)\n",
    "\n",
    "\n",
    "for i,a in enumerate(algorithms):\n",
    "#     plt.plot(np.divide(mean_regret[i],np.sqrt(T*d*_*np.arange(1,T+1))),label=labels[i],color=colors[i])\n",
    "    # plt.plot(mean_regret[i],label=labels[i],color=colors[i])\n",
    "    # plt.fill_between(np.arange(T-start),np.divide(fst_quantile_regret[i],np.sqrt(T*d*_*np.arange(1,T+1))),np.divide(thd_quantile_regret[i],np.sqrt(T*d*_*np.arange(1,T+1))),color=colors[i],alpha=0.2)\n",
    "    plt.fill_between(np.arange(T-start),fst_quantile_regret[i],thd_quantile_regret[i],color=colors[i],alpha=0.2)\n",
    "    plt.plot(fst_quantile_regret[i],color=colors[i],linestyle=\"dashed\")\n",
    "    plt.plot(scd_quantile_regret[i],color=colors[i],linestyle=\"solid\", label = labels[i])\n",
    "    plt.plot(thd_quantile_regret[i],color=colors[i],linestyle=\"dashed\")\n",
    "    # plt.fill_between(np.arange(T-start),mean_regret[i]-std_regret[i],mean_regret[i]+std_regret[i],alpha=0.1)\n",
    "# log_ = np.log(lamda+np.arange(1,T+1)/d)\n",
    "# plt.plot(4*np.sqrt(T*d*log_)*(np.sqrt(lamda)*S_hat+sigma*np.sqrt(2*np.log(1/delta)+d*(log_-np.log(lamda)))),label=\"bound\",linestyle=\"dashed\")\n",
    "# plt.xscale('log')\n",
    "plt.yscale('symlog')\n",
    "plt.xlabel(\"round t\")\n",
    "plt.ylabel('Cumulative Bandit regret')\n",
    "# plt.xlim([0,50])\n",
    "# plt.plot(np.cumsum(regret[:,1,:].mean(axis=0)),label='forward')\n",
    "# plt.plot(np.cumsum(regret,axis=1).std(axis=0))\n",
    "plt.legend()\n",
    "plt.show()\n",
    "plt.savefig(\"bandit_cumulative_regret.pdf\", format='pdf')\n",
    "\n",
    "\n",
    "\n",
    "# uncomment below for the code witout \"warm starting\"\n",
    "# mean_regret = np.cumsum(regrets.mean(axis=0),axis=1)\n",
    "# std_regret = np.cumsum(regrets.std(axis=0),axis=1)\n",
    "\n",
    "# fst_quantile_regret = np.cumsum(np.quantile(regrets,0.25,axis=0),axis=1)\n",
    "# scd_quantile_regret = np.cumsum(np.quantile(regrets,0.5,axis=0),axis=1)\n",
    "# thd_quantile_regret = np.cumsum(np.quantile(regrets,0.75,axis=0),axis=1)\n",
    "# # _ = np.log(lamda+(X_max**2)*np.arange(1,T+1)/d)\n",
    "\n",
    "\n",
    "# for i,a in enumerate(algorithms):\n",
    "# #     plt.plot(np.divide(mean_regret[i],np.sqrt(T*d*_*np.arange(1,T+1))),label=labels[i],color=colors[i])\n",
    "#     # plt.plot(mean_regret[i],label=labels[i],color=colors[i])\n",
    "# #     plt.fill_between(np.arange(T),np.divide(fst_quantile_regret[i],np.sqrt(T*d*_*np.arange(1,T+1))),np.divide(thd_quantile_regret[i],np.sqrt(T*d*_*np.arange(1,T+1))),color=colors[i],alpha=0.2)\n",
    "#     plt.fill_between(np.arange(T),fst_quantile_regret[i],thd_quantile_regret[i],color=colors[i],alpha=0.2)\n",
    "#     plt.plot(fst_quantile_regret[i],color=colors[i],linestyle=\"dashed\")\n",
    "#     plt.plot(scd_quantile_regret[i],color=colors[i],linestyle=\"solid\", label = labels[i])\n",
    "#     plt.plot(thd_quantile_regret[i],color=colors[i],linestyle=\"dashed\")\n",
    "#     # plt.fill_between(np.arange(T),mean_regret[i]-std_regret[i],mean_regret[i]+std_regret[i],alpha=0.1)\n",
    "# # log_ = np.log(lamda+np.arange(1,T+1)/d)\n",
    "# # plt.plot(4*np.sqrt(T*d*log_)*(np.sqrt(lamda)*S_hat+sigma*np.sqrt(2*np.log(1/delta)+d*(log_-np.log(lamda)))),label=\"bound\",linestyle=\"dashed\")\n",
    "# # plt.xscale('log')\n",
    "# plt.yscale('log')\n",
    "# plt.xlabel(\"round t\")\n",
    "# plt.ylabel('Cumulative Bandit regret')\n",
    "# # plt.xlim([0,50])\n",
    "# # plt.plot(np.cumsum(regret[:,1,:].mean(axis=0)),label='forward')\n",
    "# # plt.plot(np.cumsum(regret,axis=1).std(axis=0))\n",
    "# plt.legend()\n",
    "# plt.show()\n",
    "# plt.savefig(\"bandit_cumulative_regret.pdf\", format='pdf')\n"
   ]
  },
  {
   "cell_type": "code",
   "execution_count": null,
   "metadata": {},
   "outputs": [],
   "source": []
  },
  {
   "cell_type": "code",
   "execution_count": null,
   "metadata": {},
   "outputs": [],
   "source": []
  }
 ],
 "metadata": {
  "kernelspec": {
   "display_name": "rlberry",
   "language": "python",
   "name": "python3"
  },
  "language_info": {
   "codemirror_mode": {
    "name": "ipython",
    "version": 3
   },
   "file_extension": ".py",
   "mimetype": "text/x-python",
   "name": "python",
   "nbconvert_exporter": "python",
   "pygments_lexer": "ipython3",
   "version": "3.8.12"
  },
  "vscode": {
   "interpreter": {
    "hash": "5ca366b08d38d2b7f416033b21c3f43b19610ec79c715b747b62582bbb48cce3"
   }
  }
 },
 "nbformat": 4,
 "nbformat_minor": 2
}
