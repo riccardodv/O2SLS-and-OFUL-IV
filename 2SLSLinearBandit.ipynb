{
 "cells": [
  {
   "cell_type": "code",
   "execution_count": 22,
   "metadata": {},
   "outputs": [],
   "source": [
    "import numpy as np\n",
    "import numpy.random as ra\n",
    "import numpy.linalg as la\n",
    "from tqdm import tqdm\n",
    "import matplotlib.pyplot as plt\n",
    "# plt.style.use(\"ggplot\")"
   ]
  },
  {
   "cell_type": "markdown",
   "metadata": {},
   "source": [
    "### Utils"
   ]
  },
  {
   "cell_type": "code",
   "execution_count": 23,
   "metadata": {},
   "outputs": [],
   "source": [
    "def calc_sqrt_b_ridge(k,sigma_2,lamda,delta,S_hat,logdetG):\n",
    "    '''Returns confidence interval width for ridge regression'''\n",
    "    return sigma_2 * np.sqrt( logdetG - k * np.log(lamda) + np.log(1/(delta**2)) ) + np.sqrt(lamda) * S_hat \n",
    "\n",
    "def calc_sqrt_b_2sls(k,sigma_2,lamda,delta,S_hat,logdetG):\n",
    "    '''Returns confidence interval width for 2SLS regression'''\n",
    "    return sigma_2 * np.sqrt( logdetG - k * np.log(lamda) + np.log(1/(delta**2)) )\n",
    "\n",
    "def runit(nb_exp, Z, X, theta, S_hat, sigma_1, sigma_2,lamda,delta, seed, eps, algorithm='ridge'):\n",
    "    '''function used to run an instance of linear bandits using OFUL with ridge or 2SLS regression\n",
    "    :param nb_exp: integer, number of runs used to average noise\n",
    "    :param X: tuple, dimensions (T,n_a,d) where T: #observations, n_a: #actions, d: #covariates\n",
    "    :param beta: vector of R^d, reward function parameter\n",
    "    :param S_hat: float, such that ||beta||_2 < S_hat\n",
    "    :param sigma_2: float, variance of the noise\n",
    "    :param lamda: float, regularization\n",
    "    :param delta: float, power of the confidence intervals\n",
    "    :param seed: float, fix seed for reproducibility\n",
    "    :param algorithm: string, ridge or 2SLS\n",
    "    '''\n",
    "    np.random.seed(seed)\n",
    "    T, nb_actions, d = X.shape\n",
    "    regret = np.zeros((nb_exp,T))\n",
    "    pred_norms = np.zeros((nb_exp,T))\n",
    "    x_inv_norms = np.zeros((nb_exp,T))\n",
    "    beta_hat_ridge_rec = np.zeros((nb_exp,T,d))\n",
    "    beta_hat_2sls_rec = np.zeros((nb_exp,T,d))\n",
    "        \n",
    "    for i in tqdm(range(nb_exp)):\n",
    "\n",
    "\n",
    "        \n",
    "\n",
    "\n",
    "\n",
    "\n",
    "\n",
    "        Gxx, invGxx = lamda*np.eye(d), np.eye(d)/lamda\n",
    "        ZXt = 1e-4*np.eye(d)\n",
    "        Zyt = np.zeros(d)\n",
    "        Gzz, invGzz = lamda*np.eye(d), np.eye(d)/lamda # is the regularizer correct here???\n",
    "        invThetaHat = np.eye(d)/lamda     # \n",
    "        logdetG = d*np.log(lamda)\n",
    "        Xyt = np.zeros(d) \n",
    "        sqrt_b_ridge = calc_sqrt_b_ridge(d, sigma_2, lamda, delta, S_hat, logdetG)\n",
    "        sqrt_b_2sls = calc_sqrt_b_2sls(d, sigma_2, lamda, delta, S_hat, logdetG)\n",
    "        beta_hat_ridge = np.zeros(d)\n",
    "        beta_hat_2sls = np.zeros(d)\n",
    "\n",
    "        for t in range(T):\n",
    "            z = Z[t]\n",
    "            x = X[t]\n",
    "   \n",
    "            if algorithm == 'ridge':\n",
    "                X_invGt_norm_sq = np.sum(np.dot(x, invGxx) * x, 1)\n",
    "                x_inv_norms[i,t] = max(X_invGt_norm_sq)\n",
    "                preds = np.dot(x, beta_hat_ridge)\n",
    "                pred_norms[i,t] = np.linalg.norm(preds)\n",
    "                obj = preds + sqrt_b_ridge * np.sqrt(X_invGt_norm_sq) \n",
    "\n",
    "            if algorithm == '2sls':\n",
    "                X_invThetaHat_invGt_invThetaHatT_norm_sq = np.sum((x @ invThetaHat @ invGzz @ invThetaHat.T) * x,1)\n",
    "                # X_invThetaHat_invGt_invThetaHatT_norm_sq = np.sum((x @ invGzz) * x,1)\n",
    "                x_inv_norms[i,t] = max(X_invThetaHat_invGt_invThetaHatT_norm_sq)\n",
    "                preds = np.dot(x, beta_hat_2sls)\n",
    "                pred_norms[i,t] = np.linalg.norm(preds)\n",
    "                obj = preds + sqrt_b_2sls * np.sqrt(X_invThetaHat_invGt_invThetaHatT_norm_sq) \n",
    "\n",
    "            # Pull the arm with the highest estimated value\n",
    "            pulled_idx = np.argmax(obj)  \n",
    "            \n",
    "\n",
    "            # second stage\n",
    "            ee = d//3\n",
    "            eta_tilde = np.random.normal(0,1) \n",
    "            # eta = (eta_tilde + np.sum(eps[t,:,:ee]))/(1+ee*sigma_1)*sigma_2\n",
    "            eta = (eta_tilde + np.sum(eps[t,:,:ee]))\n",
    "            # x /= np.max(np.linalg.norm(x)) # ???? do I need it here ????\n",
    "            xt = x[pulled_idx, :]\n",
    "            zt = z[pulled_idx, :]\n",
    "            y = np.dot(x, beta_star) + eta\n",
    "            yt = y[pulled_idx]\n",
    "            # compute regret \n",
    "            regret[i,t] = np.max(np.dot(x, beta_star))-np.dot(xt, beta_star) # maybe I should change this definition of regret\n",
    "            # regret[i,t] = np.max(y) - yt # maybe I should change this definition of regret\n",
    "\n",
    "\n",
    "            # build estimators\n",
    "            if algorithm == 'ridge':\n",
    "                Xyt += xt*yt\n",
    "                Gxx += np.outer(xt, xt)\n",
    "                tempval1 = np.dot(invGxx, xt)    # d by 1, O(d^2)\n",
    "                tempval2 = np.dot(tempval1, xt)      # scalar, O(d)\n",
    "                logdetG += np.log(1 + tempval2)\n",
    "                if (t % 20 == 0):\n",
    "                    invGxx = np.linalg.inv(Gxx)\n",
    "                else:\n",
    "                    invGxx -= np.outer(tempval1, tempval1) / (1 + tempval2) \n",
    "                beta_hat_ridge = np.dot(invGxx, Xyt)\n",
    "                sqrt_b_ridge = calc_sqrt_b_ridge(d, sigma_2, lamda, delta, S_hat, logdetG)\n",
    "                beta_hat_ridge_rec[i,t, :] = beta_hat_ridge\n",
    "                # print(beta_hat_ridge)\n",
    "            \n",
    "            if algorithm == '2sls': # check all inverse here\n",
    "                Zyt += zt*yt\n",
    "                ZXt += np.outer(zt, xt)\n",
    "                Gzz += np.outer(zt, zt)  # ????? regularizer here is it correct\n",
    "                tempval1 = np.dot(invGzz, zt)    # d by 1, O(d^2)\n",
    "                tempval2 = np.dot(tempval1, zt)      # scalar, O(d)\n",
    "                logdetG += np.log(1 + tempval2)\n",
    "                if (t % 20 == 0):\n",
    "                    invGzz = np.linalg.inv(Gzz)\n",
    "                else:\n",
    "                    invGzz -= np.outer(tempval1, tempval1) / (1 + tempval2) \n",
    "                beta_hat_2sls = np.linalg.inv(ZXt + 1e-4*np.eye(d)) @ Zyt\n",
    "                ThetaHat = invGzz @ ZXt\n",
    "                invThetaHat =  np.linalg.inv(ThetaHat)\n",
    "                sqrt_b_2sls = calc_sqrt_b_2sls(d, sigma_2, lamda, delta, S_hat, logdetG)\n",
    "                beta_hat_2sls_rec[i,t, :] = beta_hat_2sls    \n",
    "                # print(beta_hat_2sls)\n",
    "\n",
    "            \n",
    "    if algorithm == 'ridge':\n",
    "        return regret, pred_norms, x_inv_norms, beta_hat_ridge_rec\n",
    "    elif algorithm == '2sls':\n",
    "        return regret, pred_norms, x_inv_norms, beta_hat_2sls_rec\n",
    "    else:\n",
    "        print(\"error\")\n"
   ]
  },
  {
   "cell_type": "markdown",
   "metadata": {},
   "source": [
    "### Experiments"
   ]
  },
  {
   "cell_type": "code",
   "execution_count": 24,
   "metadata": {},
   "outputs": [],
   "source": [
    "S, sigma_1, sigma_2 = 1, 1, 1\n",
    "T, n_a, d = int(1e3), 100, 20\n",
    "theta_star = np.random.randn(d,d);  #theta_star *= 1/np.linalg.norm(theta_star) #maybe this can be changed\n",
    "beta_star = np.random.multivariate_normal([10],[[1]],d).reshape(-1,) #; beta_star *= S/np.linalg.norm(beta_star)\n",
    "# print(\"beta = \", beta_star, \"\\ntheta = \", theta_star)"
   ]
  },
  {
   "cell_type": "code",
   "execution_count": 33,
   "metadata": {},
   "outputs": [],
   "source": [
    "# first stage\n",
    "# X_max = 100\n",
    "Z = np.random.randn(T, n_a, d) #; Z /= np.max(np.linalg.norm(Z,axis=2))/X_max\n",
    "eps = sigma_1*np.random.randn(T, n_a, d)\n",
    "# eps = np.zeros((T,d))\n",
    "X = np.dot(Z, theta_star) + eps\n",
    "\n",
    "# second stage\n",
    "ee = d//5\n",
    "eta_tilde = np.random.randn(T, n_a) \n",
    "# eta = (eta_tilde + np.sum(eps[t,:,:ee]))/(1+ee*sigma_1)*sigma_2\n",
    "eta = eta_tilde + eps[:,:,:ee].sum(axis=2)\n",
    "# x /= np.max(np.linalg.norm(x)) # ???? do I need it here ????\n",
    "xt = x[pulled_idx, :]\n",
    "zt = z[pulled_idx, :]\n",
    "y = np.dot(x, beta_star) + eta\n",
    "yt = y[pulled_idx]"
   ]
  },
  {
   "cell_type": "code",
   "execution_count": 26,
   "metadata": {
    "scrolled": true
   },
   "outputs": [
    {
     "name": "stderr",
     "output_type": "stream",
     "text": [
      "100%|██████████| 100/100 [00:26<00:00,  3.75it/s]\n",
      "100%|██████████| 100/100 [01:01<00:00,  1.63it/s]\n"
     ]
    }
   ],
   "source": [
    "lamda = 0.1 #1/T\n",
    "delta = 0.001\n",
    "seed = 1996\n",
    "S_hat = S\n",
    "nb_exp = 100\n",
    "algorithms = ['ridge','2sls']\n",
    "labels = ['OFUL$^{r}$','OFUL$^{f}$']\n",
    "# colors = ['blue','darkviolet','darkorange']#,'darkred']\n",
    "colors = ['#377eb8', '#ff7f00', '#4daf4a','#f781bf', '#a65628', '#984ea3','#999999', '#e41a1c', '#dede00']\n",
    "# s_colors = ['cyan','violet','orange']#,'red']\n",
    "regrets = np.zeros((nb_exp,len(algorithms),T))\n",
    "pred_norms = np.zeros((nb_exp,len(algorithms),T))\n",
    "x_inv_norms = np.zeros((nb_exp,len(algorithms),T))\n",
    "# beta_hat_ridge = np.zeros((nb_exp,T,d))\n",
    "beta_hat = np.zeros((nb_exp, len(algorithms), T,d))\n",
    "\n",
    "for i,a in enumerate(algorithms):\n",
    "    regrets[:,i,:], pred_norms[:,i,:], x_inv_norms[:,i,:], beta_hat[:, i, :,:] = runit(nb_exp, Z, X, beta_star, S_hat, sigma_1, sigma_2, lamda, delta, seed, eps, a)"
   ]
  },
  {
   "cell_type": "code",
   "execution_count": 30,
   "metadata": {},
   "outputs": [
    {
     "name": "stdout",
     "output_type": "stream",
     "text": [
      "0.0\n",
      "2.834008939400128\n",
      "6.274238959435114\n",
      "[10.42427725  9.6183226  10.4289938   9.44469759  9.20004203 10.94304065\n",
      " 10.99009364  9.74968379 10.16916147  9.52121444  8.93704074 10.49929368\n",
      " 10.95202454  8.81844519  9.50837234  8.79337967 10.04153494 10.0724303\n",
      "  9.25626347  9.3107922 ]\n",
      "[ 9.73786943  9.99922578 11.43355937 10.45774651  9.79914718 12.06852277\n",
      " 11.35931256 10.38172439 10.37811147  9.60741077  9.32525737  9.55369984\n",
      " 10.49988603  8.43157846  9.684034    8.61033957 10.4766802  10.41027038\n",
      "  8.89253404 10.43698789]\n",
      "[ 8.65119176 11.02347262  9.30189893 10.83641824 10.00628431 11.92483492\n",
      " 10.37812346 12.65671274 10.12648057  9.2771293   9.46148927  8.74518242\n",
      " 10.13239287  9.64080034  9.20177584  8.51180212 10.1423347  11.39217671\n",
      "  9.95235776 12.97550959]\n"
     ]
    }
   ],
   "source": [
    "# print(np.linalg.norm(beta_hat[:, 0, -1, :]-beta_star, axis=1).mean())\n",
    "# print(np.linalg.norm(beta_hat[:, 1, -1, :]-beta_star, axis=1).mean())\n",
    "\n",
    "print(np.linalg.norm((beta_star-beta_star).mean(axis=0)))\n",
    "print(np.linalg.norm((beta_hat[:, 0, -1, :]-beta_star).mean(axis=0)))\n",
    "print(np.linalg.norm((beta_hat[:, 1, -1, :]-beta_star).mean(axis=0)))\n",
    "# print(np.linalg.norm(beta_hat_2sls[0, -1,:]-beta_star))\n",
    "\n",
    "mean_beta_ridge = beta_hat[:, 0, -1, :].mean(axis=0)\n",
    "mean_beta_2sls = beta_hat[:, 1, -1, :].mean(axis=0)\n",
    "print(beta_star) \n",
    "print(mean_beta_ridge) \n",
    "print(mean_beta_2sls)\n",
    "\n",
    "# std_beta_ridge = beta_hat_ridge[0, :, :].std(axis=0)\n",
    "# mean_beta_2SLS = beta_hat_2sls[1, :, :].mean(axis=0)\n",
    "# std_beta_2SLS = beta_hat_2sls[1, :, :].std(axis=0)\n",
    "# mean_beta_star = beta_star\n",
    "# std_beta_star = beta_star\n",
    "\n",
    "\n",
    "# # Here I make comparisons with mean values for different iterations and final estimates of beta\n",
    "\n",
    "# mean_beta_ridge = store_betas[0, :, :].mean(axis=0)\n",
    "# std_beta_ridge = store_betas[0, :, :].std(axis=0)\n",
    "# mean_beta_2SLS = store_betas[1, :, :].mean(axis=0)\n",
    "# std_beta_2SLS = store_betas[1, :, :].std(axis=0)\n",
    "# mean_beta_star = store_betas[2, :, :].mean(axis=0)\n",
    "# std_beta_star = store_betas[2, :, :].std(axis=0)\n",
    "\n",
    "# print(\"||beta - mean_s|| = \", round(np.linalg.norm(beta_star-mean_beta_star),4), \"\\tbeta = \", beta_star, \"\\t\\tstd=\", std_beta_star)\n",
    "# print(\"||beta - mean_r|| = \", round(np.linalg.norm(beta_star-mean_beta_ridge),4),  \"\\tbeta_r = \", betas[0], \"\\tstd=\", std_beta_ridge)\n",
    "# print(\"||beta - mean_IV|| = \", round(np.linalg.norm(beta_star-mean_beta_2SLS),4), \"\\tbeta_IV = \", betas[1], \"\\tstd=\", std_beta_2SLS)\n",
    "# print(\"L_Z is: \", round(L_Z,4))\n",
    "# print(\"L_X is: \", round(L_X,4))\n",
    "# print(\"L_y is: \",round(L_y,4))\n",
    "# print(\"max |eta_t| is: \", max(abs(eta)))\n",
    "# print(methods)\n",
    "# print(np.sqrt(((betas-beta_star)**2).sum(axis=1)))\n"
   ]
  },
  {
   "cell_type": "code",
   "execution_count": null,
   "metadata": {},
   "outputs": [],
   "source": []
  },
  {
   "cell_type": "markdown",
   "metadata": {},
   "source": [
    "### Regret"
   ]
  },
  {
   "cell_type": "code",
   "execution_count": 28,
   "metadata": {
    "scrolled": true
   },
   "outputs": [
    {
     "data": {
      "image/png": "[encoded data removed]",
      "text/plain": [
       "<Figure size 432x288 with 1 Axes>"
      ]
     },
     "metadata": {
      "needs_background": "light"
     },
     "output_type": "display_data"
    }
   ],
   "source": [
    "mean_regret = np.cumsum(regrets.mean(axis=0),axis=1)\n",
    "fst_quantile_regret = np.cumsum(np.quantile(regrets,0.25,axis=0),axis=1)\n",
    "thd_quantile_regret = np.cumsum(np.quantile(regrets,0.75,axis=0),axis=1)\n",
    "std_regret = np.cumsum(regrets,axis=2).std(axis=0)\n",
    "# _ = np.log(lamda+(X_max**2)*np.arange(1,T+1)/d)\n",
    "\n",
    "labels = ['OFUL','OFUL$^{IV}$']\n",
    "\n",
    "\n",
    "for i,a in enumerate(algorithms):\n",
    "#     plt.plot(np.divide(mean_regret[i],np.sqrt(T*d*_*np.arange(1,T+1))),label=labels[i],color=colors[i])\n",
    "    plt.plot(mean_regret[i],label=labels[i],color=colors[i])\n",
    "#     plt.fill_between(np.arange(T),np.divide(fst_quantile_regret[i],np.sqrt(T*d*_*np.arange(1,T+1))),np.divide(thd_quantile_regret[i],np.sqrt(T*d*_*np.arange(1,T+1))),color=colors[i],alpha=0.2)\n",
    "    plt.fill_between(np.arange(T),fst_quantile_regret[i],thd_quantile_regret[i],color=colors[i],alpha=0.2)\n",
    "    plt.plot(fst_quantile_regret[i],color=colors[i],linestyle=\"dashed\")\n",
    "    plt.plot(thd_quantile_regret[i],color=colors[i],linestyle=\"dashed\")\n",
    "#     plt.fill_between(np.arange(T),mean_regret[i]-std_regret[i],mean_regret[i]+std_regret[i],alpha=0.1)\n",
    "log_ = np.log(lamda+np.arange(1,T+1)/d)\n",
    "# plt.plot(4*np.sqrt(T*d*log_)*(np.sqrt(lamda)*S_hat+sigma*np.sqrt(2*np.log(1/delta)+d*(log_-np.log(lamda)))),label=\"bound\",linestyle=\"dashed\")\n",
    "# plt.xscale('log')\n",
    "plt.yscale('log')\n",
    "plt.xlabel(\"round t\")\n",
    "plt.ylabel('Cumulative Bandit regret')\n",
    "# plt.ylim([0,500])\n",
    "# plt.plot(np.cumsum(regret[:,1,:].mean(axis=0)),label='forward')\n",
    "# plt.plot(np.cumsum(regret,axis=1).std(axis=0))\n",
    "plt.legend()\n",
    "# plt.savefig(folder+\"lamda_\"+str(lamda)+'_sigma_'+str(sigma)+\"_X_\"+str(X_max)+\"_S_\"+str(S)+\"_delta_\"+str(delta)+\".pdf\",bbox_inches='tight')\n",
    "plt.show()"
   ]
  },
  {
   "cell_type": "markdown",
   "metadata": {},
   "source": [
    "In the following cells, we visualize how the parameter estimate's norm evolves over time, this is not discussed in the paper, but it allows us to see how much the ``bounded predictions'' assumption is violated "
   ]
  },
  {
   "cell_type": "markdown",
   "metadata": {},
   "source": [
    "### Prediction norms"
   ]
  },
  {
   "cell_type": "code",
   "execution_count": null,
   "metadata": {},
   "outputs": [],
   "source": [
    "mean_norms = pred_norms.mean(axis=0)\n",
    "plt.plot(mean_norms[0]-mean_norms[1])\n",
    "# plt.plot(np.cumsum(regret[:,1,:].mean(axis=0)),label='forward')\n",
    "# plt.plot(np.cumsum(regret,axis=1).std(axis=0))\n",
    "plt.legend()\n",
    "# plt.yscale(\"log\")"
   ]
  },
  {
   "cell_type": "markdown",
   "metadata": {},
   "source": [
    "### distance of new points to old"
   ]
  },
  {
   "cell_type": "code",
   "execution_count": null,
   "metadata": {
    "scrolled": true
   },
   "outputs": [],
   "source": [
    "# Here we visualize the sum of features' norms $x_t^T G_{t}^{-1} x_t$ for both algorithms\n",
    "mean_x_inv_norms = x_inv_norms.mean(axis=0)\n",
    "plt.plot(mean_x_inv_norms[0])\n",
    "# plt.plot(np.cumsum(regret[:,1,:].mean(axis=0)),label='forward')\n",
    "# plt.plot(np.cumsum(regret,axis=1).std(axis=0))\n",
    "plt.legend()\n",
    "plt.yscale(\"log\")"
   ]
  }
 ],
 "metadata": {
  "kernelspec": {
   "display_name": "Python 3.8.13 ('rlberry-tutorial')",
   "language": "python",
   "name": "python3"
  },
  "language_info": {
   "codemirror_mode": {
    "name": "ipython",
    "version": 3
   },
   "file_extension": ".py",
   "mimetype": "text/x-python",
   "name": "python",
   "nbconvert_exporter": "python",
   "pygments_lexer": "ipython3",
   "version": "3.8.13"
  },
  "vscode": {
   "interpreter": {
    "hash": "185c3e51586cb067d2ae94a061ed0ffcde78b8afce97c48c70fcb028435374cb"
   }
  }
 },
 "nbformat": 4,
 "nbformat_minor": 2
}
