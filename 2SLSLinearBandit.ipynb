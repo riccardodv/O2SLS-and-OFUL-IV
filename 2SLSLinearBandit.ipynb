{
 "cells": [
  {
   "cell_type": "code",
   "execution_count": 1,
   "metadata": {},
   "outputs": [
    {
     "name": "stdout",
     "output_type": "stream",
     "text": [
      "/home/riccardo/RESEARCH_code/online2SLS\n"
     ]
    }
   ],
   "source": [
    "import numpy as np\n",
    "import numpy.random as ra\n",
    "import numpy.linalg as la\n",
    "from tqdm import tqdm\n",
    "import matplotlib.pyplot as plt\n",
    "import os\n",
    "print(os.getcwd())"
   ]
  },
  {
   "cell_type": "markdown",
   "metadata": {},
   "source": [
    "### Utils"
   ]
  },
  {
   "cell_type": "code",
   "execution_count": 2,
   "metadata": {},
   "outputs": [],
   "source": [
    "def sherman_morrison(invA, u, v):\n",
    "    d = u.shape[0]\n",
    "    u = u.reshape(d,1)\n",
    "    v = v.reshape(d,1)\n",
    "    return  (invA - (invA @ u @ v.T @ invA)/(1 + v.T @ invA @ u))\n",
    "    \n",
    "def calc_sqrt_b_ridge(k,sigma_2,lamda,delta,S_hat,logdetG):\n",
    "    '''Returns confidence interval width for ridge regression'''\n",
    "    return sigma_2 * np.sqrt( logdetG - k * np.log(lamda) + np.log(1/(delta**2)) ) + np.sqrt(lamda) * S_hat \n",
    "\n",
    "def calc_sqrt_b_2sls(k,sigma_2,lamda,delta,S_hat,logdetG):\n",
    "    '''Returns confidence interval width for 2SLS regression'''\n",
    "    return sigma_2 * np.sqrt( logdetG - k * np.log(lamda) + np.log(1/(delta**2)) )\n",
    "\n",
    "def runit(Z, X, Y, beta_star, S_hat, sigma_1, sigma_2,lamda, lamda_IV, delta, seed, eps, pulled_indeces, algorithm='ridge'):\n",
    "    '''function used to run an instance of linear bandits using OFUL with ridge or 2SLS regression'''\n",
    "    np.random.seed(42)\n",
    "    nb_exp, T, nb_actions, d = X.shape\n",
    "    regret = np.zeros((nb_exp,T))\n",
    "    pred_norms = np.zeros((nb_exp,T))\n",
    "    x_inv_norms = np.zeros((nb_exp,T))\n",
    "    norm_betasHat_beta = np.zeros((nb_exp, T))\n",
    "    beta_hat_ridge_rec = np.zeros((nb_exp,T,d))\n",
    "    beta_hat_2sls_rec = np.zeros((nb_exp,T,d))\n",
    "    ThetaHat_rec = np.zeros((nb_exp,T, d, d))\n",
    "        \n",
    "    for i in tqdm(range(nb_exp)):\n",
    "        \n",
    "        Gxx, invGxx = lamda*np.eye(d), np.eye(d)/lamda\n",
    "        ZXt = lamda_IV*np.eye(d)\n",
    "        invZXt = np.eye(d)/lamda_IV\n",
    "        Zyt = np.zeros(d)\n",
    "        Gzz, invGzz = 1e4*np.eye(d), np.eye(d)/lamda # is the regularizer correct here???\n",
    "        invThetaHat = np.eye(d)/lamda   \n",
    "        logdetG = d*np.log(lamda)\n",
    "        Xyt = np.zeros(d) \n",
    "        sqrt_b_ridge = calc_sqrt_b_ridge(d, sigma_2, lamda, delta, S_hat, logdetG)\n",
    "        sqrt_b_2sls = calc_sqrt_b_2sls(d, sigma_2, lamda, delta, S_hat, logdetG)\n",
    "        beta_hat_ridge = np.zeros(d)\n",
    "        beta_hat_2sls = np.zeros(d)\n",
    "\n",
    "        for t in range(T):\n",
    "            z = Z[i,t]\n",
    "            x = X[i,t]\n",
    "            y = Y[i,t]\n",
    "   \n",
    "            if algorithm == 'ridge':\n",
    "                X_invGt_norm_sq = np.sum(np.dot(x, invGxx) * x, 1)\n",
    "                x_inv_norms[i,t] = max(X_invGt_norm_sq)\n",
    "                norm_betasHat_beta[i,t] = np.linalg.norm(beta_hat_ridge-beta_star)\n",
    "                preds = np.dot(x, beta_hat_ridge)\n",
    "                pred_norms[i,t] = np.linalg.norm(preds)\n",
    "                obj = preds + sqrt_b_ridge * np.sqrt(X_invGt_norm_sq) \n",
    "\n",
    "            if algorithm == '2sls':\n",
    "                X_invThetaHat_invGt_invThetaHatT_norm_sq = np.sum((x @ invThetaHat @ invGzz @ invThetaHat.T) * x,1)\n",
    "                # X_invGt_norm_sq = np.sum(np.dot(x, invGxx) * x, 1) ###\n",
    "                # X_invThetaHat_invGt_invThetaHatT_norm_sq = np.sum((x @ inv_theta_star @ invGzz @ inv_theta_star.T) * x,1)\n",
    "                # x_inv_norms[i,t] = max(X_invThetaHat_invGt_invThetaHatT_norm_sq)\n",
    "                preds = np.dot(x, beta_hat_2sls)\n",
    "                norm_betasHat_beta[i,t] = np.linalg.norm(beta_hat_2sls-beta_star)\n",
    "                # preds = np.dot(x, beta_star) ####\n",
    "                pred_norms[i,t] = np.linalg.norm(preds)\n",
    "                obj = preds + sqrt_b_2sls * np.sqrt(X_invThetaHat_invGt_invThetaHatT_norm_sq) \n",
    "                # obj = preds + sqrt_b_ridge * np.sqrt(X_invGt_norm_sq)  ####\n",
    "\n",
    "\n",
    "            # Pull the arm with the highest estimated value\n",
    "            pulled_idx = np.argmax(obj)  \n",
    "            pulled_indeces[i,t] = pulled_idx \n",
    "            xt = x[pulled_idx, :]\n",
    "            zt = z[pulled_idx, :]\n",
    "            yt = y[pulled_idx]\n",
    "            # compute regret \n",
    "            # regret[i,t] = np.max(np.dot(x, beta_star))-np.dot(xt, beta_star) # maybe I should change this definition of regret\n",
    "            # regret[i,t] = np.max(y) - yt # maybe I should change this definition of regret\n",
    "            regret[i,t] = np.max(y) - yt\n",
    "\n",
    "            # build estimators\n",
    "            if algorithm == 'ridge':\n",
    "                Xyt += xt*yt\n",
    "                Gxx += np.outer(xt, xt)\n",
    "                tempval1 = np.dot(invGxx, xt)    # d by 1, O(d^2)\n",
    "                tempval2 = np.dot(tempval1, xt)      # scalar, O(d)\n",
    "                logdetG += np.log(1 + tempval2)\n",
    "                if (t % 20 == 0):\n",
    "                    invGxx = np.linalg.inv(Gxx)\n",
    "                else:\n",
    "                    invGxx -= np.outer(tempval1, tempval1) / (1 + tempval2) \n",
    "                beta_hat_ridge = np.dot(invGxx, Xyt)\n",
    "                sqrt_b_ridge = calc_sqrt_b_ridge(d, sigma_2, lamda, delta, S_hat, logdetG)\n",
    "                beta_hat_ridge_rec[i,t, :] = beta_hat_ridge\n",
    "                # print(beta_hat_ridge)\n",
    "            \n",
    "            if algorithm == '2sls': # check all inverse here\n",
    "                Gxx += np.outer(xt, xt)\n",
    "                Gzz += np.outer(zt, zt)  # ????? regularizer here is it correct\n",
    "                Zyt += zt*yt\n",
    "                Xyt += xt*yt\n",
    "                ZXt += np.outer(zt, xt)\n",
    "\n",
    "                tempval1 = np.dot(invGzz, zt)    # d by 1, O(d^2)\n",
    "                tempval2 = np.dot(tempval1, zt)      # scalar, O(d)\n",
    "                logdetG += np.log(1 + tempval2)\n",
    "                empval1 = np.dot(invGxx, xt)    # d by 1, O(d^2)\n",
    "                empval2 = np.dot(empval1, xt)      # scalar, O(d)\n",
    "                logdetG += np.log(1 + empval2)\n",
    "                if (t % 20 == 0) or (t<2*d):\n",
    "                    invGxx = np.linalg.inv(Gxx)\n",
    "                    invZXt = np.linalg.inv(ZXt)\n",
    "                    invGzz = np.linalg.inv(Gzz)\n",
    "                else:\n",
    "                    invGxx -= np.outer(empval1, empval1) / (1 + empval2)\n",
    "                    # invGxx = sherman_morrison(invGxx, xt, xt)\n",
    "                    invZXt = sherman_morrison(invZXt, zt, xt)\n",
    "                    invGzz -= np.outer(tempval1, tempval1) / (1 + tempval2) \n",
    "                    # invGzz = sherman_morrison(invGzz, zt, zt) \n",
    "\n",
    "                beta_hat_2sls = np.dot(invZXt, Zyt)\n",
    "                ThetaHat = invGzz @ ZXt\n",
    "                invThetaHat =  np.linalg.inv(ThetaHat)\n",
    "                sqrt_b_2sls = calc_sqrt_b_2sls(d, sigma_2, lamda, delta, S_hat, logdetG)\n",
    "                ThetaHat_rec[i,t, :, :] = ThetaHat \n",
    "                beta_hat_2sls_rec[i,t, :] = beta_hat_2sls    \n",
    "                # print(beta_hat_2sls)\n",
    "\n",
    "            \n",
    "    if algorithm == 'ridge':\n",
    "        return regret, pred_norms, x_inv_norms, beta_hat_ridge_rec, ThetaHat_rec, norm_betasHat_beta\n",
    "    elif algorithm == '2sls':   \n",
    "        return regret, pred_norms, x_inv_norms, beta_hat_2sls_rec, ThetaHat_rec, norm_betasHat_beta\n",
    "    else:\n",
    "        print(\"error\")\n"
   ]
  },
  {
   "cell_type": "markdown",
   "metadata": {},
   "source": [
    "### Experiments"
   ]
  },
  {
   "cell_type": "code",
   "execution_count": 3,
   "metadata": {},
   "outputs": [],
   "source": [
    "S, sigma_1, sigma_2 = 1, 0.01, 0.0001\n",
    "T, n_a, d = int(1e3), 200, 20\n",
    "lamda = 1 #1/T\n",
    "lamda_IV = 1e-3\n",
    "delta = 0.001\n",
    "seed = 1996\n",
    "S_hat = S\n",
    "nb_exp = 100\n",
    "pulled_indeces = np.zeros((nb_exp,T))\n"
   ]
  },
  {
   "cell_type": "code",
   "execution_count": 4,
   "metadata": {},
   "outputs": [],
   "source": [
    "theta_star = np.random.randn(d,d); #  theta_star *= 1/np.linalg.norm(theta_star) #maybe this can be changed\n",
    "inv_theta_star = np.linalg.inv(theta_star)\n",
    "beta_star = np.random.multivariate_normal([10 for i in range(d)], np.eye(d)).reshape(-1,) ; beta_star *= S/np.linalg.norm(beta_star)\n",
    "\n",
    "# first stage\n",
    "# X_max = 100\n",
    "Z = np.random.randn(nb_exp, T, n_a, d) #; Z /= np.max(np.linalg.norm(Z,axis=2))/X_max\n",
    "eps = sigma_1*np.random.randn(nb_exp, T, n_a, d)\n",
    "# eps = np.zeros((T,d))\n",
    "X = np.dot(Z, theta_star) + eps\n",
    "\n",
    "# second stage\n",
    "ee = d//4\n",
    "eta_tilde = np.random.randn(nb_exp, T, n_a) \n",
    "# eta = (eta_tilde + np.sum(eps[:,:,:,:ee]))/(1+ee*sigma_1)*sigma_2\n",
    "eta = sigma_2 * (eta_tilde + eps[:,:,:,:ee].sum(axis=-1))\n",
    "X = X / np.max(np.linalg.norm(X, axis=3, keepdims = True), axis=2, keepdims=True) \n",
    "Y = np.dot(X, beta_star) + eta"
   ]
  },
  {
   "cell_type": "code",
   "execution_count": 5,
   "metadata": {},
   "outputs": [],
   "source": [
    "algorithms = ['ridge','2sls']\n",
    "labels = ['OFUL$^{r}$','OFUL$^{f}$']\n",
    "# colors = ['blue','darkviolet','darkorange']#,'darkred']\n",
    "colors = ['#377eb8', '#ff7f00', '#4daf4a','#f781bf', '#a65628', '#984ea3','#999999', '#e41a1c', '#dede00']\n",
    "# s_colors = ['cyan','violet','orange']#,'red']"
   ]
  },
  {
   "cell_type": "code",
   "execution_count": 6,
   "metadata": {
    "scrolled": true
   },
   "outputs": [
    {
     "name": "stderr",
     "output_type": "stream",
     "text": [
      "100%|██████████| 100/100 [00:19<00:00,  5.03it/s]\n",
      "100%|██████████| 100/100 [01:01<00:00,  1.62it/s]\n"
     ]
    }
   ],
   "source": [
    "regrets = np.zeros((nb_exp,len(algorithms),T))\n",
    "pred_norms = np.zeros((nb_exp,len(algorithms),T))\n",
    "x_inv_norms = np.zeros((nb_exp,len(algorithms),T))\n",
    "# beta_hat_ridge = np.zeros((nb_exp,T,d))\n",
    "beta_hat = np.zeros((nb_exp, len(algorithms), T,d))\n",
    "theta_hat = np.zeros((nb_exp, len(algorithms), T, d, d))\n",
    "beta_error = np.zeros((nb_exp, len(algorithms), T))\n",
    "\n",
    "for i,a in enumerate(algorithms):\n",
    "    regrets[:,i,:], pred_norms[:,i,:], x_inv_norms[:,i,:], beta_hat[:, i, :,:] , theta_hat[:, i, :,:, :], beta_error[:,i,:] = runit(Z, X, Y, beta_star, S_hat, sigma_1, sigma_2, lamda, lamda_IV, delta, seed, eps, pulled_indeces, a)"
   ]
  },
  {
   "cell_type": "code",
   "execution_count": 7,
   "metadata": {},
   "outputs": [
    {
     "name": "stdout",
     "output_type": "stream",
     "text": [
      "||betaHat_ridge - beta|| =  0.596028998707504\n",
      "||betaHat_IV - beta|| =  9.019565721579184e-05\n",
      "||thetaHat - theta|| =  21.099094065278333\n"
     ]
    }
   ],
   "source": [
    "# print(\"||beta - beta|| = \", np.linalg.norm((beta_star-beta_star).mean(axis=0)))\n",
    "print(\"||betaHat_ridge - beta|| = \", np.linalg.norm((beta_hat[:, 0, -1, :]-beta_star).mean(axis=0)))\n",
    "print(\"||betaHat_IV - beta|| = \", np.linalg.norm((beta_hat[:, 1, -1, :]-beta_star).mean(axis=0)))\n",
    "\n",
    "# print(np.linalg.norm((theta_star - np.array([0.]))))\n",
    "# print(np.linalg.norm((theta_hat[:, 0, -1, :, :]-theta_star).mean(axis=0)))\n",
    "print(\"||thetaHat - theta|| = \", np.linalg.norm((theta_hat[:, 1, -1, :, :]-theta_star).mean(axis=0)))\n",
    "\n",
    "# mean_beta_ridge = beta_hat[:, 0, -1, :].mean(axis=0)\n",
    "# mean_beta_2sls = beta_hat[:, 1, -1, :].mean(axis=0)\n",
    "# print(beta_star) \n",
    "# print(mean_beta_ridge) \n",
    "# print(mean_beta_2sls)"
   ]
  },
  {
   "cell_type": "code",
   "execution_count": 8,
   "metadata": {},
   "outputs": [
    {
     "data": {
      "text/plain": [
       "array([[128., 113.,  84., ...,  32., 102.,  77.],\n",
       "       [162., 106.,  38., ...,   0.,  83.,  50.],\n",
       "       [  0., 164., 175., ..., 111.,  57.,  58.],\n",
       "       ...,\n",
       "       [169., 126., 119., ..., 158.,  49.,  64.],\n",
       "       [181.,   8., 109., ..., 125.,  72.,  89.],\n",
       "       [ 27., 125., 111., ..., 140.,  54.,  18.]])"
      ]
     },
     "execution_count": 8,
     "metadata": {},
     "output_type": "execute_result"
    }
   ],
   "source": [
    "pulled_indeces"
   ]
  },
  {
   "cell_type": "markdown",
   "metadata": {},
   "source": [
    "### Regret"
   ]
  },
  {
   "cell_type": "code",
   "execution_count": 9,
   "metadata": {
    "scrolled": true
   },
   "outputs": [
    {
     "data": {
      "image/png": "[encoded data removed]",
      "text/plain": [
       "<Figure size 432x288 with 1 Axes>"
      ]
     },
     "metadata": {
      "needs_background": "light"
     },
     "output_type": "display_data"
    },
    {
     "data": {
      "text/plain": [
       "<Figure size 432x288 with 0 Axes>"
      ]
     },
     "metadata": {},
     "output_type": "display_data"
    }
   ],
   "source": [
    "mean_regret = np.cumsum(regrets.mean(axis=0),axis=1)\n",
    "std_regret = np.cumsum(regrets.std(axis=0),axis=1)\n",
    "\n",
    "\n",
    "fst_quantile_regret = np.cumsum(np.quantile(regrets,0.25,axis=0),axis=1)\n",
    "scd_quantile_regret = np.cumsum(np.quantile(regrets,0.5,axis=0),axis=1)\n",
    "thd_quantile_regret = np.cumsum(np.quantile(regrets,0.75,axis=0),axis=1)\n",
    "# _ = np.log(lamda+(X_max**2)*np.arange(1,T+1)/d)\n",
    "\n",
    "labels = ['OFUL','OFUL$^{IV}$']\n",
    "\n",
    "for i,a in enumerate(algorithms):\n",
    "#     plt.plot(np.divide(mean_regret[i],np.sqrt(T*d*_*np.arange(1,T+1))),label=labels[i],color=colors[i])\n",
    "    # plt.plot(mean_regret[i],label=labels[i],color=colors[i])\n",
    "#     plt.fill_between(np.arange(T),np.divide(fst_quantile_regret[i],np.sqrt(T*d*_*np.arange(1,T+1))),np.divide(thd_quantile_regret[i],np.sqrt(T*d*_*np.arange(1,T+1))),color=colors[i],alpha=0.2)\n",
    "    plt.fill_between(np.arange(T),fst_quantile_regret[i],thd_quantile_regret[i],color=colors[i],alpha=0.2)\n",
    "    plt.plot(fst_quantile_regret[i],color=colors[i],linestyle=\"dashed\")\n",
    "    plt.plot(scd_quantile_regret[i],color=colors[i],linestyle=\"solid\", label = labels[i])\n",
    "    plt.plot(thd_quantile_regret[i],color=colors[i],linestyle=\"dashed\")\n",
    "    # plt.fill_between(np.arange(T),mean_regret[i]-std_regret[i],mean_regret[i]+std_regret[i],alpha=0.1)\n",
    "# log_ = np.log(lamda+np.arange(1,T+1)/d)\n",
    "# plt.plot(4*np.sqrt(T*d*log_)*(np.sqrt(lamda)*S_hat+sigma*np.sqrt(2*np.log(1/delta)+d*(log_-np.log(lamda)))),label=\"bound\",linestyle=\"dashed\")\n",
    "# plt.xscale('log')\n",
    "plt.yscale('log')\n",
    "plt.xlabel(\"round t\")\n",
    "plt.ylabel('Cumulative Bandit regret')\n",
    "# plt.xlim([0,50])\n",
    "# plt.plot(np.cumsum(regret[:,1,:].mean(axis=0)),label='forward')\n",
    "# plt.plot(np.cumsum(regret,axis=1).std(axis=0))\n",
    "plt.legend()\n",
    "plt.show()\n",
    "plt.savefig(\"cumulative_regret.pdf\", format='pdf')"
   ]
  },
  {
   "cell_type": "code",
   "execution_count": 10,
   "metadata": {},
   "outputs": [
    {
     "data": {
      "image/png": "[encoded data removed]",
      "text/plain": [
       "<Figure size 432x288 with 1 Axes>"
      ]
     },
     "metadata": {
      "needs_background": "light"
     },
     "output_type": "display_data"
    },
    {
     "data": {
      "text/plain": [
       "<Figure size 432x288 with 0 Axes>"
      ]
     },
     "metadata": {},
     "output_type": "display_data"
    }
   ],
   "source": [
    "start = 0\n",
    "mean_regret = np.cumsum(regrets.mean(axis=0)[:,start:] ,axis=1)\n",
    "std_regret = np.cumsum(regrets.std(axis=0)[:,start:],axis=1)\n",
    "\n",
    "fst_quantile_regret = np.cumsum(np.quantile(regrets[:,:,start:],0.25,axis=0),axis=1)\n",
    "scd_quantile_regret = np.cumsum(np.quantile(regrets[:,:,start:],0.5,axis=0),axis=1)\n",
    "thd_quantile_regret = np.cumsum(np.quantile(regrets[:,:,start:],0.75,axis=0),axis=1)\n",
    "\n",
    "labels = ['OFUL','OFUL$^{IV}$']\n",
    "\n",
    "for i,a in enumerate(algorithms):\n",
    "#     plt.plot(np.divide(mean_regret[i],np.sqrt(T*d*_*np.arange(1,T+1))),label=labels[i],color=colors[i])\n",
    "    # plt.plot(mean_regret[i],label=labels[i],color=colors[i])\n",
    "    # plt.fill_between(np.arange(T-start),np.divide(fst_quantile_regret[i],np.sqrt(T*d*_*np.arange(1,T+1))),np.divide(thd_quantile_regret[i],np.sqrt(T*d*_*np.arange(1,T+1))),color=colors[i],alpha=0.2)\n",
    "    plt.fill_between(np.arange(T-start),fst_quantile_regret[i],thd_quantile_regret[i],color=colors[i],alpha=0.2)\n",
    "    plt.plot(fst_quantile_regret[i],color=colors[i],linestyle=\"dashed\")\n",
    "    plt.plot(scd_quantile_regret[i],color=colors[i],linestyle=\"solid\", label = labels[i])\n",
    "    plt.plot(thd_quantile_regret[i],color=colors[i],linestyle=\"dashed\")\n",
    "    # plt.fill_between(np.arange(T-start),mean_regret[i]-std_regret[i],mean_regret[i]+std_regret[i],alpha=0.1)\n",
    "# log_ = np.log(lamda+np.arange(1,T+1)/d)\n",
    "# plt.plot(4*np.sqrt(T*d*log_)*(np.sqrt(lamda)*S_hat+sigma*np.sqrt(2*np.log(1/delta)+d*(log_-np.log(lamda)))),label=\"bound\",linestyle=\"dashed\")\n",
    "# plt.xscale('log')\n",
    "plt.yscale('symlog')\n",
    "plt.xlabel(\"round t\")\n",
    "plt.ylabel('Cumulative Bandit regret')\n",
    "# plt.xlim([0,50])\n",
    "# plt.plot(np.cumsum(regret[:,1,:].mean(axis=0)),label='forward')\n",
    "# plt.plot(np.cumsum(regret,axis=1).std(axis=0))\n",
    "plt.legend()\n",
    "plt.show()\n",
    "plt.savefig(\"cumulative_regret_warm_start.pdf\", format='pdf')"
   ]
  },
  {
   "cell_type": "code",
   "execution_count": 37,
   "metadata": {},
   "outputs": [
    {
     "data": {
      "image/png": "[encoded data removed]",
      "text/plain": [
       "<Figure size 432x288 with 1 Axes>"
      ]
     },
     "metadata": {
      "needs_background": "light"
     },
     "output_type": "display_data"
    }
   ],
   "source": [
    "mean_regret = regrets.mean(axis=0)\n",
    "std_regret = regrets.std(axis=0)\n",
    "\n",
    "\n",
    "fst_quantile_regret = np.quantile(regrets,0.25,axis=0)\n",
    "scd_quantile_regret = np.quantile(regrets,0.5,axis=0)\n",
    "thd_quantile_regret = np.quantile(regrets,0.75,axis=0)\n",
    "# _ = np.log(lamda+(X_max**2)*np.arange(1,T+1)/d)\n",
    "\n",
    "labels = ['OFUL','OFUL-IV']\n",
    "\n",
    "for i,a in enumerate(algorithms):\n",
    "    plt.plot(mean_regret[i],label=labels[i],color=colors[i])\n",
    "    plt.fill_between(np.arange(T),mean_regret[i]-std_regret[i],mean_regret[i]+std_regret[i],alpha=0.4)\n",
    "\n",
    "    # plt.fill_between(np.arange(T),fst_quantile_regret[i],thd_quantile_regret[i],color=colors[i],alpha=0.2)\n",
    "    # plt.plot(fst_quantile_regret[i],color=colors[i],linestyle=\"dashed\")\n",
    "    # plt.plot(scd_quantile_regret[i],color=colors[i],linestyle=\"solid\", label = labels[i])\n",
    "    # plt.plot(thd_quantile_regret[i],color=colors[i],linestyle=\"dashed\")\n",
    "# log_ = np.log(lamda+np.arange(1,T+1)/d)\n",
    "# plt.plot(4*np.sqrt(T*d*log_)*(np.sqrt(lamda)*S_hat+sigma*np.sqrt(2*np.log(1/delta)+d*(log_-np.log(lamda)))),label=\"bound\",linestyle=\"dashed\")\n",
    "# plt.xscale('log')\n",
    "plt.yscale('log')\n",
    "plt.xlabel(\"round t\")\n",
    "plt.ylabel('instantaneous regret')\n",
    "# plt.xlim([0,50])\n",
    "# plt.plot(np.cumsum(regret[:,1,:].mean(axis=0)),label='forward')\n",
    "# plt.plot(np.cumsum(regret,axis=1).std(axis=0))\n",
    "plt.legend()\n",
    "plt.savefig(\"B_instantaneous_regret.pdf\", format='pdf')"
   ]
  },
  {
   "cell_type": "code",
   "execution_count": 38,
   "metadata": {},
   "outputs": [
    {
     "data": {
      "image/png": "[encoded data removed]",
      "text/plain": [
       "<Figure size 432x288 with 1 Axes>"
      ]
     },
     "metadata": {
      "needs_background": "light"
     },
     "output_type": "display_data"
    }
   ],
   "source": [
    "mean_beta_errors = beta_error.mean(axis=0)\n",
    "std_beta_errors = beta_error.std(axis=0)\n",
    "\n",
    "fst_quantile_beta_error = np.quantile(beta_error,0.25,axis=0)\n",
    "scd_quantile_beta_error = np.quantile(beta_error,0.5,axis=0)\n",
    "thd_quantile_beta_error = np.quantile(beta_error,0.75,axis=0)\n",
    "\n",
    "labels = ['OFUL','OFUL-IV']\n",
    "for i,a in enumerate(algorithms):\n",
    "    plt.plot(mean_beta_errors[i,:], label= labels[i])\n",
    "    plt.fill_between(np.arange(T),mean_beta_errors[i]-std_beta_errors[i],mean_beta_errors[i]+std_beta_errors[i],alpha=0.4)\n",
    "\n",
    "    # plt.fill_between(np.arange(T),fst_quantile_beta_error[i],thd_quantile_beta_error[i],color=colors[i],alpha=0.2)\n",
    "    # plt.plot(fst_quantile_beta_error[i],color=colors[i],linestyle=\"dashed\")\n",
    "    # plt.plot(scd_quantile_beta_error[i],color=colors[i],linestyle=\"solid\", label = labels[i])\n",
    "    # plt.plot(thd_quantile_beta_error[i],color=colors[i],linestyle=\"dashed\")\n",
    "plt.legend()\n",
    "plt.xlabel(\"round t\")\n",
    "plt.ylabel('MSE')\n",
    "plt.yscale(\"log\")\n",
    "plt.savefig(\"B_beta_error.pdf\", format='pdf')"
   ]
  },
  {
   "cell_type": "code",
   "execution_count": 36,
   "metadata": {},
   "outputs": [],
   "source": [
    "SMALL_SIZE = 8\n",
    "MEDIUM_SIZE = 10\n",
    "BIGGER_SIZE = 16\n",
    "\n",
    "plt.rc('font', size=SMALL_SIZE)          # controls default text sizes\n",
    "plt.rc('axes', titlesize=SMALL_SIZE)     # fontsize of the axes title\n",
    "plt.rc('axes', labelsize=BIGGER_SIZE)    # fontsize of the x and y labels\n",
    "plt.rc('xtick', labelsize=MEDIUM_SIZE)    # fontsize of the tick labels\n",
    "plt.rc('ytick', labelsize=MEDIUM_SIZE)    # fontsize of the tick labels\n",
    "plt.rc('legend', fontsize=BIGGER_SIZE)    # legend fontsize\n",
    "plt.rc('figure', titlesize=BIGGER_SIZE)  # fontsize of the figure title"
   ]
  },
  {
   "cell_type": "markdown",
   "metadata": {},
   "source": []
  }
 ],
 "metadata": {
  "kernelspec": {
   "display_name": "rlberry",
   "language": "python",
   "name": "rlberry"
  },
  "language_info": {
   "codemirror_mode": {
    "name": "ipython",
    "version": 3
   },
   "file_extension": ".py",
   "mimetype": "text/x-python",
   "name": "python",
   "nbconvert_exporter": "python",
   "pygments_lexer": "ipython3",
   "version": "3.8.12"
  },
  "vscode": {
   "interpreter": {
    "hash": "185c3e51586cb067d2ae94a061ed0ffcde78b8afce97c48c70fcb028435374cb"
   }
  }
 },
 "nbformat": 4,
 "nbformat_minor": 2
}
